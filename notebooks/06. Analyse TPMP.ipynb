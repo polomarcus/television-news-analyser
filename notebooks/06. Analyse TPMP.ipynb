{
 "cells": [
  {
   "cell_type": "code",
   "execution_count": 1,
   "id": "f6a774c2",
   "metadata": {},
   "outputs": [],
   "source": [
    "import pandas as pd\n",
    "import psycopg2\n",
    "import json\n",
    "import datetime\n",
    "%matplotlib inline"
   ]
  },
  {
   "cell_type": "code",
   "execution_count": 206,
   "id": "2b521f68",
   "metadata": {},
   "outputs": [],
   "source": [
    "pd.set_option(\"display.max_colwidth\", 500)"
   ]
  },
  {
   "cell_type": "code",
   "execution_count": 173,
   "id": "24bfce1d",
   "metadata": {},
   "outputs": [],
   "source": [
    "db_lexico = psycopg2.connect(**json.load(open('data/db_lexico.json')))"
   ]
  },
  {
   "cell_type": "code",
   "execution_count": 174,
   "id": "253307f4",
   "metadata": {},
   "outputs": [],
   "source": [
    "today = datetime.date.today()\n",
    "weekday = today.weekday()\n",
    "start_delta = datetime.timedelta(days=weekday, weeks=1)\n",
    "last_week_start = today - start_delta\n",
    "last_week_end = last_week_start + datetime.timedelta(days=5)"
   ]
  },
  {
   "cell_type": "code",
   "execution_count": 271,
   "id": "4358ce0b",
   "metadata": {},
   "outputs": [
    {
     "name": "stdout",
     "output_type": "stream",
     "text": [
      "week : 2022-02-28\n",
      "KO - 2022-02-28\n",
      "KO - 2022-03-01\n",
      "KO - 2022-03-02\n",
      "KO - 2022-03-03\n",
      "KO - 2022-03-04\n",
      "week : 2022-03-07\n",
      "KO - 2022-03-07\n",
      "KO - 2022-03-08\n",
      "KO - 2022-03-09\n",
      "KO - 2022-03-10\n",
      "KO - 2022-03-11\n",
      "week : 2022-03-14\n",
      "KO - 2022-03-14\n",
      "KO - 2022-03-15\n",
      "KO - 2022-03-16\n",
      "KO - 2022-03-17\n",
      "KO - 2022-03-18\n",
      "week : 2022-03-21\n",
      "2022-03-21\n",
      "2022-03-22\n",
      "2022-03-23\n",
      "2022-03-24\n",
      "2022-03-25\n"
     ]
    }
   ],
   "source": [
    "data = None\n",
    "for w in reversed(range(4)):\n",
    "    week_start = last_week_start - datetime.timedelta(days=w*7)\n",
    "    print(f\"week : {week_start}\")\n",
    "    for d in range(5):\n",
    "        day = week_start  + datetime.timedelta(days=d)\n",
    "        data_day = pd.read_sql(f'''select * from core_word \n",
    "                       where channel_id = 7 \n",
    "                       and \"dateTime\" >= '{day.strftime('%Y-%m-%d)')} 18:45:00' \n",
    "                       and \"dateTime\" <= '{day.strftime('%Y-%m-%d)')} 20:20:00' \n",
    "                       ''', db_lexico)\n",
    "        if len(data_day) == 0:\n",
    "            print(f'KO - {day}')\n",
    "            continue\n",
    "        print(day)\n",
    "        if data is None:\n",
    "            data = data_day\n",
    "        else:\n",
    "            data = data.append(data_day)"
   ]
  },
  {
   "cell_type": "code",
   "execution_count": 274,
   "id": "aaa826f9",
   "metadata": {},
   "outputs": [
    {
     "data": {
      "text/plain": [
       "62574"
      ]
     },
     "execution_count": 274,
     "metadata": {},
     "output_type": "execute_result"
    }
   ],
   "source": [
    "len(data)"
   ]
  },
  {
   "cell_type": "code",
   "execution_count": 275,
   "id": "80d612e7",
   "metadata": {},
   "outputs": [],
   "source": [
    "data = data.sort_values(\"dateTime\")"
   ]
  },
  {
   "cell_type": "code",
   "execution_count": 276,
   "id": "74c7ca08",
   "metadata": {},
   "outputs": [],
   "source": [
    "data[\"context_before\"] = [\" \".join(data.word.iloc[max(0, k-50):k].to_list()) for k in range(len(data))]"
   ]
  },
  {
   "cell_type": "code",
   "execution_count": 277,
   "id": "815b4dda",
   "metadata": {},
   "outputs": [],
   "source": [
    "data[\"context_after\"] = [\" \".join(data.word.iloc[k+1:min(k+50, len(data))].to_list()) for k in range(len(data))]"
   ]
  },
  {
   "cell_type": "code",
   "execution_count": 278,
   "id": "35502638",
   "metadata": {},
   "outputs": [
    {
     "data": {
      "text/html": [
       "<div>\n",
       "<style scoped>\n",
       "    .dataframe tbody tr th:only-of-type {\n",
       "        vertical-align: middle;\n",
       "    }\n",
       "\n",
       "    .dataframe tbody tr th {\n",
       "        vertical-align: top;\n",
       "    }\n",
       "\n",
       "    .dataframe thead th {\n",
       "        text-align: right;\n",
       "    }\n",
       "</style>\n",
       "<table border=\"1\" class=\"dataframe\">\n",
       "  <thead>\n",
       "    <tr style=\"text-align: right;\">\n",
       "      <th></th>\n",
       "      <th>id</th>\n",
       "      <th>dateTime</th>\n",
       "      <th>word</th>\n",
       "      <th>lemma</th>\n",
       "      <th>channel_id</th>\n",
       "      <th>context_before</th>\n",
       "      <th>context_after</th>\n",
       "    </tr>\n",
       "  </thead>\n",
       "  <tbody>\n",
       "    <tr>\n",
       "      <th>9558</th>\n",
       "      <td>171952161</td>\n",
       "      <td>2022-03-21 19:56:43.111603+00:00</td>\n",
       "      <td>en</td>\n",
       "      <td>en</td>\n",
       "      <td>7</td>\n",
       "      <td>de plus en plus beau on peut dire ça oui toi oui comment ça tourne bien moi ça va ma gueule euh marco je trouve donc ce soir parce que ça fait longtemps qu on en parlait tous les deux marco e c est un gars voilà qui a grandi</td>\n",
       "      <td>banlieue il le dit tout le temps et il voulait être en face deux de stanislas l'ego de quelques uns qui voilà qui qui qui soutient éric zemmour alors stanislas rigaud racontez-nous ce qui vous est arrivé c'était vendredi après le meeting d'eric zemmour quoi il attend donc bonjour</td>\n",
       "    </tr>\n",
       "    <tr>\n",
       "      <th>4070</th>\n",
       "      <td>176049688</td>\n",
       "      <td>2022-03-23 19:20:34.806988+00:00</td>\n",
       "      <td>jean</td>\n",
       "      <td>jean</td>\n",
       "      <td>7</td>\n",
       "      <td>les syriens euh on va passer aux quarts d'heure sans filtre avant de revenir sur cette rumeur sur emmanuel macron a démenti d'ailleurs euh ce numero norfolk pour ça devient n'importe quoi euh depuis un mois maintenant vous le savez la guerre fait rage en ukraine et le premier ministre</td>\n",
       "      <td>castex annoncer quelque chose cent mille places d'hébergement euh pour euh ben euh pour euh pour les réfugiés ukrainiens alors bien sûr il y a beaucoup de gens qui sont courts et il y a certaines personnes qui ont grincé des dents e junon juillet deux brillance un source</td>\n",
       "    </tr>\n",
       "    <tr>\n",
       "      <th>7311</th>\n",
       "      <td>173998425</td>\n",
       "      <td>2022-03-22 19:50:14.699305+00:00</td>\n",
       "      <td>en</td>\n",
       "      <td>en</td>\n",
       "      <td>7</td>\n",
       "      <td>et d'ailleurs c'est grâce à ces personnes-là que chloe gérard garnier remercia gentiment à cette folie tarse remercie aussi également sexuellement c'était ouais ça va ça vous a blessé quand même les choses que vous avez lu ça m'a blessé parce que comme vous étiez je me suis pas reconnue</td>\n",
       "      <td>fait je me suis clairement pas reconnu et on se critiquer quelque inquiétez pas vous critiquer quelqu'un qui était prêt c'était moi mais c'est exactement moi a déjà des personnalités aux alentours restaurant déjà les personnes qui ne va pas faire la différence entre eux la télé et ceux</td>\n",
       "    </tr>\n",
       "    <tr>\n",
       "      <th>10745</th>\n",
       "      <td>178218744</td>\n",
       "      <td>2022-03-24 20:02:49.144694+00:00</td>\n",
       "      <td>ça</td>\n",
       "      <td>cela</td>\n",
       "      <td>7</td>\n",
       "      <td>a pas mais quand est-ce qu'elle est là et les charges ont précédé passé qui est grave c'est la forme grave c'est ça qui est grave alors ma revanche si je te passe pas être évident mais que ça t'arrivera rien spécialiste combien de temps maintenant que tu vois c'est</td>\n",
       "      <td>ton problème maintenant c'est que pour toi tout est chaud pour la téléréalité pour toi mais cet horizon qu'en parlant de formes graves mathieu allez vas-y met à jour dans la semaine du vingt-huit vingt-huit février au six mars par exemple sont entrées par jour quatre-vingt-dix-sept personnes en soins</td>\n",
       "    </tr>\n",
       "    <tr>\n",
       "      <th>3014</th>\n",
       "      <td>173940899</td>\n",
       "      <td>2022-03-22 19:13:05.590535+00:00</td>\n",
       "      <td>des</td>\n",
       "      <td>de</td>\n",
       "      <td>7</td>\n",
       "      <td>suivant votre programme avec valence qu'est-ce que tu me dis merci on dit quoi merci tu vraiment sympa merci tête un ami alors qu'il est près de moi on discute comme ça on discute un petit peu chiffon e six samedi vingt heures trace on est en direct ce sont</td>\n",
       "      <td>cons qu'ils ferment leurs gueules qui a les chroniqueurs problème soit on s'en prend violemment à jean-marie bigard et fabrice luchini dans une interview choc il était euh on a parti euh voilà euh sur canal plus regarder l'extrait i il est incroyable extrait et jean-marie bigard sera avec</td>\n",
       "    </tr>\n",
       "  </tbody>\n",
       "</table>\n",
       "</div>"
      ],
      "text/plain": [
       "              id                         dateTime  word lemma  channel_id  \\\n",
       "9558   171952161 2022-03-21 19:56:43.111603+00:00    en    en           7   \n",
       "4070   176049688 2022-03-23 19:20:34.806988+00:00  jean  jean           7   \n",
       "7311   173998425 2022-03-22 19:50:14.699305+00:00    en    en           7   \n",
       "10745  178218744 2022-03-24 20:02:49.144694+00:00    ça  cela           7   \n",
       "3014   173940899 2022-03-22 19:13:05.590535+00:00   des    de           7   \n",
       "\n",
       "                                                                                                                                                                                                                                                                                        context_before  \\\n",
       "9558                                                                  de plus en plus beau on peut dire ça oui toi oui comment ça tourne bien moi ça va ma gueule euh marco je trouve donc ce soir parce que ça fait longtemps qu on en parlait tous les deux marco e c est un gars voilà qui a grandi   \n",
       "4070     les syriens euh on va passer aux quarts d'heure sans filtre avant de revenir sur cette rumeur sur emmanuel macron a démenti d'ailleurs euh ce numero norfolk pour ça devient n'importe quoi euh depuis un mois maintenant vous le savez la guerre fait rage en ukraine et le premier ministre   \n",
       "7311   et d'ailleurs c'est grâce à ces personnes-là que chloe gérard garnier remercia gentiment à cette folie tarse remercie aussi également sexuellement c'était ouais ça va ça vous a blessé quand même les choses que vous avez lu ça m'a blessé parce que comme vous étiez je me suis pas reconnue   \n",
       "10745                        a pas mais quand est-ce qu'elle est là et les charges ont précédé passé qui est grave c'est la forme grave c'est ça qui est grave alors ma revanche si je te passe pas être évident mais que ça t'arrivera rien spécialiste combien de temps maintenant que tu vois c'est   \n",
       "3014                                 suivant votre programme avec valence qu'est-ce que tu me dis merci on dit quoi merci tu vraiment sympa merci tête un ami alors qu'il est près de moi on discute comme ça on discute un petit peu chiffon e six samedi vingt heures trace on est en direct ce sont   \n",
       "\n",
       "                                                                                                                                                                                                                                                                                                       context_after  \n",
       "9558                        banlieue il le dit tout le temps et il voulait être en face deux de stanislas l'ego de quelques uns qui voilà qui qui qui soutient éric zemmour alors stanislas rigaud racontez-nous ce qui vous est arrivé c'était vendredi après le meeting d'eric zemmour quoi il attend donc bonjour  \n",
       "4070                                 castex annoncer quelque chose cent mille places d'hébergement euh pour euh ben euh pour euh pour les réfugiés ukrainiens alors bien sûr il y a beaucoup de gens qui sont courts et il y a certaines personnes qui ont grincé des dents e junon juillet deux brillance un source  \n",
       "7311                  fait je me suis clairement pas reconnu et on se critiquer quelque inquiétez pas vous critiquer quelqu'un qui était prêt c'était moi mais c'est exactement moi a déjà des personnalités aux alentours restaurant déjà les personnes qui ne va pas faire la différence entre eux la télé et ceux  \n",
       "10745  ton problème maintenant c'est que pour toi tout est chaud pour la téléréalité pour toi mais cet horizon qu'en parlant de formes graves mathieu allez vas-y met à jour dans la semaine du vingt-huit vingt-huit février au six mars par exemple sont entrées par jour quatre-vingt-dix-sept personnes en soins  \n",
       "3014               cons qu'ils ferment leurs gueules qui a les chroniqueurs problème soit on s'en prend violemment à jean-marie bigard et fabrice luchini dans une interview choc il était euh on a parti euh voilà euh sur canal plus regarder l'extrait i il est incroyable extrait et jean-marie bigard sera avec  "
      ]
     },
     "execution_count": 278,
     "metadata": {},
     "output_type": "execute_result"
    }
   ],
   "source": [
    "data.sample(5)"
   ]
  },
  {
   "cell_type": "code",
   "execution_count": 279,
   "id": "3a48e884",
   "metadata": {},
   "outputs": [],
   "source": [
    "data_words = data.groupby('word').id.count().reset_index().rename({'id': 'count'}, axis=1)"
   ]
  },
  {
   "cell_type": "code",
   "execution_count": 280,
   "id": "798cb650",
   "metadata": {},
   "outputs": [
    {
     "data": {
      "text/html": [
       "<div>\n",
       "<style scoped>\n",
       "    .dataframe tbody tr th:only-of-type {\n",
       "        vertical-align: middle;\n",
       "    }\n",
       "\n",
       "    .dataframe tbody tr th {\n",
       "        vertical-align: top;\n",
       "    }\n",
       "\n",
       "    .dataframe thead th {\n",
       "        text-align: right;\n",
       "    }\n",
       "</style>\n",
       "<table border=\"1\" class=\"dataframe\">\n",
       "  <thead>\n",
       "    <tr style=\"text-align: right;\">\n",
       "      <th></th>\n",
       "      <th>word</th>\n",
       "      <th>count</th>\n",
       "    </tr>\n",
       "  </thead>\n",
       "  <tbody>\n",
       "    <tr>\n",
       "      <th>1794</th>\n",
       "      <td>de</td>\n",
       "      <td>1747</td>\n",
       "    </tr>\n",
       "    <tr>\n",
       "      <th>5416</th>\n",
       "      <td>que</td>\n",
       "      <td>1289</td>\n",
       "    </tr>\n",
       "    <tr>\n",
       "      <th>3324</th>\n",
       "      <td>je</td>\n",
       "      <td>1211</td>\n",
       "    </tr>\n",
       "    <tr>\n",
       "      <th>2409</th>\n",
       "      <td>et</td>\n",
       "      <td>1160</td>\n",
       "    </tr>\n",
       "    <tr>\n",
       "      <th>3699</th>\n",
       "      <td>la</td>\n",
       "      <td>1128</td>\n",
       "    </tr>\n",
       "  </tbody>\n",
       "</table>\n",
       "</div>"
      ],
      "text/plain": [
       "     word  count\n",
       "1794   de   1747\n",
       "5416  que   1289\n",
       "3324   je   1211\n",
       "2409   et   1160\n",
       "3699   la   1128"
      ]
     },
     "execution_count": 280,
     "metadata": {},
     "output_type": "execute_result"
    }
   ],
   "source": [
    "data_words = data_words.sort_values('count', ascending=False)\n",
    "data_words.head()"
   ]
  },
  {
   "cell_type": "code",
   "execution_count": 281,
   "id": "d73d3467",
   "metadata": {},
   "outputs": [],
   "source": [
    "data_words['len'] = [len(w) for w in data_words.word]"
   ]
  },
  {
   "cell_type": "code",
   "execution_count": 282,
   "id": "1c6d25c8",
   "metadata": {},
   "outputs": [
    {
     "data": {
      "text/html": [
       "<div>\n",
       "<style scoped>\n",
       "    .dataframe tbody tr th:only-of-type {\n",
       "        vertical-align: middle;\n",
       "    }\n",
       "\n",
       "    .dataframe tbody tr th {\n",
       "        vertical-align: top;\n",
       "    }\n",
       "\n",
       "    .dataframe thead th {\n",
       "        text-align: right;\n",
       "    }\n",
       "</style>\n",
       "<table border=\"1\" class=\"dataframe\">\n",
       "  <thead>\n",
       "    <tr style=\"text-align: right;\">\n",
       "      <th></th>\n",
       "      <th>word</th>\n",
       "      <th>count</th>\n",
       "      <th>len</th>\n",
       "    </tr>\n",
       "  </thead>\n",
       "  <tbody>\n",
       "    <tr>\n",
       "      <th>7231</th>\n",
       "      <td>vraiment</td>\n",
       "      <td>105</td>\n",
       "      <td>8</td>\n",
       "    </tr>\n",
       "    <tr>\n",
       "      <th>6783</th>\n",
       "      <td>toujours</td>\n",
       "      <td>94</td>\n",
       "      <td>8</td>\n",
       "    </tr>\n",
       "    <tr>\n",
       "      <th>2400</th>\n",
       "      <td>est-ce</td>\n",
       "      <td>86</td>\n",
       "      <td>6</td>\n",
       "    </tr>\n",
       "    <tr>\n",
       "      <th>594</th>\n",
       "      <td>beaucoup</td>\n",
       "      <td>86</td>\n",
       "      <td>8</td>\n",
       "    </tr>\n",
       "    <tr>\n",
       "      <th>459</th>\n",
       "      <td>aujourd'hui</td>\n",
       "      <td>84</td>\n",
       "      <td>11</td>\n",
       "    </tr>\n",
       "    <tr>\n",
       "      <th>3943</th>\n",
       "      <td>maintenant</td>\n",
       "      <td>82</td>\n",
       "      <td>10</td>\n",
       "    </tr>\n",
       "    <tr>\n",
       "      <th>2710</th>\n",
       "      <td>france</td>\n",
       "      <td>81</td>\n",
       "      <td>6</td>\n",
       "    </tr>\n",
       "    <tr>\n",
       "      <th>5430</th>\n",
       "      <td>question</td>\n",
       "      <td>67</td>\n",
       "      <td>8</td>\n",
       "    </tr>\n",
       "    <tr>\n",
       "      <th>4243</th>\n",
       "      <td>moment</td>\n",
       "      <td>64</td>\n",
       "      <td>6</td>\n",
       "    </tr>\n",
       "    <tr>\n",
       "      <th>5067</th>\n",
       "      <td>pourquoi</td>\n",
       "      <td>64</td>\n",
       "      <td>8</td>\n",
       "    </tr>\n",
       "  </tbody>\n",
       "</table>\n",
       "</div>"
      ],
      "text/plain": [
       "             word  count  len\n",
       "7231     vraiment    105    8\n",
       "6783     toujours     94    8\n",
       "2400       est-ce     86    6\n",
       "594      beaucoup     86    8\n",
       "459   aujourd'hui     84   11\n",
       "3943   maintenant     82   10\n",
       "2710       france     81    6\n",
       "5430     question     67    8\n",
       "4243       moment     64    6\n",
       "5067     pourquoi     64    8"
      ]
     },
     "execution_count": 282,
     "metadata": {},
     "output_type": "execute_result"
    }
   ],
   "source": [
    "data_words[data_words['len'] > 5].head(10)"
   ]
  },
  {
   "cell_type": "code",
   "execution_count": 285,
   "id": "d35c2b7f",
   "metadata": {},
   "outputs": [],
   "source": [
    "keywords = ['biodiversité', 'climatique', 'climat', 'giec', \n",
    "            'présidentielle', 'élection',\n",
    "            'réchauffement', 'dérèglement',\n",
    "            'zemmour', 'jadot', 'macron', 'pécresse', 'mélenchon', 'hidalgo',\n",
    "            'guerre', 'ukraine', 'sécurité', 'immigration', 'impôts', 'chasse',\n",
    "            'nucléaire', 'éolienne' 'éoliennes']"
   ]
  },
  {
   "cell_type": "code",
   "execution_count": 286,
   "id": "bfef802e",
   "metadata": {},
   "outputs": [
    {
     "data": {
      "text/html": [
       "<div>\n",
       "<style scoped>\n",
       "    .dataframe tbody tr th:only-of-type {\n",
       "        vertical-align: middle;\n",
       "    }\n",
       "\n",
       "    .dataframe tbody tr th {\n",
       "        vertical-align: top;\n",
       "    }\n",
       "\n",
       "    .dataframe thead th {\n",
       "        text-align: right;\n",
       "    }\n",
       "</style>\n",
       "<table border=\"1\" class=\"dataframe\">\n",
       "  <thead>\n",
       "    <tr style=\"text-align: right;\">\n",
       "      <th></th>\n",
       "      <th>word</th>\n",
       "      <th>count</th>\n",
       "    </tr>\n",
       "  </thead>\n",
       "  <tbody>\n",
       "    <tr>\n",
       "      <th>3920</th>\n",
       "      <td>macron</td>\n",
       "      <td>59</td>\n",
       "    </tr>\n",
       "    <tr>\n",
       "      <th>2905</th>\n",
       "      <td>guerre</td>\n",
       "      <td>58</td>\n",
       "    </tr>\n",
       "    <tr>\n",
       "      <th>7302</th>\n",
       "      <td>zemmour</td>\n",
       "      <td>34</td>\n",
       "    </tr>\n",
       "    <tr>\n",
       "      <th>6953</th>\n",
       "      <td>ukraine</td>\n",
       "      <td>25</td>\n",
       "    </tr>\n",
       "    <tr>\n",
       "      <th>4349</th>\n",
       "      <td>mélenchon</td>\n",
       "      <td>24</td>\n",
       "    </tr>\n",
       "    <tr>\n",
       "      <th>5282</th>\n",
       "      <td>présidentielle</td>\n",
       "      <td>16</td>\n",
       "    </tr>\n",
       "    <tr>\n",
       "      <th>5340</th>\n",
       "      <td>pécresse</td>\n",
       "      <td>16</td>\n",
       "    </tr>\n",
       "    <tr>\n",
       "      <th>2989</th>\n",
       "      <td>hidalgo</td>\n",
       "      <td>15</td>\n",
       "    </tr>\n",
       "    <tr>\n",
       "      <th>6549</th>\n",
       "      <td>sécurité</td>\n",
       "      <td>14</td>\n",
       "    </tr>\n",
       "    <tr>\n",
       "      <th>3103</th>\n",
       "      <td>impôts</td>\n",
       "      <td>4</td>\n",
       "    </tr>\n",
       "    <tr>\n",
       "      <th>991</th>\n",
       "      <td>chasse</td>\n",
       "      <td>4</td>\n",
       "    </tr>\n",
       "    <tr>\n",
       "      <th>7354</th>\n",
       "      <td>élection</td>\n",
       "      <td>3</td>\n",
       "    </tr>\n",
       "    <tr>\n",
       "      <th>3312</th>\n",
       "      <td>jadot</td>\n",
       "      <td>3</td>\n",
       "    </tr>\n",
       "    <tr>\n",
       "      <th>3073</th>\n",
       "      <td>immigration</td>\n",
       "      <td>1</td>\n",
       "    </tr>\n",
       "    <tr>\n",
       "      <th>4521</th>\n",
       "      <td>nucléaire</td>\n",
       "      <td>1</td>\n",
       "    </tr>\n",
       "  </tbody>\n",
       "</table>\n",
       "</div>"
      ],
      "text/plain": [
       "                word  count\n",
       "3920          macron     59\n",
       "2905          guerre     58\n",
       "7302         zemmour     34\n",
       "6953         ukraine     25\n",
       "4349       mélenchon     24\n",
       "5282  présidentielle     16\n",
       "5340        pécresse     16\n",
       "2989         hidalgo     15\n",
       "6549        sécurité     14\n",
       "3103          impôts      4\n",
       "991           chasse      4\n",
       "7354        élection      3\n",
       "3312           jadot      3\n",
       "3073     immigration      1\n",
       "4521       nucléaire      1"
      ]
     },
     "execution_count": 286,
     "metadata": {},
     "output_type": "execute_result"
    }
   ],
   "source": [
    "data_words[[x.lower() in keywords for x in data_words.word]][['word', 'count']]"
   ]
  },
  {
   "cell_type": "code",
   "execution_count": 289,
   "id": "dad0e173",
   "metadata": {},
   "outputs": [],
   "source": [
    "focus = 'chasse'"
   ]
  },
  {
   "cell_type": "code",
   "execution_count": 290,
   "id": "80199c51",
   "metadata": {},
   "outputs": [
    {
     "data": {
      "text/html": [
       "<div>\n",
       "<style scoped>\n",
       "    .dataframe tbody tr th:only-of-type {\n",
       "        vertical-align: middle;\n",
       "    }\n",
       "\n",
       "    .dataframe tbody tr th {\n",
       "        vertical-align: top;\n",
       "    }\n",
       "\n",
       "    .dataframe thead th {\n",
       "        text-align: right;\n",
       "    }\n",
       "</style>\n",
       "<table border=\"1\" class=\"dataframe\">\n",
       "  <thead>\n",
       "    <tr style=\"text-align: right;\">\n",
       "      <th></th>\n",
       "      <th>id</th>\n",
       "      <th>dateTime</th>\n",
       "      <th>word</th>\n",
       "      <th>lemma</th>\n",
       "      <th>channel_id</th>\n",
       "      <th>context_before</th>\n",
       "      <th>context_after</th>\n",
       "    </tr>\n",
       "  </thead>\n",
       "  <tbody>\n",
       "    <tr>\n",
       "      <th>6768</th>\n",
       "      <td>171917222</td>\n",
       "      <td>2022-03-21 19:35:15.413343+00:00</td>\n",
       "      <td>chasse</td>\n",
       "      <td>chasse</td>\n",
       "      <td>7</td>\n",
       "      <td>il veut liberté ma vie meilleur programme est infime inserm deux mille vingt-deux vite en ce moment offre découverte sur w w quand il y a les gens qui rêvent de changer de vie et a ceux qui comme le décide de le faire c'est quand même un avion de</td>\n",
       "      <td>jeanne quand tu penses trop à la française moi je te laisse pas rester ici toute seule ce fait c'est vrai c'est pas un anniversaire trois années d'abstinence ça suffit disponible sur prime video commencez votre essai gratuit de trente jours moi j'ai repris le pouvoir sur mon crédit</td>\n",
       "    </tr>\n",
       "    <tr>\n",
       "      <th>9717</th>\n",
       "      <td>171953619</td>\n",
       "      <td>2022-03-21 19:57:21.899430+00:00</td>\n",
       "      <td>chasse</td>\n",
       "      <td>chasse</td>\n",
       "      <td>7</td>\n",
       "      <td>haine en sortant du meeting avec des nécessite un autre porte-parole de la campagne et on rentre tranquillement à la gare et en fait des bandes de voyous racailles euh je crois que ça pas de trop d'autres mots pour qualifier ça sont venus en fait ça une sorte de</td>\n",
       "      <td>aux personnes sortant du meeting d'eric zemmour et demander à ce qui s'est passé est-ce que vous étiez en médecine d'eric zemmour est-ce que tu votes pour eric zemmour etc les premières personnes que je croise me dit ça etc donc se marient ont deux meetings eux et ils</td>\n",
       "    </tr>\n",
       "    <tr>\n",
       "      <th>3103</th>\n",
       "      <td>173940988</td>\n",
       "      <td>2022-03-22 19:13:37.480535+00:00</td>\n",
       "      <td>chasse</td>\n",
       "      <td>chasse</td>\n",
       "      <td>7</td>\n",
       "      <td>l'extrait i il est incroyable extrait et jean-marie bigard sera avec nous dans un instant pour lui répondre nous dire si vous pensez vous que des personnes voilà euh des des personnalités doivent donner leur avis euh voilà parce que pour françois cluzet sinon voilà après moi je vois la</td>\n",
       "      <td>et partagée là-dessus vous nous donnerez votre avis raymond e donne plus le faire dans un instant merci retour c'est un nouveau coup de gueule signé françois cluzet mais ferme ta gueule l'acteur qui ne mâche pas ses mots qui a son franc-parler eux bien sûr vous vous en</td>\n",
       "    </tr>\n",
       "    <tr>\n",
       "      <th>11488</th>\n",
       "      <td>174036482</td>\n",
       "      <td>2022-03-22 20:17:18.012134+00:00</td>\n",
       "      <td>chasse</td>\n",
       "      <td>chasse</td>\n",
       "      <td>7</td>\n",
       "      <td>août hum c'est très très très très bon mari c'est déjà fait et très bien fait et toutes nos recettes sont sans conservateurs il y a les gens qui aiment changer de vie il y a ceux qui comme le récit de le faire c'est quand même un avion de</td>\n",
       "      <td>jeanne quand tu penses trop à la française fenêtre soit rester si tout ça se fait c'est c'est pas un anniversaire trois années d'abstinence ça suffit disponible sur prime video commencez votre essai gratuit de trente jours je suis désolé monsieur et madame se sont déjà morts voilà boule</td>\n",
       "    </tr>\n",
       "  </tbody>\n",
       "</table>\n",
       "</div>"
      ],
      "text/plain": [
       "              id                         dateTime    word   lemma  channel_id  \\\n",
       "6768   171917222 2022-03-21 19:35:15.413343+00:00  chasse  chasse           7   \n",
       "9717   171953619 2022-03-21 19:57:21.899430+00:00  chasse  chasse           7   \n",
       "3103   173940988 2022-03-22 19:13:37.480535+00:00  chasse  chasse           7   \n",
       "11488  174036482 2022-03-22 20:17:18.012134+00:00  chasse  chasse           7   \n",
       "\n",
       "                                                                                                                                                                                                                                                                                       context_before  \\\n",
       "6768                                           il veut liberté ma vie meilleur programme est infime inserm deux mille vingt-deux vite en ce moment offre découverte sur w w quand il y a les gens qui rêvent de changer de vie et a ceux qui comme le décide de le faire c'est quand même un avion de   \n",
       "9717                           haine en sortant du meeting avec des nécessite un autre porte-parole de la campagne et on rentre tranquillement à la gare et en fait des bandes de voyous racailles euh je crois que ça pas de trop d'autres mots pour qualifier ça sont venus en fait ça une sorte de   \n",
       "3103   l'extrait i il est incroyable extrait et jean-marie bigard sera avec nous dans un instant pour lui répondre nous dire si vous pensez vous que des personnes voilà euh des des personnalités doivent donner leur avis euh voilà parce que pour françois cluzet sinon voilà après moi je vois la   \n",
       "11488                                                  août hum c'est très très très très bon mari c'est déjà fait et très bien fait et toutes nos recettes sont sans conservateurs il y a les gens qui aiment changer de vie il y a ceux qui comme le récit de le faire c'est quand même un avion de   \n",
       "\n",
       "                                                                                                                                                                                                                                                                                         context_after  \n",
       "6768        jeanne quand tu penses trop à la française moi je te laisse pas rester ici toute seule ce fait c'est vrai c'est pas un anniversaire trois années d'abstinence ça suffit disponible sur prime video commencez votre essai gratuit de trente jours moi j'ai repris le pouvoir sur mon crédit  \n",
       "9717                      aux personnes sortant du meeting d'eric zemmour et demander à ce qui s'est passé est-ce que vous étiez en médecine d'eric zemmour est-ce que tu votes pour eric zemmour etc les premières personnes que je croise me dit ça etc donc se marient ont deux meetings eux et ils  \n",
       "3103                     et partagée là-dessus vous nous donnerez votre avis raymond e donne plus le faire dans un instant merci retour c'est un nouveau coup de gueule signé françois cluzet mais ferme ta gueule l'acteur qui ne mâche pas ses mots qui a son franc-parler eux bien sûr vous vous en  \n",
       "11488  jeanne quand tu penses trop à la française fenêtre soit rester si tout ça se fait c'est c'est pas un anniversaire trois années d'abstinence ça suffit disponible sur prime video commencez votre essai gratuit de trente jours je suis désolé monsieur et madame se sont déjà morts voilà boule  "
      ]
     },
     "execution_count": 290,
     "metadata": {},
     "output_type": "execute_result"
    }
   ],
   "source": [
    "data[data.word == focus]"
   ]
  },
  {
   "cell_type": "code",
   "execution_count": 157,
   "id": "11c65088",
   "metadata": {},
   "outputs": [
    {
     "data": {
      "text/plain": [
       "Timestamp('2022-03-23 21:18:37.468051+0000', tz='UTC')"
      ]
     },
     "execution_count": 157,
     "metadata": {},
     "output_type": "execute_result"
    }
   ],
   "source": [
    "focus_time = data[data.word == focus].dateTime.iloc[0]\n",
    "focus_time"
   ]
  },
  {
   "cell_type": "code",
   "execution_count": 158,
   "id": "7aca4417",
   "metadata": {},
   "outputs": [],
   "source": [
    "data_context = data[(data.dateTime >= (focus_time-datetime.timedelta(minutes=1))) \n",
    "      & (data.dateTime < (focus_time+datetime.timedelta(minutes=1)))\n",
    "    ].sort_values('dateTime')"
   ]
  },
  {
   "cell_type": "code",
   "execution_count": 159,
   "id": "2341c16c",
   "metadata": {},
   "outputs": [],
   "source": [
    "context_before = \" \".join(data_context[data_context.dateTime < focus_time].word.to_list())"
   ]
  },
  {
   "cell_type": "code",
   "execution_count": 160,
   "id": "4363bad2",
   "metadata": {},
   "outputs": [],
   "source": [
    "context_after = \" \".join(data_context[data_context.dateTime > focus_time].word.to_list())"
   ]
  },
  {
   "cell_type": "code",
   "execution_count": 161,
   "id": "b498e703",
   "metadata": {},
   "outputs": [
    {
     "data": {
      "text/plain": [
       "\"c'est que moi je pense que la france elle se choisit elle se mérite elle s'aiment mais je veux pas l'immigration zéro je veux l'immigration contrôlée je dis pas aux étudiants étrangers vous viendrez plus en france je dis pas eux qui aura plus d'immigration travail boris johnson il a essayé hein et en angleterre il a tenu trois mois il y avait plus personne pour conduire les camions que le sujet aujourd'hui c'est des quotas par métier par payer et je revendique de dire que tous les pays posent pas les mêmes problèmes et que on a aujourd'hui des pays avec lesquels on a des très très bonnes relations il aucun problème migratoire avec et y a des pays avec lesquels on a un problème le mali par exemple le mali nos soldats cinquante-huit soldats morts qui ont payé le prix du sang au mali cinquante-huit cela et eux les maliens refusent de reprendre leur clandestins ben eh ben on dira zéro visas pour le mali voilà parce que on peut pas à la fois payé le prix du sang aider au développement du mali à voir le mali qui reprend zéro clandestins et leur donner des visas mais c'est pas la même chose le mali et d'autres pays qui ne pose aucuns problèmes qui joue complètement le jeu donc moi je crois pas à une\""
      ]
     },
     "execution_count": 161,
     "metadata": {},
     "output_type": "execute_result"
    }
   ],
   "source": [
    "context_before"
   ]
  },
  {
   "cell_type": "code",
   "execution_count": 162,
   "id": "3799191b",
   "metadata": {},
   "outputs": [
    {
     "data": {
      "text/plain": [
       "'immigration'"
      ]
     },
     "execution_count": 162,
     "metadata": {},
     "output_type": "execute_result"
    }
   ],
   "source": [
    "focus"
   ]
  },
  {
   "cell_type": "code",
   "execution_count": 163,
   "id": "0b64c057",
   "metadata": {},
   "outputs": [
    {
     "data": {
      "text/plain": [
       "'zéro comme vous et j ai entendu eric zemmour alors vous vous avancez un peu masqué mme maréchal si je peux me permettre basique mais je ne sais pas je sais pas si nous marchons mais à mme maréchal avance masqué on dirait que le pain un peu marre'"
      ]
     },
     "execution_count": 163,
     "metadata": {},
     "output_type": "execute_result"
    }
   ],
   "source": [
    "context_after"
   ]
  },
  {
   "cell_type": "code",
   "execution_count": 272,
   "id": "2822fe32",
   "metadata": {},
   "outputs": [],
   "source": [
    "full_text = \" \".join(data[data.dateTime < '2022-03-22'].word)"
   ]
  },
  {
   "cell_type": "code",
   "execution_count": 273,
   "id": "4ce5a612",
   "metadata": {},
   "outputs": [
    {
     "data": {
      "text/plain": [
       "\"le bon pour tous réservé maintenant cette semaine c'est le plaisir de manger sainement grâce à la machine solide à vingt-quatre quatre-vingt-dix conserver la saveur et les vitamines de vos aliments en quelques secondes éviter les gaspillages et faites des économies en conservant les aliments plus longtemps la médecine solide ben seulement vingt-quatre euros quatre-vingt-dix c'est ici j féliciter jimmy c'est fou comme notre nature l'emporte toujours vivre ensemble intensément contre vents et marées et si ça finit mal de gorge peu intense et sans fièvre pas paix vous accompagne l'action antibactérienne de lidocaïne sait-il pyrénéen misogyne combat localement l'infection et soulage la gorge lisa haynes combattez le mal de gorge par votre nature tout médicament peut exposer à des risques parlez-en à votre pharmacien casting cinquante en faveur du suspens cinquante enfin peut-être pas euh par contre on a pas de cadeaux haha d on a besoin cette année c'est moi qui fait les cadeaux cadeau client qui va remplacer abandonnera pas t'inquiète iguanes pour l'instant j'aurais sérieux un nos cinquante ans profiter de pleins de promos et en ce moment un pneu acheté est un pneu offert feu vert rien ne remplace les experts fever rien ne remplace mais si dur à dire tu ne commencerais pas de pizzas domino front gars rasés institutions par contre c'est toi qui commandes ok tu peux la première et la deuxième tu veux paulo a tout compris la deuxième pizza livrée à moins cinquante pour cent pendant les essais du lundi au jeudi exclusivement sur domino ce point fr la prochaine fois c'est moi qui prennent la nasa en les deux roues vous préférez danser un slow avec un cactus ont payé cher votre assurance l'assurance puisse deux roues qui préfèrent quand c'est pas cher faites des économies sur un point fr un deux internautes de deux ça c'est bon mais réveillé manu payet et vous réveille tous les matins entre six heures et dix heures dans le tonic sur virgin radio merci merci beaucoup c'est adorable il faut que j'y arrive mon voisin moins évident on va bisous bon sait la semaine du sommeil chez hema avec jusqu'à moins cinquante pour cent de réduction nous savons tous qu'une journée vraiment réussie passe d'abord par une bonne nuit de sommeil c'est pourquoi schéma depuis notre fameux matelas nos oreillers ou ne lis tout est conçu pour réveiller votre vie vérifiez par vous-même et profiter de cent nuits d'essai avec retour gratuits commandez vite sur emma fr emma rêver votre vie l'élégance le et la polyvalence un crossover l'âme de notre roadster nouveau mazda cinq cinq le plaisir de conduire un kimono arrive dans les maxi kinder surprise qu'anne et la carte pour encore plus daphne maxi kinder surprise un maxi jouer dans un maxi fond chocolat de près de dix grandes marques détendez-vous dans votre programme avec les ferme du cdi free fr la ferme du cdi cultivons la qualité soyez vous-même en suivant votre programme avec valence chez dominique passe enfin qu'il va me refais le répéter un bébé samedi de euh anne hidalgo a lâché une petite phrase vraiment une petite phrase pour des petits sondages euh d'ailleurs on a refait le sondage avec le public pas savoir pour qui botte le public vous verrez ça je vous dévoilerai eux bien sûr à vingt heures dix les résultats aller voir pour qui votent notre public aujourd'hui alors venez voir il y a d'énormes surprises hein euh et anne hidalgo vous allez voir que vous préparez dans notre public que maintenant moi je suis devenue une amie un palier téléphone mais ça c'est très possible euh dans une interview au magazine closer la candidate à l'élection présidentielle on va la refaire dans une interview au magazine closer l'ex candidate à l'élection présidentielle non on va la refaire interview au magazine causeur la candidate à un virgule cinq points dont un virgule cinq un virgule cinq ans alors ça veut dire que danielle moreau se présente à fait sur la tête de ma mère je pense que un virgule cinq b c'est comme quand klaus c'est durant les copies de la meilleure à la dernière étant anne hidalgo dernier un virgule ans et demi je mis zéro cinq pour l'encre un truc de fou salle a de jean lassalle les vingt heures jean lassalle e s et j adore jean lassalle mais c'est vrai que euh si on la colle en tête devant alors caracole pas euh oui euh voilà une énième toujours toujours vraiment dans l'excès euh chéri donc anne hidalgo elle répondait à une question est-ce que c'est à la mode d'être cougar alors bien sûr daniel moreau a répondu oui regardez série podium hidalgo ça fait une polémique ça a fait couler l'encre de tes yeux à trois semaines du premier tour de la présidentielle tous les coups sont permis bonjour l'amour dans un entretien accordé à closer la candidate socialiste anne hidalgo s'était exprimé sur sa différence dès deux sait-on avec son mari je ne me sens pas cougars contrairement à d'autres je n'aurais jamais pu tout de même heureuse dans un adolescent un tacle directement adressée à emmanuel m\""
      ]
     },
     "execution_count": 273,
     "metadata": {},
     "output_type": "execute_result"
    }
   ],
   "source": [
    "full_text[:5000]"
   ]
  }
 ],
 "metadata": {
  "kernelspec": {
   "display_name": "Python 3 (ipykernel)",
   "language": "python",
   "name": "python3"
  },
  "language_info": {
   "codemirror_mode": {
    "name": "ipython",
    "version": 3
   },
   "file_extension": ".py",
   "mimetype": "text/x-python",
   "name": "python",
   "nbconvert_exporter": "python",
   "pygments_lexer": "ipython3",
   "version": "3.10.4"
  },
  "toc": {
   "base_numbering": 1,
   "nav_menu": {},
   "number_sections": true,
   "sideBar": true,
   "skip_h1_title": false,
   "title_cell": "Table of Contents",
   "title_sidebar": "Contents",
   "toc_cell": false,
   "toc_position": {},
   "toc_section_display": true,
   "toc_window_display": false
  }
 },
 "nbformat": 4,
 "nbformat_minor": 5
}
