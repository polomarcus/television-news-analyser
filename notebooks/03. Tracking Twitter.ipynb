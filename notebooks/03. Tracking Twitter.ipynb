{
 "cells": [
  {
   "cell_type": "code",
   "execution_count": 2,
   "id": "231d7c83",
   "metadata": {},
   "outputs": [
    {
     "ename": "ModuleNotFoundError",
     "evalue": "No module named 'twitter'",
     "output_type": "error",
     "traceback": [
      "\u001b[0;31m---------------------------------------------------------------------------\u001b[0m",
      "\u001b[0;31mModuleNotFoundError\u001b[0m                       Traceback (most recent call last)",
      "Input \u001b[0;32mIn [2]\u001b[0m, in \u001b[0;36m<cell line: 1>\u001b[0;34m()\u001b[0m\n\u001b[0;32m----> 1\u001b[0m \u001b[38;5;28;01mimport\u001b[39;00m \u001b[38;5;21;01mtwitter\u001b[39;00m\n\u001b[1;32m      2\u001b[0m \u001b[38;5;28;01mimport\u001b[39;00m \u001b[38;5;21;01mpandas\u001b[39;00m \u001b[38;5;28;01mas\u001b[39;00m \u001b[38;5;21;01mpd\u001b[39;00m\n\u001b[1;32m      3\u001b[0m \u001b[38;5;28;01mfrom\u001b[39;00m \u001b[38;5;21;01mcollections\u001b[39;00m \u001b[38;5;28;01mimport\u001b[39;00m defaultdict\n",
      "\u001b[0;31mModuleNotFoundError\u001b[0m: No module named 'twitter'"
     ]
    }
   ],
   "source": [
    "import twitter\n",
    "import pandas as pd\n",
    "from collections import defaultdict\n",
    "import json"
   ]
  },
  {
   "cell_type": "markdown",
   "id": "79f13f80",
   "metadata": {},
   "source": [
    "# Get tweets"
   ]
  },
  {
   "cell_type": "code",
   "execution_count": 1,
   "id": "fe860fce",
   "metadata": {},
   "outputs": [
    {
     "ename": "NameError",
     "evalue": "name 'twitter' is not defined",
     "output_type": "error",
     "traceback": [
      "\u001b[0;31m---------------------------------------------------------------------------\u001b[0m",
      "\u001b[0;31mNameError\u001b[0m                                 Traceback (most recent call last)",
      "Input \u001b[0;32mIn [1]\u001b[0m, in \u001b[0;36m<cell line: 1>\u001b[0;34m()\u001b[0m\n\u001b[0;32m----> 1\u001b[0m api \u001b[38;5;241m=\u001b[39m \u001b[43mtwitter\u001b[49m\u001b[38;5;241m.\u001b[39mApi(\u001b[38;5;241m*\u001b[39m\u001b[38;5;241m*\u001b[39m\u001b[38;5;28mopen\u001b[39m(\u001b[38;5;124m'\u001b[39m\u001b[38;5;124mdata/twitter_key.json\u001b[39m\u001b[38;5;124m'\u001b[39m))\n",
      "\u001b[0;31mNameError\u001b[0m: name 'twitter' is not defined"
     ]
    }
   ],
   "source": [
    "api = twitter.Api(**open('data/twitter_key.json'))"
   ]
  },
  {
   "cell_type": "code",
   "execution_count": 3,
   "id": "cb7d7c50",
   "metadata": {},
   "outputs": [],
   "source": [
    "#hashtag = 'DontLookGIEC'\n",
    "hashtag = 'StopEACOP'"
   ]
  },
  {
   "cell_type": "code",
   "execution_count": 4,
   "id": "7817f3af",
   "metadata": {},
   "outputs": [],
   "source": [
    "results = api.GetSearch(\n",
    "    raw_query=f\"q=%23{hashtag}%20&result_type=recent&count=100\")"
   ]
  },
  {
   "cell_type": "code",
   "execution_count": 5,
   "id": "49f66858",
   "metadata": {},
   "outputs": [
    {
     "data": {
      "text/plain": [
       "100"
      ]
     },
     "execution_count": 5,
     "metadata": {},
     "output_type": "execute_result"
    }
   ],
   "source": [
    "len(results)"
   ]
  },
  {
   "cell_type": "code",
   "execution_count": 6,
   "id": "12565a1a",
   "metadata": {},
   "outputs": [],
   "source": [
    "tweet = results[0]"
   ]
  },
  {
   "cell_type": "code",
   "execution_count": 7,
   "id": "a4dac7bc",
   "metadata": {},
   "outputs": [
    {
     "data": {
      "text/plain": [
       "User(ID=710151902852476928, ScreenName=PatriciaSally_N)"
      ]
     },
     "execution_count": 7,
     "metadata": {},
     "output_type": "execute_result"
    }
   ],
   "source": [
    "tweet.user"
   ]
  },
  {
   "cell_type": "code",
   "execution_count": 8,
   "id": "e22def53",
   "metadata": {},
   "outputs": [
    {
     "data": {
      "text/plain": [
       "928"
      ]
     },
     "execution_count": 8,
     "metadata": {},
     "output_type": "execute_result"
    }
   ],
   "source": [
    "tweet.user.followers_count"
   ]
  },
  {
   "cell_type": "code",
   "execution_count": 9,
   "id": "bfab4eab",
   "metadata": {},
   "outputs": [
    {
     "data": {
      "text/plain": [
       "'RT @stopEACOP: TotalEnergies is benefiting from climate destruction and we are all paying the price.\\n\\nShareholders like Amundi, BNP Paribas…'"
      ]
     },
     "execution_count": 9,
     "metadata": {},
     "output_type": "execute_result"
    }
   ],
   "source": [
    "tweet.text"
   ]
  },
  {
   "cell_type": "code",
   "execution_count": 10,
   "id": "f6fc7139",
   "metadata": {},
   "outputs": [
    {
     "data": {
      "text/plain": [
       "[]"
      ]
     },
     "execution_count": 10,
     "metadata": {},
     "output_type": "execute_result"
    }
   ],
   "source": [
    "tweet.hashtags"
   ]
  },
  {
   "cell_type": "code",
   "execution_count": 11,
   "id": "5bb296d4",
   "metadata": {},
   "outputs": [
    {
     "data": {
      "text/plain": [
       "0"
      ]
     },
     "execution_count": 11,
     "metadata": {},
     "output_type": "execute_result"
    }
   ],
   "source": [
    "tweet.favorite_count"
   ]
  },
  {
   "cell_type": "code",
   "execution_count": 12,
   "id": "aac5397f",
   "metadata": {},
   "outputs": [
    {
     "data": {
      "text/plain": [
       "38"
      ]
     },
     "execution_count": 12,
     "metadata": {},
     "output_type": "execute_result"
    }
   ],
   "source": [
    "tweet.retweet_count"
   ]
  },
  {
   "cell_type": "code",
   "execution_count": 13,
   "id": "8f50dffe",
   "metadata": {},
   "outputs": [
    {
     "data": {
      "text/plain": [
       "False"
      ]
     },
     "execution_count": 13,
     "metadata": {},
     "output_type": "execute_result"
    }
   ],
   "source": [
    "tweet.retweeted"
   ]
  },
  {
   "cell_type": "code",
   "execution_count": 14,
   "id": "46d01731",
   "metadata": {},
   "outputs": [
    {
     "data": {
      "text/plain": [
       "False"
      ]
     },
     "execution_count": 14,
     "metadata": {},
     "output_type": "execute_result"
    }
   ],
   "source": [
    "tweet.favorited"
   ]
  },
  {
   "cell_type": "markdown",
   "id": "6f79eea7",
   "metadata": {},
   "source": [
    "# Get all tweets"
   ]
  },
  {
   "cell_type": "code",
   "execution_count": 15,
   "id": "b7b2cb38",
   "metadata": {},
   "outputs": [],
   "source": [
    "results = api.GetSearch(\n",
    "    raw_query=f\"q=%23{hashtag}%20&result_type=recent&count=100\")\n",
    "last_tweet = results[-1]\n",
    "last_tweet_id = last_tweet.id"
   ]
  },
  {
   "cell_type": "code",
   "execution_count": 16,
   "id": "30af95b4",
   "metadata": {},
   "outputs": [
    {
     "data": {
      "text/plain": [
       "1519658942963535872"
      ]
     },
     "execution_count": 16,
     "metadata": {},
     "output_type": "execute_result"
    }
   ],
   "source": [
    "last_tweet_id"
   ]
  },
  {
   "cell_type": "code",
   "execution_count": 17,
   "id": "1419822f",
   "metadata": {},
   "outputs": [],
   "source": [
    "all_tweets = results"
   ]
  },
  {
   "cell_type": "code",
   "execution_count": 18,
   "id": "227a9731",
   "metadata": {},
   "outputs": [],
   "source": [
    "while(len(results) > 1):\n",
    "    results = api.GetSearch(\n",
    "    raw_query=f\"q=%23{hashtag}%20&result_type=recent&count=100&max_id={last_tweet_id}\")\n",
    "    last_tweet = results[-1]\n",
    "    last_tweet_id = last_tweet.id\n",
    "    all_tweets += results[1:]"
   ]
  },
  {
   "cell_type": "code",
   "execution_count": 19,
   "id": "8a28c2a7",
   "metadata": {},
   "outputs": [],
   "source": [
    "first_tweet_id = all_tweets[0].id"
   ]
  },
  {
   "cell_type": "code",
   "execution_count": 20,
   "id": "3e78770e",
   "metadata": {},
   "outputs": [],
   "source": [
    "if False:\n",
    "    results = api.GetSearch(\n",
    "        raw_query=f\"q=%23{hashtag}%20&result_type=recent&count=100&since_id={first_tweet_id}\")\n",
    "    first_tweet = results[0]\n",
    "    first_tweet_id = last_tweet.id\n",
    "    all_tweets += results"
   ]
  },
  {
   "cell_type": "code",
   "execution_count": 21,
   "id": "aefae2e5",
   "metadata": {},
   "outputs": [
    {
     "data": {
      "text/plain": [
       "1"
      ]
     },
     "execution_count": 21,
     "metadata": {},
     "output_type": "execute_result"
    }
   ],
   "source": [
    "len(results)"
   ]
  },
  {
   "cell_type": "code",
   "execution_count": 22,
   "id": "afbe858b",
   "metadata": {},
   "outputs": [],
   "source": [
    "#backup = all_tweets"
   ]
  },
  {
   "cell_type": "code",
   "execution_count": 23,
   "id": "212c6b6d",
   "metadata": {},
   "outputs": [],
   "source": [
    "#all_tweets += results"
   ]
  },
  {
   "cell_type": "code",
   "execution_count": 24,
   "id": "053734a2",
   "metadata": {},
   "outputs": [
    {
     "data": {
      "text/plain": [
       "6172"
      ]
     },
     "execution_count": 24,
     "metadata": {},
     "output_type": "execute_result"
    }
   ],
   "source": [
    "len(all_tweets)"
   ]
  },
  {
   "cell_type": "code",
   "execution_count": 25,
   "id": "2c2d505e",
   "metadata": {},
   "outputs": [],
   "source": [
    "with open(f'data/all_tweets_{hashtag.lower()}.json', 'w') as output:\n",
    "    for tweet in all_tweets:\n",
    "        output.write(tweet.AsJsonString() + \"\\n\")"
   ]
  },
  {
   "cell_type": "markdown",
   "id": "87fee14d",
   "metadata": {},
   "source": [
    "# Analyse"
   ]
  },
  {
   "cell_type": "code",
   "execution_count": 26,
   "id": "5a268e15",
   "metadata": {},
   "outputs": [],
   "source": [
    "all_tweets = []\n",
    "with open(f'data/all_tweets_{hashtag.lower()}.json') as input_file:\n",
    "    for tweet_line in input_file:\n",
    "        all_tweets.append(json.loads(tweet_line))"
   ]
  },
  {
   "cell_type": "code",
   "execution_count": 27,
   "id": "61405a25",
   "metadata": {},
   "outputs": [
    {
     "data": {
      "text/plain": [
       "6172"
      ]
     },
     "execution_count": 27,
     "metadata": {},
     "output_type": "execute_result"
    }
   ],
   "source": [
    "len(all_tweets)"
   ]
  },
  {
   "cell_type": "code",
   "execution_count": 28,
   "id": "3f52a52d",
   "metadata": {},
   "outputs": [
    {
     "data": {
      "text/plain": [
       "6172"
      ]
     },
     "execution_count": 28,
     "metadata": {},
     "output_type": "execute_result"
    }
   ],
   "source": [
    "unique_ids = set([t['id'] for t in all_tweets])\n",
    "len(unique_ids)"
   ]
  },
  {
   "cell_type": "code",
   "execution_count": 29,
   "id": "7cbcb4cf",
   "metadata": {},
   "outputs": [],
   "source": [
    "stats = defaultdict(int)\n",
    "users = defaultdict(int)\n",
    "hashtags = defaultdict(int)\n",
    "big_users = {}\n",
    "for tweet in all_tweets:\n",
    "    stats['tweets'] += 1\n",
    "    if not tweet.get('retweeted_status'):\n",
    "        stats['likes'] += tweet.get('favorite_count', 0)\n",
    "        stats['retweets'] += tweet.get('retweet_count', 0)\n",
    "    users[tweet['user']['screen_name']] += 1\n",
    "    big_users[tweet['user']['screen_name']] = tweet['user'].get('followers_count', 0)\n",
    "    for hastag in tweet['hashtags']:\n",
    "        hashtags[hastag['text']] += 1"
   ]
  },
  {
   "cell_type": "code",
   "execution_count": 30,
   "id": "0ac7ca70",
   "metadata": {},
   "outputs": [
    {
     "data": {
      "text/plain": [
       "defaultdict(int, {'tweets': 6172, 'likes': 15089, 'retweets': 5662})"
      ]
     },
     "execution_count": 30,
     "metadata": {},
     "output_type": "execute_result"
    }
   ],
   "source": [
    "stats"
   ]
  },
  {
   "cell_type": "code",
   "execution_count": 31,
   "id": "dd774354",
   "metadata": {},
   "outputs": [
    {
     "name": "stdout",
     "output_type": "stream",
     "text": [
      "Les dernières stats:\n",
      "* tweets : 6172\n",
      "* likes : 15089\n",
      "* RT : 5662\n",
      "\n"
     ]
    }
   ],
   "source": [
    "print(f\"\"\"Les dernières stats:\n",
    "* tweets : {stats['tweets']}\n",
    "* likes : {stats['likes']}\n",
    "* RT : {stats['retweets']}\n",
    "\"\"\")"
   ]
  },
  {
   "cell_type": "code",
   "execution_count": 32,
   "id": "cc764513",
   "metadata": {},
   "outputs": [
    {
     "data": {
      "text/plain": [
       "2071"
      ]
     },
     "execution_count": 32,
     "metadata": {},
     "output_type": "execute_result"
    }
   ],
   "source": [
    "len(users)"
   ]
  },
  {
   "cell_type": "code",
   "execution_count": 33,
   "id": "6b004704",
   "metadata": {},
   "outputs": [
    {
     "data": {
      "text/plain": [
       "Caro_linede      145\n",
       "seventdrauhl     116\n",
       "princepapa1      111\n",
       "ARefuelling       94\n",
       "350_kenya         84\n",
       "sacha_besson      75\n",
       "JaneFlore81       65\n",
       "TKobusiingye      58\n",
       "endelstamberg     54\n",
       "BxlLouise         54\n",
       "dtype: int64"
      ]
     },
     "execution_count": 33,
     "metadata": {},
     "output_type": "execute_result"
    }
   ],
   "source": [
    "pd.Series(users).sort_values(ascending=False).head(10)"
   ]
  },
  {
   "cell_type": "code",
   "execution_count": 34,
   "id": "8f1b775e",
   "metadata": {},
   "outputs": [
    {
     "data": {
      "text/plain": [
       "GretaThunberg     5065722\n",
       "Greenpeace        1906645\n",
       "greenpeacefr       444674\n",
       "ExtinctionR        395774\n",
       "350                392012\n",
       "vanessa_vash       235322\n",
       "WeDontHaveTime     110192\n",
       "ppptec              88521\n",
       "princepapa1         86947\n",
       "XRebellionUK        86494\n",
       "dtype: int64"
      ]
     },
     "execution_count": 34,
     "metadata": {},
     "output_type": "execute_result"
    }
   ],
   "source": [
    "pd.Series(big_users).sort_values(ascending=False).head(10)"
   ]
  },
  {
   "cell_type": "code",
   "execution_count": 35,
   "id": "77330ae8",
   "metadata": {},
   "outputs": [
    {
     "data": {
      "text/plain": [
       "StopEACOP                 2385\n",
       "EarthDayRiseupMovement     839\n",
       "StopEacop                  516\n",
       "EarthDay2022               492\n",
       "earthdayRiseupmovement     247\n",
       "                          ... \n",
       "oott                         1\n",
       "Pascua                       1\n",
       "greenwashing                 1\n",
       "COP21                        1\n",
       "JustStopOil                  1\n",
       "Length: 144, dtype: int64"
      ]
     },
     "execution_count": 35,
     "metadata": {},
     "output_type": "execute_result"
    }
   ],
   "source": [
    "pd.Series(hashtags).sort_values(ascending=False)"
   ]
  },
  {
   "cell_type": "markdown",
   "id": "23188216",
   "metadata": {},
   "source": [
    "# Best tweets"
   ]
  },
  {
   "cell_type": "code",
   "execution_count": 46,
   "id": "35afcd52",
   "metadata": {},
   "outputs": [],
   "source": [
    "best_tweets = sorted(all_tweets, key=lambda x : - x.get('retweet_count', 0) if not x.get('retweeted_status') else 0)[:10]"
   ]
  },
  {
   "cell_type": "code",
   "execution_count": 47,
   "id": "96ed1166",
   "metadata": {},
   "outputs": [],
   "source": [
    "top_tweet = best_tweets[0]"
   ]
  },
  {
   "cell_type": "code",
   "execution_count": 49,
   "id": "7287c530",
   "metadata": {},
   "outputs": [
    {
     "data": {
      "text/plain": [
       "'Avec plusieurs associations, on interpelle @LeaSalame et @GillesBouleau pour que le climat soit au cœur du… https://t.co/38FJ1vX4Ks'"
      ]
     },
     "execution_count": 49,
     "metadata": {},
     "output_type": "execute_result"
    }
   ],
   "source": [
    "top_tweet['text']"
   ]
  },
  {
   "cell_type": "code",
   "execution_count": 50,
   "id": "f19ffd36",
   "metadata": {},
   "outputs": [
    {
     "data": {
      "text/plain": [
       "1516322134053818368"
      ]
     },
     "execution_count": 50,
     "metadata": {},
     "output_type": "execute_result"
    }
   ],
   "source": [
    "top_tweet['id']"
   ]
  },
  {
   "cell_type": "code",
   "execution_count": 51,
   "id": "5f1f176e",
   "metadata": {},
   "outputs": [
    {
     "data": {
      "text/plain": [
       "'https://twitter.com/ReveilEcolo/status/1516322134053818368'"
      ]
     },
     "execution_count": 51,
     "metadata": {},
     "output_type": "execute_result"
    }
   ],
   "source": [
    "f\"https://twitter.com/{top_tweet['user']['screen_name']}/status/{top_tweet['id']}\""
   ]
  },
  {
   "cell_type": "code",
   "execution_count": 52,
   "id": "edce1048",
   "metadata": {},
   "outputs": [
    {
     "name": "stdout",
     "output_type": "stream",
     "text": [
      "- https://twitter.com/ReveilEcolo/status/1516322134053818368\n",
      "\n",
      "- https://twitter.com/cassouman40/status/1516460858846720010\n",
      "\n",
      "- https://twitter.com/QuotaClimat/status/1514651598487752704\n",
      "\n",
      "- https://twitter.com/QuotaClimat/status/1514967438160547845\n",
      "\n",
      "- https://twitter.com/QuotaClimat/status/1515735675106115589\n",
      "\n",
      "- https://twitter.com/QuotaClimat/status/1516886865613361152\n",
      "\n",
      "- https://twitter.com/pierrecannet/status/1514989429697429505\n",
      "\n",
      "- https://twitter.com/ClimatMedias/status/1514938305779011584\n",
      "\n",
      "- https://twitter.com/onestpret/status/1516026324711837710\n",
      "\n",
      "- https://twitter.com/QuotaClimat/status/1516008870547709953\n",
      "\n"
     ]
    }
   ],
   "source": [
    "for top_tweet in best_tweets:\n",
    "    print(f\"- https://twitter.com/{top_tweet['user']['screen_name']}/status/{top_tweet['id']}\\n\")"
   ]
  }
 ],
 "metadata": {
  "kernelspec": {
   "display_name": "Python 3 (ipykernel)",
   "language": "python",
   "name": "python3"
  },
  "language_info": {
   "codemirror_mode": {
    "name": "ipython",
    "version": 3
   },
   "file_extension": ".py",
   "mimetype": "text/x-python",
   "name": "python",
   "nbconvert_exporter": "python",
   "pygments_lexer": "ipython3",
   "version": "3.10.4"
  },
  "toc": {
   "base_numbering": 1,
   "nav_menu": {},
   "number_sections": true,
   "sideBar": true,
   "skip_h1_title": false,
   "title_cell": "Table of Contents",
   "title_sidebar": "Contents",
   "toc_cell": false,
   "toc_position": {
    "height": "calc(100% - 180px)",
    "left": "10px",
    "top": "150px",
    "width": "293.333px"
   },
   "toc_section_display": true,
   "toc_window_display": true
  }
 },
 "nbformat": 4,
 "nbformat_minor": 5
}
