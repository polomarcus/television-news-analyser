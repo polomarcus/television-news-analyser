{
 "cells": [
  {
   "cell_type": "code",
   "execution_count": 1,
   "id": "89e2b4e6",
   "metadata": {},
   "outputs": [],
   "source": [
    "import pandas as pd\n",
    "import json\n",
    "from glob import glob\n",
    "import os.path as osp\n",
    "import datetime\n",
    "import wordcloud\n",
    "from io import StringIO\n",
    "import stop_words\n",
    "from sklearn.feature_extraction.text import CountVectorizer\n",
    "import seaborn as sns\n",
    "import re"
   ]
  },
  {
   "cell_type": "code",
   "execution_count": 2,
   "id": "1d170cf8",
   "metadata": {},
   "outputs": [],
   "source": [
    "pd.set_option('display.max_colwidth', 255)"
   ]
  },
  {
   "cell_type": "code",
   "execution_count": 23,
   "id": "edf329f4",
   "metadata": {},
   "outputs": [],
   "source": [
    "subjects = []\n",
    "for media in ['France 2', 'TF1']:\n",
    "    for year in ['2022']:\n",
    "        for month in ['1', '2']:\n",
    "            month_path = f'../data-news-json/media={media}/year={year}/month={month}'\n",
    "            day_files = glob(f'{month_path}/day=*/*.json')\n",
    "            for day_file in day_files:\n",
    "                for line in open(day_file):\n",
    "                    subject = json.loads(line)\n",
    "                    subject['media'] = media.lower().replace(' ', '')\n",
    "                    subjects.append(subject)"
   ]
  },
  {
   "cell_type": "code",
   "execution_count": 24,
   "id": "1b6b76bd",
   "metadata": {},
   "outputs": [],
   "source": [
    "data = pd.DataFrame(subjects)"
   ]
  },
  {
   "cell_type": "code",
   "execution_count": 25,
   "id": "5118cf7c",
   "metadata": {},
   "outputs": [
    {
     "data": {
      "text/html": [
       "<div>\n",
       "<style scoped>\n",
       "    .dataframe tbody tr th:only-of-type {\n",
       "        vertical-align: middle;\n",
       "    }\n",
       "\n",
       "    .dataframe tbody tr th {\n",
       "        vertical-align: top;\n",
       "    }\n",
       "\n",
       "    .dataframe thead th {\n",
       "        text-align: right;\n",
       "    }\n",
       "</style>\n",
       "<table border=\"1\" class=\"dataframe\">\n",
       "  <thead>\n",
       "    <tr style=\"text-align: right;\">\n",
       "      <th></th>\n",
       "      <th>title</th>\n",
       "      <th>description</th>\n",
       "      <th>date</th>\n",
       "      <th>order</th>\n",
       "      <th>presenter</th>\n",
       "      <th>authors</th>\n",
       "      <th>editor</th>\n",
       "      <th>editorDeputy</th>\n",
       "      <th>url</th>\n",
       "      <th>urlTvNews</th>\n",
       "      <th>containsWordGlobalWarming</th>\n",
       "      <th>media</th>\n",
       "    </tr>\n",
       "  </thead>\n",
       "  <tbody>\n",
       "    <tr>\n",
       "      <th>0</th>\n",
       "      <td>Nouvel An 2022 : les Français ont fait la fête malgré le contexte sanitaire</td>\n",
       "      <td>Rien n’a arrêté les Français vendredi 31 décembre, pour fêter le passage à la nouvelle année, pas même le contexte sanitaire. \"Les gens arrivent à faire la fête mine de rien, et à oublier tout ce qu’il s’est passé\", dit une passante, sur les Champs-El...</td>\n",
       "      <td>2022-01-01T00:00:00.000+01:00</td>\n",
       "      <td>1</td>\n",
       "      <td>Laurent Delahousse</td>\n",
       "      <td>[J.Debraux, C.Rougerie, A.Rémond, C.Cuello, F.Simoès, A.Etienne, S.Gripon, France 3 Régions, L.Lavieille]</td>\n",
       "      <td>Elsa Pallot</td>\n",
       "      <td>[Thibaud de Barbeyrac]</td>\n",
       "      <td>https://www.francetvinfo.fr/sante/maladie/coronavirus/nouvel-an-2022-les-francais-ont-fait-la-fete-malgre-le-contexte-sanitaire_4901089.html</td>\n",
       "      <td>https://www.francetvinfo.fr/replay-jt/france-2/20-heures/jt-de-20h-du-samedi-1-janvier-2022_4881617.html</td>\n",
       "      <td>False</td>\n",
       "      <td>france2</td>\n",
       "    </tr>\n",
       "    <tr>\n",
       "      <th>1</th>\n",
       "      <td>Nouvel An 2022 : une nuit de réveillon magique, de New York à Rio</td>\n",
       "      <td>Partout dans le monde, la tradition du Nouvel An a été respectée, vendredi 31 décembre. Le ciel s'est illuminé à Londres (Royaume-Uni). Le Big Ben, encore en rénovation, a retenti à minuit, après quatre ans de silence. Des milliers de personnes se son...</td>\n",
       "      <td>2022-01-01T00:00:00.000+01:00</td>\n",
       "      <td>2</td>\n",
       "      <td>Laurent Delahousse</td>\n",
       "      <td>[Récit : E.Cornet, Montage : M.Le Rue]</td>\n",
       "      <td>Elsa Pallot</td>\n",
       "      <td>[Thibaud de Barbeyrac]</td>\n",
       "      <td>https://www.francetvinfo.fr/sante/maladie/coronavirus/nouvel-an-2022-une-nuit-de-reveillon-magique-de-new-york-a-rio_4901107.html</td>\n",
       "      <td>https://www.francetvinfo.fr/replay-jt/france-2/20-heures/jt-de-20h-du-samedi-1-janvier-2022_4881617.html</td>\n",
       "      <td>False</td>\n",
       "      <td>france2</td>\n",
       "    </tr>\n",
       "    <tr>\n",
       "      <th>2</th>\n",
       "      <td>Covid-19 : dès le 3 janvier, le port du masque sera obligatoire dès 6 ans dans certains lieux publics</td>\n",
       "      <td>Dès lundi 3 janvier, le port du masque ne sera plus seulement imposé en classe, pour les enfants de plus de six ans, mais aussi dans certains lieux publics. \"Je suis habituée, souffle une petite fille. Je le porte dans la rue, en ville\". La mesure s’a...</td>\n",
       "      <td>2022-01-01T00:00:00.000+01:00</td>\n",
       "      <td>3</td>\n",
       "      <td>Laurent Delahousse</td>\n",
       "      <td>[C.Rougerie, E.Cornet, J.Coulais, M.Birden, D.Breysse, C.Pary, France 3 Régions, N.Sadok]</td>\n",
       "      <td>Elsa Pallot</td>\n",
       "      <td>[Thibaud de Barbeyrac]</td>\n",
       "      <td>https://www.francetvinfo.fr/sante/maladie/coronavirus/masques-sanitaires/covid-19-des-le-3-janvier-le-port-du-masque-sera-obligatoire-des-6-ans-dans-certains-lieux-publics_4901091.html</td>\n",
       "      <td>https://www.francetvinfo.fr/replay-jt/france-2/20-heures/jt-de-20h-du-samedi-1-janvier-2022_4881617.html</td>\n",
       "      <td>False</td>\n",
       "      <td>france2</td>\n",
       "    </tr>\n",
       "    <tr>\n",
       "      <th>3</th>\n",
       "      <td>Urgences : certaines visites sont désormais payantes</td>\n",
       "      <td>Il faudra désormais s’habituer à sortir la carte bleue après un passage aux urgences. En effet, chaque visite dans les services d’urgences n’entraînant pas d’hospitalisation sera désormais payante. Un reste à charge de 19,61 euros. Une manière pour le...</td>\n",
       "      <td>2022-01-01T00:00:00.000+01:00</td>\n",
       "      <td>4</td>\n",
       "      <td>Laurent Delahousse</td>\n",
       "      <td>[A.Jolly, G.Marque, G.Liaboeuf]</td>\n",
       "      <td>Elsa Pallot</td>\n",
       "      <td>[Thibaud de Barbeyrac]</td>\n",
       "      <td>https://www.francetvinfo.fr/sante/hopital/urgences-certaines-visites-sont-desormais-payantes_4901127.html</td>\n",
       "      <td>https://www.francetvinfo.fr/replay-jt/france-2/20-heures/jt-de-20h-du-samedi-1-janvier-2022_4881617.html</td>\n",
       "      <td>False</td>\n",
       "      <td>france2</td>\n",
       "    </tr>\n",
       "    <tr>\n",
       "      <th>4</th>\n",
       "      <td>Sarthe : inquiétude et émotion lors des adieux d'un médecin de campagne</td>\n",
       "      <td>Une page se tourne à Guécélard, une petite commune de la Sarthe de 3 000 habitants. Geneviève Poiré, la dernière médecin de la ville, prend sa retraite après 33 ans passés à y soigner. \"On ne réalise pas tout à fait, quand on retire la plaque. Comme a...</td>\n",
       "      <td>2022-01-01T00:00:00.000+01:00</td>\n",
       "      <td>5</td>\n",
       "      <td>Laurent Delahousse</td>\n",
       "      <td>[A-C.Roth, M.Birden, N.El Abid, E.Urtado]</td>\n",
       "      <td>Elsa Pallot</td>\n",
       "      <td>[Thibaud de Barbeyrac]</td>\n",
       "      <td>https://www.francetvinfo.fr/sante/soigner/sarthe-inquietude-et-emotion-lors-des-adieux-d-un-medecin-de-campagne_4901097.html</td>\n",
       "      <td>https://www.francetvinfo.fr/replay-jt/france-2/20-heures/jt-de-20h-du-samedi-1-janvier-2022_4881617.html</td>\n",
       "      <td>False</td>\n",
       "      <td>france2</td>\n",
       "    </tr>\n",
       "  </tbody>\n",
       "</table>\n",
       "</div>"
      ],
      "text/plain": [
       "                                                                                                   title  \\\n",
       "0                            Nouvel An 2022 : les Français ont fait la fête malgré le contexte sanitaire   \n",
       "1                                      Nouvel An 2022 : une nuit de réveillon magique, de New York à Rio   \n",
       "2  Covid-19 : dès le 3 janvier, le port du masque sera obligatoire dès 6 ans dans certains lieux publics   \n",
       "3                                                   Urgences : certaines visites sont désormais payantes   \n",
       "4                                Sarthe : inquiétude et émotion lors des adieux d'un médecin de campagne   \n",
       "\n",
       "                                                                                                                                                                                                                                                      description  \\\n",
       "0  Rien n’a arrêté les Français vendredi 31 décembre, pour fêter le passage à la nouvelle année, pas même le contexte sanitaire. \"Les gens arrivent à faire la fête mine de rien, et à oublier tout ce qu’il s’est passé\", dit une passante, sur les Champs-El...   \n",
       "1  Partout dans le monde, la tradition du Nouvel An a été respectée, vendredi 31 décembre. Le ciel s'est illuminé à Londres (Royaume-Uni). Le Big Ben, encore en rénovation, a retenti à minuit, après quatre ans de silence. Des milliers de personnes se son...   \n",
       "2  Dès lundi 3 janvier, le port du masque ne sera plus seulement imposé en classe, pour les enfants de plus de six ans, mais aussi dans certains lieux publics. \"Je suis habituée, souffle une petite fille. Je le porte dans la rue, en ville\". La mesure s’a...   \n",
       "3  Il faudra désormais s’habituer à sortir la carte bleue après un passage aux urgences. En effet, chaque visite dans les services d’urgences n’entraînant pas d’hospitalisation sera désormais payante. Un reste à charge de 19,61 euros. Une manière pour le...   \n",
       "4  Une page se tourne à Guécélard, une petite commune de la Sarthe de 3 000 habitants. Geneviève Poiré, la dernière médecin de la ville, prend sa retraite après 33 ans passés à y soigner. \"On ne réalise pas tout à fait, quand on retire la plaque. Comme a...   \n",
       "\n",
       "                            date  order           presenter  \\\n",
       "0  2022-01-01T00:00:00.000+01:00      1  Laurent Delahousse   \n",
       "1  2022-01-01T00:00:00.000+01:00      2  Laurent Delahousse   \n",
       "2  2022-01-01T00:00:00.000+01:00      3  Laurent Delahousse   \n",
       "3  2022-01-01T00:00:00.000+01:00      4  Laurent Delahousse   \n",
       "4  2022-01-01T00:00:00.000+01:00      5  Laurent Delahousse   \n",
       "\n",
       "                                                                                                     authors  \\\n",
       "0  [J.Debraux, C.Rougerie, A.Rémond, C.Cuello, F.Simoès, A.Etienne, S.Gripon, France 3 Régions, L.Lavieille]   \n",
       "1                                                                     [Récit : E.Cornet, Montage : M.Le Rue]   \n",
       "2                  [C.Rougerie, E.Cornet, J.Coulais, M.Birden, D.Breysse, C.Pary, France 3 Régions, N.Sadok]   \n",
       "3                                                                            [A.Jolly, G.Marque, G.Liaboeuf]   \n",
       "4                                                                  [A-C.Roth, M.Birden, N.El Abid, E.Urtado]   \n",
       "\n",
       "        editor            editorDeputy  \\\n",
       "0  Elsa Pallot  [Thibaud de Barbeyrac]   \n",
       "1  Elsa Pallot  [Thibaud de Barbeyrac]   \n",
       "2  Elsa Pallot  [Thibaud de Barbeyrac]   \n",
       "3  Elsa Pallot  [Thibaud de Barbeyrac]   \n",
       "4  Elsa Pallot  [Thibaud de Barbeyrac]   \n",
       "\n",
       "                                                                                                                                                                                        url  \\\n",
       "0                                              https://www.francetvinfo.fr/sante/maladie/coronavirus/nouvel-an-2022-les-francais-ont-fait-la-fete-malgre-le-contexte-sanitaire_4901089.html   \n",
       "1                                                         https://www.francetvinfo.fr/sante/maladie/coronavirus/nouvel-an-2022-une-nuit-de-reveillon-magique-de-new-york-a-rio_4901107.html   \n",
       "2  https://www.francetvinfo.fr/sante/maladie/coronavirus/masques-sanitaires/covid-19-des-le-3-janvier-le-port-du-masque-sera-obligatoire-des-6-ans-dans-certains-lieux-publics_4901091.html   \n",
       "3                                                                                 https://www.francetvinfo.fr/sante/hopital/urgences-certaines-visites-sont-desormais-payantes_4901127.html   \n",
       "4                                                              https://www.francetvinfo.fr/sante/soigner/sarthe-inquietude-et-emotion-lors-des-adieux-d-un-medecin-de-campagne_4901097.html   \n",
       "\n",
       "                                                                                                  urlTvNews  \\\n",
       "0  https://www.francetvinfo.fr/replay-jt/france-2/20-heures/jt-de-20h-du-samedi-1-janvier-2022_4881617.html   \n",
       "1  https://www.francetvinfo.fr/replay-jt/france-2/20-heures/jt-de-20h-du-samedi-1-janvier-2022_4881617.html   \n",
       "2  https://www.francetvinfo.fr/replay-jt/france-2/20-heures/jt-de-20h-du-samedi-1-janvier-2022_4881617.html   \n",
       "3  https://www.francetvinfo.fr/replay-jt/france-2/20-heures/jt-de-20h-du-samedi-1-janvier-2022_4881617.html   \n",
       "4  https://www.francetvinfo.fr/replay-jt/france-2/20-heures/jt-de-20h-du-samedi-1-janvier-2022_4881617.html   \n",
       "\n",
       "   containsWordGlobalWarming    media  \n",
       "0                      False  france2  \n",
       "1                      False  france2  \n",
       "2                      False  france2  \n",
       "3                      False  france2  \n",
       "4                      False  france2  "
      ]
     },
     "execution_count": 25,
     "metadata": {},
     "output_type": "execute_result"
    }
   ],
   "source": [
    "data.head()"
   ]
  },
  {
   "cell_type": "code",
   "execution_count": 26,
   "id": "5c80f312",
   "metadata": {},
   "outputs": [
    {
     "data": {
      "text/html": [
       "<div>\n",
       "<style scoped>\n",
       "    .dataframe tbody tr th:only-of-type {\n",
       "        vertical-align: middle;\n",
       "    }\n",
       "\n",
       "    .dataframe tbody tr th {\n",
       "        vertical-align: top;\n",
       "    }\n",
       "\n",
       "    .dataframe thead th {\n",
       "        text-align: right;\n",
       "    }\n",
       "</style>\n",
       "<table border=\"1\" class=\"dataframe\">\n",
       "  <thead>\n",
       "    <tr style=\"text-align: right;\">\n",
       "      <th></th>\n",
       "      <th>title</th>\n",
       "      <th>description</th>\n",
       "      <th>date</th>\n",
       "      <th>order</th>\n",
       "      <th>presenter</th>\n",
       "      <th>authors</th>\n",
       "      <th>editor</th>\n",
       "      <th>editorDeputy</th>\n",
       "      <th>url</th>\n",
       "      <th>urlTvNews</th>\n",
       "      <th>containsWordGlobalWarming</th>\n",
       "      <th>media</th>\n",
       "    </tr>\n",
       "  </thead>\n",
       "  <tbody>\n",
       "  </tbody>\n",
       "</table>\n",
       "</div>"
      ],
      "text/plain": [
       "Empty DataFrame\n",
       "Columns: [title, description, date, order, presenter, authors, editor, editorDeputy, url, urlTvNews, containsWordGlobalWarming, media]\n",
       "Index: []"
      ]
     },
     "execution_count": 26,
     "metadata": {},
     "output_type": "execute_result"
    }
   ],
   "source": [
    "data[['sientifiques' in c.lower()  for c in data.description]]"
   ]
  },
  {
   "cell_type": "code",
   "execution_count": 27,
   "id": "0ae1fd4e",
   "metadata": {},
   "outputs": [
    {
     "data": {
      "text/html": [
       "<div>\n",
       "<style scoped>\n",
       "    .dataframe tbody tr th:only-of-type {\n",
       "        vertical-align: middle;\n",
       "    }\n",
       "\n",
       "    .dataframe tbody tr th {\n",
       "        vertical-align: top;\n",
       "    }\n",
       "\n",
       "    .dataframe thead th {\n",
       "        text-align: right;\n",
       "    }\n",
       "</style>\n",
       "<table border=\"1\" class=\"dataframe\">\n",
       "  <thead>\n",
       "    <tr style=\"text-align: right;\">\n",
       "      <th></th>\n",
       "      <th>title</th>\n",
       "      <th>description</th>\n",
       "      <th>date</th>\n",
       "      <th>order</th>\n",
       "      <th>presenter</th>\n",
       "      <th>authors</th>\n",
       "      <th>editor</th>\n",
       "      <th>editorDeputy</th>\n",
       "      <th>url</th>\n",
       "      <th>urlTvNews</th>\n",
       "      <th>containsWordGlobalWarming</th>\n",
       "      <th>media</th>\n",
       "    </tr>\n",
       "  </thead>\n",
       "  <tbody>\n",
       "  </tbody>\n",
       "</table>\n",
       "</div>"
      ],
      "text/plain": [
       "Empty DataFrame\n",
       "Columns: [title, description, date, order, presenter, authors, editor, editorDeputy, url, urlTvNews, containsWordGlobalWarming, media]\n",
       "Index: []"
      ]
     },
     "execution_count": 27,
     "metadata": {},
     "output_type": "execute_result"
    }
   ],
   "source": [
    "data[['méthane' in c.lower() for c in data.description]]"
   ]
  },
  {
   "cell_type": "code",
   "execution_count": 28,
   "id": "f668b606",
   "metadata": {},
   "outputs": [
    {
     "data": {
      "text/html": [
       "<div>\n",
       "<style scoped>\n",
       "    .dataframe tbody tr th:only-of-type {\n",
       "        vertical-align: middle;\n",
       "    }\n",
       "\n",
       "    .dataframe tbody tr th {\n",
       "        vertical-align: top;\n",
       "    }\n",
       "\n",
       "    .dataframe thead th {\n",
       "        text-align: right;\n",
       "    }\n",
       "</style>\n",
       "<table border=\"1\" class=\"dataframe\">\n",
       "  <thead>\n",
       "    <tr style=\"text-align: right;\">\n",
       "      <th></th>\n",
       "      <th>title</th>\n",
       "      <th>description</th>\n",
       "      <th>date</th>\n",
       "      <th>order</th>\n",
       "      <th>presenter</th>\n",
       "      <th>authors</th>\n",
       "      <th>editor</th>\n",
       "      <th>editorDeputy</th>\n",
       "      <th>url</th>\n",
       "      <th>urlTvNews</th>\n",
       "      <th>containsWordGlobalWarming</th>\n",
       "      <th>media</th>\n",
       "    </tr>\n",
       "  </thead>\n",
       "  <tbody>\n",
       "  </tbody>\n",
       "</table>\n",
       "</div>"
      ],
      "text/plain": [
       "Empty DataFrame\n",
       "Columns: [title, description, date, order, presenter, authors, editor, editorDeputy, url, urlTvNews, containsWordGlobalWarming, media]\n",
       "Index: []"
      ]
     },
     "execution_count": 28,
     "metadata": {},
     "output_type": "execute_result"
    }
   ],
   "source": [
    "data[['catastrophe' in c.lower() and 'météo' in c.lower()  for c in data.description]]"
   ]
  },
  {
   "cell_type": "code",
   "execution_count": 29,
   "id": "a5e1bd98",
   "metadata": {},
   "outputs": [],
   "source": [
    "last_week = data[data[\"date\"] >= (datetime.datetime.now() -datetime.timedelta(days=7)).strftime('%Y-%m-%d')]"
   ]
  },
  {
   "cell_type": "code",
   "execution_count": 30,
   "id": "c5999e28",
   "metadata": {},
   "outputs": [],
   "source": [
    "text = \"\\n\".join([str(x) for x in last_week['title']])"
   ]
  },
  {
   "cell_type": "code",
   "execution_count": 31,
   "id": "ea409870",
   "metadata": {},
   "outputs": [
    {
     "data": {
      "text/plain": [
       "\"Électricité : une flambée des tarifs contenue par l’État\\nHausse des prix : combien de temps l'inflat\""
      ]
     },
     "execution_count": 31,
     "metadata": {},
     "output_type": "execute_result"
    }
   ],
   "source": [
    "text[:100]"
   ]
  },
  {
   "cell_type": "code",
   "execution_count": 32,
   "id": "5bf745f1",
   "metadata": {},
   "outputs": [],
   "source": [
    "stop_words_fr=stop_words.get_stop_words('fr') + ['enquête', 'plus', 'france', 'français', 'va']"
   ]
  },
  {
   "cell_type": "code",
   "execution_count": 33,
   "id": "bd5cdb5d",
   "metadata": {},
   "outputs": [],
   "source": [
    "cv = CountVectorizer(stop_words=stop_words_fr, min_df=3, max_df=.2)"
   ]
  },
  {
   "cell_type": "code",
   "execution_count": 34,
   "id": "a14a1341",
   "metadata": {},
   "outputs": [],
   "source": [
    "X = cv.fit_transform(last_week['title'])"
   ]
  },
  {
   "cell_type": "code",
   "execution_count": 35,
   "id": "083603c2",
   "metadata": {},
   "outputs": [
    {
     "data": {
      "text/plain": [
       "(106, 32)"
      ]
     },
     "execution_count": 35,
     "metadata": {},
     "output_type": "execute_result"
    }
   ],
   "source": [
    "X.shape"
   ]
  },
  {
   "cell_type": "code",
   "execution_count": 36,
   "id": "9eefcbaa",
   "metadata": {},
   "outputs": [],
   "source": [
    "wid2word = {wid:word for word,wid in cv.vocabulary_.items()}"
   ]
  },
  {
   "cell_type": "code",
   "execution_count": 37,
   "id": "35d92897",
   "metadata": {},
   "outputs": [],
   "source": [
    "frequencies = {wid2word[w]:f for w,f in enumerate(X.sum(axis=0).tolist()[0])}"
   ]
  },
  {
   "cell_type": "code",
   "execution_count": 38,
   "id": "cade2a90",
   "metadata": {},
   "outputs": [],
   "source": [
    "colors = sns.color_palette('Blues_r', len(frequencies))\n",
    "word_color = {w[0]:colors[k] for k,w in enumerate(sorted(frequencies.items(), key=lambda x: -x[1]))}\n",
    "def freq_color_func(word, font_size, position, orientation, random_state=None, **kwargs):\n",
    "    return tuple([int(x * 255) for x in word_color[word]] + [1])"
   ]
  },
  {
   "cell_type": "code",
   "execution_count": 39,
   "id": "2d879e2d",
   "metadata": {},
   "outputs": [],
   "source": [
    "wc = wordcloud.WordCloud(background_color='white', width=400, height=400, prefer_horizontal=1, color_func=freq_color_func, relative_scaling=True)"
   ]
  },
  {
   "cell_type": "code",
   "execution_count": 40,
   "id": "476217a4",
   "metadata": {},
   "outputs": [
    {
     "data": {
      "text/plain": [
       "<wordcloud.wordcloud.WordCloud at 0x7f4163fe5820>"
      ]
     },
     "execution_count": 40,
     "metadata": {},
     "output_type": "execute_result"
    }
   ],
   "source": [
    "wc.generate_from_frequencies(frequencies)"
   ]
  },
  {
   "cell_type": "code",
   "execution_count": 41,
   "id": "4715ecf3",
   "metadata": {},
   "outputs": [
    {
     "data": {
      "image/png": "[encoded data removed]",
      "text/plain": [
       "<PIL.Image.Image image mode=RGB size=400x400 at 0x7F416415A6A0>"
      ]
     },
     "execution_count": 41,
     "metadata": {},
     "output_type": "execute_result"
    }
   ],
   "source": [
    "wc.to_image()"
   ]
  },
  {
   "cell_type": "code",
   "execution_count": 42,
   "id": "45081405",
   "metadata": {},
   "outputs": [
    {
     "data": {
      "text/html": [
       "<div>\n",
       "<style scoped>\n",
       "    .dataframe tbody tr th:only-of-type {\n",
       "        vertical-align: middle;\n",
       "    }\n",
       "\n",
       "    .dataframe tbody tr th {\n",
       "        vertical-align: top;\n",
       "    }\n",
       "\n",
       "    .dataframe thead th {\n",
       "        text-align: right;\n",
       "    }\n",
       "</style>\n",
       "<table border=\"1\" class=\"dataframe\">\n",
       "  <thead>\n",
       "    <tr style=\"text-align: right;\">\n",
       "      <th></th>\n",
       "      <th>media</th>\n",
       "      <th>date</th>\n",
       "      <th>title</th>\n",
       "      <th>description</th>\n",
       "    </tr>\n",
       "  </thead>\n",
       "  <tbody>\n",
       "    <tr>\n",
       "      <th>444</th>\n",
       "      <td>france2</td>\n",
       "      <td>2022-02-05T00:00:00.000Z</td>\n",
       "      <td>JO 2022 : les biathlètes du relais mixte décrochent la première médaille des Bleus et remportent l’argent</td>\n",
       "      <td>La France enregistre sa première médaille aux Jeux olympiques de Pékin 2022. Les biathlètes du relais mixte ont remporté l’argent, après une journée difficile, notamment à cause des conditions climatiques. Il faisait -19°C, samedi 5 février, avec un v...</td>\n",
       "    </tr>\n",
       "    <tr>\n",
       "      <th>710</th>\n",
       "      <td>tf1</td>\n",
       "      <td>2022-02-01T00:00:00.000Z</td>\n",
       "      <td>Hausse du prix des péages : où va l'argent qu'ils récoltent ?</td>\n",
       "      <td>L'essentiel Les tarifs des péages autoroutiers augmentent de 2% en moyenne ce mardi 1er février. Combien rapportent-ils chaque année et à quoi sert cet argent ? Le 20H de TF1 vous explique.  Pour que les barrières de péages se lèvent, vous dépensez en...</td>\n",
       "    </tr>\n",
       "  </tbody>\n",
       "</table>\n",
       "</div>"
      ],
      "text/plain": [
       "       media                      date  \\\n",
       "444  france2  2022-02-05T00:00:00.000Z   \n",
       "710      tf1  2022-02-01T00:00:00.000Z   \n",
       "\n",
       "                                                                                                         title  \\\n",
       "444  JO 2022 : les biathlètes du relais mixte décrochent la première médaille des Bleus et remportent l’argent   \n",
       "710                                              Hausse du prix des péages : où va l'argent qu'ils récoltent ?   \n",
       "\n",
       "                                                                                                                                                                                                                                                        description  \n",
       "444  La France enregistre sa première médaille aux Jeux olympiques de Pékin 2022. Les biathlètes du relais mixte ont remporté l’argent, après une journée difficile, notamment à cause des conditions climatiques. Il faisait -19°C, samedi 5 février, avec un v...  \n",
       "710  L'essentiel Les tarifs des péages autoroutiers augmentent de 2% en moyenne ce mardi 1er février. Combien rapportent-ils chaque année et à quoi sert cet argent ? Le 20H de TF1 vous explique.  Pour que les barrières de péages se lèvent, vous dépensez en...  "
      ]
     },
     "execution_count": 42,
     "metadata": {},
     "output_type": "execute_result"
    }
   ],
   "source": [
    "    last_week[['argent' in c.lower() for c in last_week.title]][['media', 'date', 'title', 'description']]"
   ]
  }
 ],
 "metadata": {
  "kernelspec": {
   "display_name": "Python 3",
   "language": "python",
   "name": "python3"
  },
  "language_info": {
   "codemirror_mode": {
    "name": "ipython",
    "version": 3
   },
   "file_extension": ".py",
   "mimetype": "text/x-python",
   "name": "python",
   "nbconvert_exporter": "python",
   "pygments_lexer": "ipython3",
   "version": "3.9.7"
  },
  "toc": {
   "base_numbering": 1,
   "nav_menu": {},
   "number_sections": true,
   "sideBar": true,
   "skip_h1_title": false,
   "title_cell": "Table of Contents",
   "title_sidebar": "Contents",
   "toc_cell": false,
   "toc_position": {},
   "toc_section_display": true,
   "toc_window_display": false
  }
 },
 "nbformat": 4,
 "nbformat_minor": 5
}
