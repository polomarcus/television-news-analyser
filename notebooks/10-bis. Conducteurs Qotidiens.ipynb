{
 "cells": [
  {
   "cell_type": "code",
   "execution_count": 1,
   "id": "f9a3ade0",
   "metadata": {},
   "outputs": [],
   "source": [
    "import pandas as pd\n",
    "import json\n",
    "from glob import glob\n",
    "import os.path as osp\n",
    "import datetime\n",
    "import wordcloud\n",
    "from io import StringIO\n",
    "import stop_words\n",
    "from sklearn.feature_extraction.text import CountVectorizer\n",
    "import seaborn as sns\n",
    "import re"
   ]
  },
  {
   "cell_type": "code",
   "execution_count": 2,
   "id": "afa4be67",
   "metadata": {},
   "outputs": [],
   "source": [
    "pd.set_option('display.max_colwidth', 255)"
   ]
  },
  {
   "cell_type": "code",
   "execution_count": 3,
   "id": "3c0373af",
   "metadata": {},
   "outputs": [],
   "source": [
    "subjects = []\n",
    "for media in ['France 3', 'France 2', 'TF1']:\n",
    "    for year in ['2022']:\n",
    "        for month in ['11']:\n",
    "            month_path = f'../data-news-json/media={media}/year={year}/month={month}'\n",
    "            day_files = glob(f'{month_path}/day=*/*.json')\n",
    "            for day_file in day_files:\n",
    "                for line in open(day_file):\n",
    "                    subject = json.loads(line)\n",
    "                    subject['media'] = media.lower().replace(' ', '')\n",
    "                    subjects.append(subject)"
   ]
  },
  {
   "cell_type": "code",
   "execution_count": 4,
   "id": "1847fede",
   "metadata": {},
   "outputs": [],
   "source": [
    "data = pd.DataFrame(subjects)"
   ]
  },
  {
   "cell_type": "code",
   "execution_count": 53,
   "id": "af37103c",
   "metadata": {},
   "outputs": [],
   "source": [
    "focus_media = \"tf1\"\n",
    "edition = \"20h\"\n",
    "days_ago = 1"
   ]
  },
  {
   "cell_type": "code",
   "execution_count": 54,
   "id": "fd7b94b3",
   "metadata": {},
   "outputs": [],
   "source": [
    "today = datetime.date.today()\n",
    "start_delta = datetime.timedelta(days=days_ago)"
   ]
  },
  {
   "cell_type": "code",
   "execution_count": 55,
   "id": "0405a005",
   "metadata": {},
   "outputs": [],
   "source": [
    "start = today - start_delta"
   ]
  },
  {
   "cell_type": "code",
   "execution_count": 66,
   "id": "ec92cbb3",
   "metadata": {},
   "outputs": [],
   "source": [
    "end = start + datetime.timedelta(days=2)"
   ]
  },
  {
   "cell_type": "code",
   "execution_count": 67,
   "id": "502c46e0",
   "metadata": {},
   "outputs": [
    {
     "data": {
      "text/plain": [
       "(datetime.date(2022, 11, 6), datetime.date(2022, 11, 8))"
      ]
     },
     "execution_count": 67,
     "metadata": {},
     "output_type": "execute_result"
    }
   ],
   "source": [
    "start, end"
   ]
  },
  {
   "cell_type": "code",
   "execution_count": 68,
   "id": "548d6021",
   "metadata": {},
   "outputs": [],
   "source": [
    "focus_day = data[(data.media == focus_media)\n",
    "                 & (data[\"date\"] >= start.strftime(\"%Y-%m-%d\")) \n",
    "                 & (data[\"date\"] < end.strftime(\"%Y-%m-%d\")) ].copy()"
   ]
  },
  {
   "cell_type": "code",
   "execution_count": 69,
   "id": "4e70da53",
   "metadata": {},
   "outputs": [],
   "source": [
    "import re\n",
    "if focus_media == 'tf1':\n",
    "    topic_pattern = re.compile(\"https://www.tf1info.fr/(\\S+)/(\\S+).html\")\n",
    "    focus_day['topic'] = [topic_pattern.match(u).group(1) for u in focus_day.url]\n",
    "    \n",
    "if focus_media == 'france2':\n",
    "    topic_pattern = re.compile(\"https://www.francetvinfo.fr/(\\S+)/(\\S+).html\")\n",
    "    focus_day['topic'] = [topic_pattern.match(u).group(1).split('/')[0] \n",
    "                              for u in [x.replace('https://www.francetvinfo.frhttps://www.francetvinfo.fr', 'https://www.francetvinfo.fr') for x in focus_day.url]]"
   ]
  },
  {
   "cell_type": "code",
   "execution_count": 70,
   "id": "e789ab13",
   "metadata": {},
   "outputs": [
    {
     "data": {
      "image/png": "[encoded data removed]",
      "text/plain": [
       "<Figure size 432x288 with 1 Axes>"
      ]
     },
     "metadata": {
      "needs_background": "light"
     },
     "output_type": "display_data"
    }
   ],
   "source": [
    "focus_day['topic'].value_counts().plot(kind='barh').invert_yaxis()"
   ]
  },
  {
   "cell_type": "code",
   "execution_count": 71,
   "id": "a13854e9",
   "metadata": {},
   "outputs": [],
   "source": [
    "if focus_media == 'france2':\n",
    "    focus_day['formatted_date'] = [d.strftime('%d %B, %A') for d in pd.to_datetime(focus_day.date)]  \n",
    "if focus_media == 'tf1':\n",
    "    focus_day['formatted_date'] = [(d - datetime.timedelta(hours=20)+datetime.timedelta(minutes=1)).strftime('%d %B, %A') for d in pd.to_datetime(focus_day.date)]"
   ]
  },
  {
   "cell_type": "code",
   "execution_count": 72,
   "id": "d5a72374",
   "metadata": {},
   "outputs": [
    {
     "data": {
      "text/plain": [
       "<AxesSubplot:>"
      ]
     },
     "execution_count": 72,
     "metadata": {},
     "output_type": "execute_result"
    },
    {
     "data": {
      "image/png": "[encoded data removed]",
      "text/plain": [
       "<Figure size 432x288 with 1 Axes>"
      ]
     },
     "metadata": {
      "needs_background": "light"
     },
     "output_type": "display_data"
    }
   ],
   "source": [
    "focus_day['formatted_date'].value_counts().plot(kind='barh')"
   ]
  },
  {
   "cell_type": "code",
   "execution_count": 62,
   "id": "f978104e",
   "metadata": {},
   "outputs": [],
   "source": [
    "if focus_media == 'france2' and edition == \"20h\":\n",
    "    focus_edition = focus_day[['20h' in x for x in focus_day.urlTvNews]].copy()\n",
    "if focus_media == 'france2' and edition == \"13h\":\n",
    "    focus_edition = focus_day[['13h' in x for x in focus_day.urlTvNews]].copy()\n",
    "if focus_media == 'tf1' and edition == \"20h\":\n",
    "    focus_edition = focus_day[[('20h' in x) or ('we' in x and d[11:13] >= \"20\") for x,d in zip(focus_day.urlTvNews, focus_day.date)]].copy()"
   ]
  },
  {
   "cell_type": "code",
   "execution_count": 63,
   "id": "dcdbe16b",
   "metadata": {},
   "outputs": [
    {
     "data": {
      "text/html": [
       "<div>\n",
       "<style scoped>\n",
       "    .dataframe tbody tr th:only-of-type {\n",
       "        vertical-align: middle;\n",
       "    }\n",
       "\n",
       "    .dataframe tbody tr th {\n",
       "        vertical-align: top;\n",
       "    }\n",
       "\n",
       "    .dataframe thead th {\n",
       "        text-align: right;\n",
       "    }\n",
       "</style>\n",
       "<table border=\"1\" class=\"dataframe\">\n",
       "  <thead>\n",
       "    <tr style=\"text-align: right;\">\n",
       "      <th></th>\n",
       "      <th>title</th>\n",
       "      <th>description</th>\n",
       "      <th>date</th>\n",
       "      <th>order</th>\n",
       "      <th>presenter</th>\n",
       "      <th>authors</th>\n",
       "      <th>editor</th>\n",
       "      <th>editorDeputy</th>\n",
       "      <th>url</th>\n",
       "      <th>urlTvNews</th>\n",
       "      <th>containsWordGlobalWarming</th>\n",
       "      <th>media</th>\n",
       "      <th>topic</th>\n",
       "      <th>formatted_date</th>\n",
       "    </tr>\n",
       "  </thead>\n",
       "  <tbody>\n",
       "  </tbody>\n",
       "</table>\n",
       "</div>"
      ],
      "text/plain": [
       "Empty DataFrame\n",
       "Columns: [title, description, date, order, presenter, authors, editor, editorDeputy, url, urlTvNews, containsWordGlobalWarming, media, topic, formatted_date]\n",
       "Index: []"
      ]
     },
     "execution_count": 63,
     "metadata": {},
     "output_type": "execute_result"
    }
   ],
   "source": [
    "focus_edition"
   ]
  },
  {
   "cell_type": "code",
   "execution_count": 40,
   "id": "dae6c267",
   "metadata": {},
   "outputs": [
    {
     "ename": "KeyError",
     "evalue": "'2237732'",
     "output_type": "error",
     "traceback": [
      "\u001b[0;31m---------------------------------------------------------------------------\u001b[0m",
      "\u001b[0;31mKeyError\u001b[0m                                  Traceback (most recent call last)",
      "File \u001b[0;32m/usr/lib/python3.10/site-packages/pandas/core/indexes/base.py:3621\u001b[0m, in \u001b[0;36mIndex.get_loc\u001b[0;34m(self, key, method, tolerance)\u001b[0m\n\u001b[1;32m   3620\u001b[0m \u001b[38;5;28;01mtry\u001b[39;00m:\n\u001b[0;32m-> 3621\u001b[0m     \u001b[38;5;28;01mreturn\u001b[39;00m \u001b[38;5;28;43mself\u001b[39;49m\u001b[38;5;241;43m.\u001b[39;49m\u001b[43m_engine\u001b[49m\u001b[38;5;241;43m.\u001b[39;49m\u001b[43mget_loc\u001b[49m\u001b[43m(\u001b[49m\u001b[43mcasted_key\u001b[49m\u001b[43m)\u001b[49m\n\u001b[1;32m   3622\u001b[0m \u001b[38;5;28;01mexcept\u001b[39;00m \u001b[38;5;167;01mKeyError\u001b[39;00m \u001b[38;5;28;01mas\u001b[39;00m err:\n",
      "File \u001b[0;32m/usr/lib/python3.10/site-packages/pandas/_libs/index.pyx:136\u001b[0m, in \u001b[0;36mpandas._libs.index.IndexEngine.get_loc\u001b[0;34m()\u001b[0m\n",
      "File \u001b[0;32m/usr/lib/python3.10/site-packages/pandas/_libs/index.pyx:163\u001b[0m, in \u001b[0;36mpandas._libs.index.IndexEngine.get_loc\u001b[0;34m()\u001b[0m\n",
      "File \u001b[0;32mpandas/_libs/hashtable_class_helper.pxi:5198\u001b[0m, in \u001b[0;36mpandas._libs.hashtable.PyObjectHashTable.get_item\u001b[0;34m()\u001b[0m\n",
      "File \u001b[0;32mpandas/_libs/hashtable_class_helper.pxi:5206\u001b[0m, in \u001b[0;36mpandas._libs.hashtable.PyObjectHashTable.get_item\u001b[0;34m()\u001b[0m\n",
      "\u001b[0;31mKeyError\u001b[0m: '2237732'",
      "\nThe above exception was the direct cause of the following exception:\n",
      "\u001b[0;31mKeyError\u001b[0m                                  Traceback (most recent call last)",
      "Input \u001b[0;32mIn [40]\u001b[0m, in \u001b[0;36m<cell line: 1>\u001b[0;34m()\u001b[0m\n\u001b[1;32m      6\u001b[0m \u001b[38;5;28;01melse\u001b[39;00m:\n\u001b[1;32m      7\u001b[0m     order_by_id \u001b[38;5;241m=\u001b[39m focus_edition\u001b[38;5;241m.\u001b[39mgroupby(\u001b[38;5;124m'\u001b[39m\u001b[38;5;124mformatted_date\u001b[39m\u001b[38;5;124m'\u001b[39m)\u001b[38;5;241m.\u001b[39mapply(\u001b[38;5;28;01mlambda\u001b[39;00m x: x\u001b[38;5;241m.\u001b[39mset_index(\u001b[38;5;124m'\u001b[39m\u001b[38;5;124mid\u001b[39m\u001b[38;5;124m'\u001b[39m)\u001b[38;5;241m.\u001b[39morder\u001b[38;5;241m.\u001b[39mrank(method\u001b[38;5;241m=\u001b[39m\u001b[38;5;124m'\u001b[39m\u001b[38;5;124mfirst\u001b[39m\u001b[38;5;124m'\u001b[39m))\u001b[38;5;241m.\u001b[39mreset_index()\u001b[38;5;241m.\u001b[39mset_index(\u001b[38;5;124m'\u001b[39m\u001b[38;5;124mid\u001b[39m\u001b[38;5;124m'\u001b[39m)\u001b[38;5;241m.\u001b[39morder    \n\u001b[0;32m----> 8\u001b[0m focus_edition[\u001b[38;5;124m'\u001b[39m\u001b[38;5;124morder\u001b[39m\u001b[38;5;124m'\u001b[39m] \u001b[38;5;241m=\u001b[39m [focus_edition[x] \u001b[38;5;28;01mfor\u001b[39;00m x \u001b[38;5;129;01min\u001b[39;00m focus_edition\u001b[38;5;241m.\u001b[39mid]\n",
      "Input \u001b[0;32mIn [40]\u001b[0m, in \u001b[0;36m<listcomp>\u001b[0;34m(.0)\u001b[0m\n\u001b[1;32m      6\u001b[0m \u001b[38;5;28;01melse\u001b[39;00m:\n\u001b[1;32m      7\u001b[0m     order_by_id \u001b[38;5;241m=\u001b[39m focus_edition\u001b[38;5;241m.\u001b[39mgroupby(\u001b[38;5;124m'\u001b[39m\u001b[38;5;124mformatted_date\u001b[39m\u001b[38;5;124m'\u001b[39m)\u001b[38;5;241m.\u001b[39mapply(\u001b[38;5;28;01mlambda\u001b[39;00m x: x\u001b[38;5;241m.\u001b[39mset_index(\u001b[38;5;124m'\u001b[39m\u001b[38;5;124mid\u001b[39m\u001b[38;5;124m'\u001b[39m)\u001b[38;5;241m.\u001b[39morder\u001b[38;5;241m.\u001b[39mrank(method\u001b[38;5;241m=\u001b[39m\u001b[38;5;124m'\u001b[39m\u001b[38;5;124mfirst\u001b[39m\u001b[38;5;124m'\u001b[39m))\u001b[38;5;241m.\u001b[39mreset_index()\u001b[38;5;241m.\u001b[39mset_index(\u001b[38;5;124m'\u001b[39m\u001b[38;5;124mid\u001b[39m\u001b[38;5;124m'\u001b[39m)\u001b[38;5;241m.\u001b[39morder    \n\u001b[0;32m----> 8\u001b[0m focus_edition[\u001b[38;5;124m'\u001b[39m\u001b[38;5;124morder\u001b[39m\u001b[38;5;124m'\u001b[39m] \u001b[38;5;241m=\u001b[39m [\u001b[43mfocus_edition\u001b[49m\u001b[43m[\u001b[49m\u001b[43mx\u001b[49m\u001b[43m]\u001b[49m \u001b[38;5;28;01mfor\u001b[39;00m x \u001b[38;5;129;01min\u001b[39;00m focus_edition\u001b[38;5;241m.\u001b[39mid]\n",
      "File \u001b[0;32m/usr/lib/python3.10/site-packages/pandas/core/frame.py:3505\u001b[0m, in \u001b[0;36mDataFrame.__getitem__\u001b[0;34m(self, key)\u001b[0m\n\u001b[1;32m   3503\u001b[0m \u001b[38;5;28;01mif\u001b[39;00m \u001b[38;5;28mself\u001b[39m\u001b[38;5;241m.\u001b[39mcolumns\u001b[38;5;241m.\u001b[39mnlevels \u001b[38;5;241m>\u001b[39m \u001b[38;5;241m1\u001b[39m:\n\u001b[1;32m   3504\u001b[0m     \u001b[38;5;28;01mreturn\u001b[39;00m \u001b[38;5;28mself\u001b[39m\u001b[38;5;241m.\u001b[39m_getitem_multilevel(key)\n\u001b[0;32m-> 3505\u001b[0m indexer \u001b[38;5;241m=\u001b[39m \u001b[38;5;28;43mself\u001b[39;49m\u001b[38;5;241;43m.\u001b[39;49m\u001b[43mcolumns\u001b[49m\u001b[38;5;241;43m.\u001b[39;49m\u001b[43mget_loc\u001b[49m\u001b[43m(\u001b[49m\u001b[43mkey\u001b[49m\u001b[43m)\u001b[49m\n\u001b[1;32m   3506\u001b[0m \u001b[38;5;28;01mif\u001b[39;00m is_integer(indexer):\n\u001b[1;32m   3507\u001b[0m     indexer \u001b[38;5;241m=\u001b[39m [indexer]\n",
      "File \u001b[0;32m/usr/lib/python3.10/site-packages/pandas/core/indexes/base.py:3623\u001b[0m, in \u001b[0;36mIndex.get_loc\u001b[0;34m(self, key, method, tolerance)\u001b[0m\n\u001b[1;32m   3621\u001b[0m     \u001b[38;5;28;01mreturn\u001b[39;00m \u001b[38;5;28mself\u001b[39m\u001b[38;5;241m.\u001b[39m_engine\u001b[38;5;241m.\u001b[39mget_loc(casted_key)\n\u001b[1;32m   3622\u001b[0m \u001b[38;5;28;01mexcept\u001b[39;00m \u001b[38;5;167;01mKeyError\u001b[39;00m \u001b[38;5;28;01mas\u001b[39;00m err:\n\u001b[0;32m-> 3623\u001b[0m     \u001b[38;5;28;01mraise\u001b[39;00m \u001b[38;5;167;01mKeyError\u001b[39;00m(key) \u001b[38;5;28;01mfrom\u001b[39;00m \u001b[38;5;21;01merr\u001b[39;00m\n\u001b[1;32m   3624\u001b[0m \u001b[38;5;28;01mexcept\u001b[39;00m \u001b[38;5;167;01mTypeError\u001b[39;00m:\n\u001b[1;32m   3625\u001b[0m     \u001b[38;5;66;03m# If we have a listlike key, _check_indexing_error will raise\u001b[39;00m\n\u001b[1;32m   3626\u001b[0m     \u001b[38;5;66;03m#  InvalidIndexError. Otherwise we fall through and re-raise\u001b[39;00m\n\u001b[1;32m   3627\u001b[0m     \u001b[38;5;66;03m#  the TypeError.\u001b[39;00m\n\u001b[1;32m   3628\u001b[0m     \u001b[38;5;28mself\u001b[39m\u001b[38;5;241m.\u001b[39m_check_indexing_error(key)\n",
      "\u001b[0;31mKeyError\u001b[0m: '2237732'"
     ]
    }
   ],
   "source": [
    "if focus_media == 'tf1':\n",
    "    focus_edition['id'] = [x.split('-')[-1][:-5] for x in focus_edition.url]\n",
    "    focus_edition['order'] = focus_edition['date']\n",
    "    if focus_edition.formatted_date.nunique() == 1:\n",
    "        order_by_id = focus_edition.set_index('id').order.rank(method='first').reset_index().set_index('id').order \n",
    "    else:\n",
    "        order_by_id = focus_edition.groupby('formatted_date').apply(lambda x: x.set_index('id').order.rank(method='first')).reset_index().set_index('id').order    \n",
    "    focus_edition['order'] = [focus_edition[x] for x in focus_edition.id]"
   ]
  },
  {
   "cell_type": "code",
   "execution_count": 41,
   "id": "8212a466",
   "metadata": {},
   "outputs": [],
   "source": [
    "if False:\n",
    "    last_week_edition = last_week[['we' in x for x in last_week.urlTvNews]].copy()\n",
    "    last_week_edition['id'] = [x.split('-')[-1][:-5] for x in last_week_edition.url]\n",
    "    last_week_edition['order'] = last_week_20h['id']\n",
    "    order_by_id = last_week_edition.last_week_edition('formatted_date').apply(lambda x: x.set_index('id').order.rank(method='first')).reset_index().set_index('id').order    \n",
    "    last_week_edition['order'] = [order_by_id[x] for x in last_week_edition.id]"
   ]
  },
  {
   "cell_type": "code",
   "execution_count": 153,
   "id": "c3295860",
   "metadata": {},
   "outputs": [],
   "source": [
    "conducteur = last_week_edition.pivot(index='order', columns='formatted_date', values='title')"
   ]
  },
  {
   "cell_type": "code",
   "execution_count": 154,
   "id": "ab915cc7",
   "metadata": {},
   "outputs": [
    {
     "data": {
      "text/plain": [
       "31 October, Monday    8\n",
       "Name: formatted_date, dtype: int64"
      ]
     },
     "execution_count": 154,
     "metadata": {},
     "output_type": "execute_result"
    }
   ],
   "source": [
    "last_week_edition.formatted_date.value_counts().sort_index()"
   ]
  },
  {
   "cell_type": "code",
   "execution_count": 155,
   "id": "06c89dc3",
   "metadata": {},
   "outputs": [
    {
     "data": {
      "text/html": [
       "<div>\n",
       "<style scoped>\n",
       "    .dataframe tbody tr th:only-of-type {\n",
       "        vertical-align: middle;\n",
       "    }\n",
       "\n",
       "    .dataframe tbody tr th {\n",
       "        vertical-align: top;\n",
       "    }\n",
       "\n",
       "    .dataframe thead th {\n",
       "        text-align: right;\n",
       "    }\n",
       "</style>\n",
       "<table border=\"1\" class=\"dataframe\">\n",
       "  <thead>\n",
       "    <tr style=\"text-align: right;\">\n",
       "      <th>formatted_date</th>\n",
       "      <th>31 October, Monday</th>\n",
       "    </tr>\n",
       "    <tr>\n",
       "      <th>order</th>\n",
       "      <th></th>\n",
       "    </tr>\n",
       "  </thead>\n",
       "  <tbody>\n",
       "    <tr>\n",
       "      <th>1.0</th>\n",
       "      <td>Flambée des prix de l'énergie : ces entreprises qui s'arrêtent</td>\n",
       "    </tr>\n",
       "    <tr>\n",
       "      <th>2.0</th>\n",
       "      <td>Les résidences secondaires bientôt surtaxées ?</td>\n",
       "    </tr>\n",
       "    <tr>\n",
       "      <th>3.0</th>\n",
       "      <td>Deux-roues : bientôt un contrôle technique</td>\n",
       "    </tr>\n",
       "    <tr>\n",
       "      <th>4.0</th>\n",
       "      <td>Sainte-Soline : qui sont les \"écoterroristes\" ?</td>\n",
       "    </tr>\n",
       "    <tr>\n",
       "      <th>5.0</th>\n",
       "      <td>Tornade dans le Pas-de-Calais : comment reconstruire le champ de ruines ?</td>\n",
       "    </tr>\n",
       "    <tr>\n",
       "      <th>6.0</th>\n",
       "      <td>Bombardements russes : coupures d'électricité et d'eau en Ukraine</td>\n",
       "    </tr>\n",
       "    <tr>\n",
       "      <th>7.0</th>\n",
       "      <td>Dans le spectaculaire parc de Grand Teton</td>\n",
       "    </tr>\n",
       "    <tr>\n",
       "      <th>8.0</th>\n",
       "      <td>VIDÉO - Brésil : après l'élection présidentielle, le pays plus divisé que jamais</td>\n",
       "    </tr>\n",
       "  </tbody>\n",
       "</table>\n",
       "</div>"
      ],
      "text/plain": [
       "formatted_date                                                                31 October, Monday\n",
       "order                                                                                           \n",
       "1.0                               Flambée des prix de l'énergie : ces entreprises qui s'arrêtent\n",
       "2.0                                               Les résidences secondaires bientôt surtaxées ?\n",
       "3.0                                                   Deux-roues : bientôt un contrôle technique\n",
       "4.0                                              Sainte-Soline : qui sont les \"écoterroristes\" ?\n",
       "5.0                    Tornade dans le Pas-de-Calais : comment reconstruire le champ de ruines ?\n",
       "6.0                            Bombardements russes : coupures d'électricité et d'eau en Ukraine\n",
       "7.0                                                    Dans le spectaculaire parc de Grand Teton\n",
       "8.0             VIDÉO - Brésil : après l'élection présidentielle, le pays plus divisé que jamais"
      ]
     },
     "execution_count": 155,
     "metadata": {},
     "output_type": "execute_result"
    }
   ],
   "source": [
    "conducteur"
   ]
  },
  {
   "cell_type": "code",
   "execution_count": 156,
   "id": "42858569",
   "metadata": {},
   "outputs": [
    {
     "data": {
      "text/html": [
       "<div>\n",
       "<style scoped>\n",
       "    .dataframe tbody tr th:only-of-type {\n",
       "        vertical-align: middle;\n",
       "    }\n",
       "\n",
       "    .dataframe tbody tr th {\n",
       "        vertical-align: top;\n",
       "    }\n",
       "\n",
       "    .dataframe thead th {\n",
       "        text-align: right;\n",
       "    }\n",
       "</style>\n",
       "<table border=\"1\" class=\"dataframe\">\n",
       "  <thead>\n",
       "    <tr style=\"text-align: right;\">\n",
       "      <th></th>\n",
       "      <th>date</th>\n",
       "      <th>media</th>\n",
       "      <th>title</th>\n",
       "      <th>url</th>\n",
       "    </tr>\n",
       "  </thead>\n",
       "  <tbody>\n",
       "  </tbody>\n",
       "</table>\n",
       "</div>"
      ],
      "text/plain": [
       "Empty DataFrame\n",
       "Columns: [date, media, title, url]\n",
       "Index: []"
      ]
     },
     "execution_count": 156,
     "metadata": {},
     "output_type": "execute_result"
    }
   ],
   "source": [
    "query  = \"climat\"\n",
    "last_week_edition[last_week_edition.description.apply(lambda x : query in x.lower())][['date', 'media', 'title', 'url']]"
   ]
  },
  {
   "cell_type": "code",
   "execution_count": 157,
   "id": "ca09cc88",
   "metadata": {},
   "outputs": [
    {
     "ename": "IndexError",
     "evalue": "single positional indexer is out-of-bounds",
     "output_type": "error",
     "traceback": [
      "\u001b[0;31m---------------------------------------------------------------------------\u001b[0m",
      "\u001b[0;31mIndexError\u001b[0m                                Traceback (most recent call last)",
      "Input \u001b[0;32mIn [157]\u001b[0m, in \u001b[0;36m<cell line: 1>\u001b[0;34m()\u001b[0m\n\u001b[0;32m----> 1\u001b[0m \u001b[38;5;28mprint\u001b[39m(\u001b[43mlast_week_edition\u001b[49m\u001b[43m[\u001b[49m\u001b[43mlast_week_edition\u001b[49m\u001b[38;5;241;43m.\u001b[39;49m\u001b[43mdescription\u001b[49m\u001b[38;5;241;43m.\u001b[39;49m\u001b[43mapply\u001b[49m\u001b[43m(\u001b[49m\u001b[38;5;28;43;01mlambda\u001b[39;49;00m\u001b[43m \u001b[49m\u001b[43mx\u001b[49m\u001b[43m \u001b[49m\u001b[43m:\u001b[49m\u001b[43m \u001b[49m\u001b[43mquery\u001b[49m\u001b[43m \u001b[49m\u001b[38;5;129;43;01min\u001b[39;49;00m\u001b[43m \u001b[49m\u001b[43mx\u001b[49m\u001b[38;5;241;43m.\u001b[39;49m\u001b[43mlower\u001b[49m\u001b[43m(\u001b[49m\u001b[43m)\u001b[49m\u001b[43m)\u001b[49m\u001b[43m]\u001b[49m\u001b[43m[\u001b[49m\u001b[38;5;124;43m'\u001b[39;49m\u001b[38;5;124;43mdescription\u001b[39;49m\u001b[38;5;124;43m'\u001b[39;49m\u001b[43m]\u001b[49m\u001b[38;5;241;43m.\u001b[39;49m\u001b[43miloc\u001b[49m\u001b[43m[\u001b[49m\u001b[38;5;241;43m0\u001b[39;49m\u001b[43m]\u001b[49m)\n",
      "File \u001b[0;32m/usr/lib/python3.10/site-packages/pandas/core/indexing.py:967\u001b[0m, in \u001b[0;36m_LocationIndexer.__getitem__\u001b[0;34m(self, key)\u001b[0m\n\u001b[1;32m    964\u001b[0m axis \u001b[38;5;241m=\u001b[39m \u001b[38;5;28mself\u001b[39m\u001b[38;5;241m.\u001b[39maxis \u001b[38;5;129;01mor\u001b[39;00m \u001b[38;5;241m0\u001b[39m\n\u001b[1;32m    966\u001b[0m maybe_callable \u001b[38;5;241m=\u001b[39m com\u001b[38;5;241m.\u001b[39mapply_if_callable(key, \u001b[38;5;28mself\u001b[39m\u001b[38;5;241m.\u001b[39mobj)\n\u001b[0;32m--> 967\u001b[0m \u001b[38;5;28;01mreturn\u001b[39;00m \u001b[38;5;28;43mself\u001b[39;49m\u001b[38;5;241;43m.\u001b[39;49m\u001b[43m_getitem_axis\u001b[49m\u001b[43m(\u001b[49m\u001b[43mmaybe_callable\u001b[49m\u001b[43m,\u001b[49m\u001b[43m \u001b[49m\u001b[43maxis\u001b[49m\u001b[38;5;241;43m=\u001b[39;49m\u001b[43maxis\u001b[49m\u001b[43m)\u001b[49m\n",
      "File \u001b[0;32m/usr/lib/python3.10/site-packages/pandas/core/indexing.py:1520\u001b[0m, in \u001b[0;36m_iLocIndexer._getitem_axis\u001b[0;34m(self, key, axis)\u001b[0m\n\u001b[1;32m   1517\u001b[0m     \u001b[38;5;28;01mraise\u001b[39;00m \u001b[38;5;167;01mTypeError\u001b[39;00m(\u001b[38;5;124m\"\u001b[39m\u001b[38;5;124mCannot index by location index with a non-integer key\u001b[39m\u001b[38;5;124m\"\u001b[39m)\n\u001b[1;32m   1519\u001b[0m \u001b[38;5;66;03m# validate the location\u001b[39;00m\n\u001b[0;32m-> 1520\u001b[0m \u001b[38;5;28;43mself\u001b[39;49m\u001b[38;5;241;43m.\u001b[39;49m\u001b[43m_validate_integer\u001b[49m\u001b[43m(\u001b[49m\u001b[43mkey\u001b[49m\u001b[43m,\u001b[49m\u001b[43m \u001b[49m\u001b[43maxis\u001b[49m\u001b[43m)\u001b[49m\n\u001b[1;32m   1522\u001b[0m \u001b[38;5;28;01mreturn\u001b[39;00m \u001b[38;5;28mself\u001b[39m\u001b[38;5;241m.\u001b[39mobj\u001b[38;5;241m.\u001b[39m_ixs(key, axis\u001b[38;5;241m=\u001b[39maxis)\n",
      "File \u001b[0;32m/usr/lib/python3.10/site-packages/pandas/core/indexing.py:1452\u001b[0m, in \u001b[0;36m_iLocIndexer._validate_integer\u001b[0;34m(self, key, axis)\u001b[0m\n\u001b[1;32m   1450\u001b[0m len_axis \u001b[38;5;241m=\u001b[39m \u001b[38;5;28mlen\u001b[39m(\u001b[38;5;28mself\u001b[39m\u001b[38;5;241m.\u001b[39mobj\u001b[38;5;241m.\u001b[39m_get_axis(axis))\n\u001b[1;32m   1451\u001b[0m \u001b[38;5;28;01mif\u001b[39;00m key \u001b[38;5;241m>\u001b[39m\u001b[38;5;241m=\u001b[39m len_axis \u001b[38;5;129;01mor\u001b[39;00m key \u001b[38;5;241m<\u001b[39m \u001b[38;5;241m-\u001b[39mlen_axis:\n\u001b[0;32m-> 1452\u001b[0m     \u001b[38;5;28;01mraise\u001b[39;00m \u001b[38;5;167;01mIndexError\u001b[39;00m(\u001b[38;5;124m\"\u001b[39m\u001b[38;5;124msingle positional indexer is out-of-bounds\u001b[39m\u001b[38;5;124m\"\u001b[39m)\n",
      "\u001b[0;31mIndexError\u001b[0m: single positional indexer is out-of-bounds"
     ]
    }
   ],
   "source": [
    "print(last_week_edition[last_week_edition.description.apply(lambda x : query in x.lower())]['description'].iloc[0])"
   ]
  },
  {
   "cell_type": "code",
   "execution_count": null,
   "id": "223b4b6f",
   "metadata": {},
   "outputs": [],
   "source": []
  }
 ],
 "metadata": {
  "kernelspec": {
   "display_name": "Python 3 (ipykernel)",
   "language": "python",
   "name": "python3"
  },
  "language_info": {
   "codemirror_mode": {
    "name": "ipython",
    "version": 3
   },
   "file_extension": ".py",
   "mimetype": "text/x-python",
   "name": "python",
   "nbconvert_exporter": "python",
   "pygments_lexer": "ipython3",
   "version": "3.10.4"
  },
  "toc": {
   "base_numbering": 1,
   "nav_menu": {},
   "number_sections": true,
   "sideBar": true,
   "skip_h1_title": false,
   "title_cell": "Table of Contents",
   "title_sidebar": "Contents",
   "toc_cell": false,
   "toc_position": {},
   "toc_section_display": true,
   "toc_window_display": false
  }
 },
 "nbformat": 4,
 "nbformat_minor": 5
}
