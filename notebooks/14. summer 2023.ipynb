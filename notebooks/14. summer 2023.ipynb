{
 "cells": [
  {
   "cell_type": "code",
   "execution_count": 92,
   "id": "688eb2ef-72e9-4ec2-9c11-d36e1af07f63",
   "metadata": {},
   "outputs": [],
   "source": [
    "import pandas as pd\n",
    "import json\n",
    "from glob import glob\n",
    "import os.path as osp\n",
    "import datetime\n",
    "import re\n",
    "import matplotlib.pyplot as plt\n",
    "%matplotlib inline"
   ]
  },
  {
   "cell_type": "code",
   "execution_count": 2,
   "id": "cc7a1b88-0f7e-40a6-be43-d1a138aa7a63",
   "metadata": {},
   "outputs": [],
   "source": [
    "pd.set_option('display.max_colwidth', 255)"
   ]
  },
  {
   "cell_type": "code",
   "execution_count": 3,
   "id": "3b6c65ad-e53a-4cc9-95b7-b26f4f76f901",
   "metadata": {},
   "outputs": [],
   "source": [
    "subjects = []\n",
    "for media in ['France 3', 'France 2', 'TF1']:\n",
    "    for year in ['2023']:\n",
    "        for month in ['6', '7', '8', '9']:\n",
    "            month_path = f'../data-news-json/media={media}/year={year}/month={month}'\n",
    "            day_files = glob(f'{month_path}/day=*/*.json')\n",
    "            for day_file in day_files:\n",
    "                for line in open(day_file):\n",
    "                    subject = json.loads(line)\n",
    "                    subject['media'] = media.lower().replace(' ', '')\n",
    "                    subjects.append(subject)"
   ]
  },
  {
   "cell_type": "code",
   "execution_count": 4,
   "id": "074a7e8a-a344-43d6-9298-41d31c573dcc",
   "metadata": {},
   "outputs": [
    {
     "data": {
      "text/plain": [
       "6483"
      ]
     },
     "execution_count": 4,
     "metadata": {},
     "output_type": "execute_result"
    }
   ],
   "source": [
    "len(subjects)"
   ]
  },
  {
   "cell_type": "code",
   "execution_count": 5,
   "id": "2a36c95b-d784-44ba-b4b0-bb9916bea228",
   "metadata": {},
   "outputs": [],
   "source": [
    "data = pd.DataFrame(subjects)"
   ]
  },
  {
   "cell_type": "code",
   "execution_count": 76,
   "id": "e92ae1f9-623b-4608-9781-798a44e1ce29",
   "metadata": {},
   "outputs": [],
   "source": [
    "def get_week_edition(data, focus_media, edition, week):\n",
    "    week_start = datetime.date(year=2023, month=6, day=5) + datetime.timedelta(weeks=week)\n",
    "    week_end = week_start + datetime.timedelta(days=8 if focus_media=='tf1' else 7)\n",
    "    week_data = data[(data.media == focus_media)\n",
    "                 & (data[\"date\"] >= week_start.strftime(\"%Y-%m-%d\")) \n",
    "                 & (data[\"date\"] < week_end.strftime(\"%Y-%m-%d\")) ].copy()\n",
    "\n",
    "    # extract edition\n",
    "    if focus_media == 'france2' and edition == \"20h\":\n",
    "        week_data = week_data[['20h' in x for x in week_data.urlTvNews]].copy()\n",
    "    if focus_media == 'france2' and edition == \"13h\":\n",
    "        week_data = week_data[['13h' in x for x in week_data.urlTvNews]].copy()\n",
    "    if focus_media == 'tf1' and edition == \"20h\":\n",
    "        week_data = week_data[[('20h' in x) or ('we' in x and (d[11:13] >= \"20\" or d[11:13] <= \"13\")) for x,d in zip(week_data.urlTvNews, week_data.date)]].copy()\n",
    "\n",
    "    \n",
    "    # get subject\n",
    "    if focus_media == 'tf1':\n",
    "        topic_pattern = re.compile(\"https://www.tf1info.fr/(\\S+)/(\\S+).html\")\n",
    "        week_data['topic'] = [topic_pattern.match(u).group(1) for u in week_data.url]\n",
    "        \n",
    "    if focus_media == 'france2':\n",
    "        topic_pattern = re.compile(\"https://www.francetvinfo.fr/(\\S+)/(\\S+).html\")\n",
    "        week_data['topic'] = [topic_pattern.match(u).group(1).split('/')[0] \n",
    "                                  for u in [x.replace('https://www.francetvinfo.frhttps://www.francetvinfo.fr', 'https://www.francetvinfo.fr') for x in week_data.url]]\n",
    "\n",
    "    if focus_media == 'france2':\n",
    "        week_data['formatted_date'] = [d.strftime('%d %B, %A') for d in pd.to_datetime(week_data.date)]  \n",
    "    if focus_media == 'tf1':\n",
    "        week_data['formatted_date'] = [(d - datetime.timedelta(hours=20)+datetime.timedelta(minutes=1)).strftime('%d %B, %A') for d in pd.to_datetime(week_data.date)]\n",
    "        week_data = week_data[(week_data['formatted_date'] >= week_start.strftime('%d %B, %A')) \n",
    "                                & (week_data['formatted_date'] < (week_end - datetime.timedelta(days=1)).strftime('%d %B, %A'))]\n",
    "        \n",
    "    return week_data"
   ]
  },
  {
   "cell_type": "code",
   "execution_count": 77,
   "id": "815c4a4d-9825-4aae-9bee-bf08033964ad",
   "metadata": {},
   "outputs": [],
   "source": [
    "week_edition = get_week_edition(data, 'tf1', '20h', 0)"
   ]
  },
  {
   "cell_type": "code",
   "execution_count": 78,
   "id": "99a95af8-45ff-455c-94d4-b38fa00ec9fe",
   "metadata": {},
   "outputs": [
    {
     "data": {
      "text/plain": [
       "62"
      ]
     },
     "execution_count": 78,
     "metadata": {},
     "output_type": "execute_result"
    }
   ],
   "source": [
    "len(week_edition)"
   ]
  },
  {
   "cell_type": "code",
   "execution_count": 79,
   "id": "9eb4abce-1c67-4788-a7a7-82be00f780b3",
   "metadata": {},
   "outputs": [
    {
     "data": {
      "text/plain": [
       "<Axes: xlabel='formatted_date'>"
      ]
     },
     "execution_count": 79,
     "metadata": {},
     "output_type": "execute_result"
    },
    {
     "data": {
      "image/png": "[encoded data removed]",
      "text/plain": [
       "<Figure size 640x480 with 1 Axes>"
      ]
     },
     "metadata": {},
     "output_type": "display_data"
    }
   ],
   "source": [
    "week_edition.formatted_date.value_counts().sort_index().plot(kind='bar')"
   ]
  },
  {
   "cell_type": "code",
   "execution_count": 80,
   "id": "af21a14f-e26e-4b00-986e-9a1f764de4c6",
   "metadata": {},
   "outputs": [
    {
     "data": {
      "text/html": [
       "<div>\n",
       "<style scoped>\n",
       "    .dataframe tbody tr th:only-of-type {\n",
       "        vertical-align: middle;\n",
       "    }\n",
       "\n",
       "    .dataframe tbody tr th {\n",
       "        vertical-align: top;\n",
       "    }\n",
       "\n",
       "    .dataframe thead th {\n",
       "        text-align: right;\n",
       "    }\n",
       "</style>\n",
       "<table border=\"1\" class=\"dataframe\">\n",
       "  <thead>\n",
       "    <tr style=\"text-align: right;\">\n",
       "      <th></th>\n",
       "      <th>formatted_date</th>\n",
       "      <th>title</th>\n",
       "      <th>description</th>\n",
       "      <th>topic</th>\n",
       "      <th>url</th>\n",
       "    </tr>\n",
       "  </thead>\n",
       "  <tbody>\n",
       "    <tr>\n",
       "      <th>4582</th>\n",
       "      <td>05 June, Monday</td>\n",
       "      <td>VIDÉO - Prix de l'essence : pourquoi ils risquent de repartir à la hausse cet été</td>\n",
       "      <td>Combien paierez-vous votre plein d'essence ou de gazole sur la route des vacances ? TF1 répond à vos questions sur l'évolution des prix. Ceux-ci risquent de nouveau d'augmenter dans les prochaines semaines.  Si les prix des carburants ont légèrement b...</td>\n",
       "      <td>conso</td>\n",
       "      <td>https://www.tf1info.fr/conso/video-tf1-carburants-essence-et-diesel-les-prix-vont-ils-augmenter-ou-baisser-cet-ete-2259436.html</td>\n",
       "    </tr>\n",
       "    <tr>\n",
       "      <th>4590</th>\n",
       "      <td>05 June, Monday</td>\n",
       "      <td>VIDÉO - Orages, grêle, pluies torrentielles... les intempéries frappent encore dans le sud</td>\n",
       "      <td>Des orages accompagnés de pluies torrentielles et de grêle ont à nouveau balayé la moitié sud de la France ce lundi 5 juin. Des phénomènes météorologiques intenses qui se répètent ces dernières semaines. Impuissants, les sinistrés ne peuvent que const...</td>\n",
       "      <td>meteo</td>\n",
       "      <td>https://www.tf1info.fr/meteo/video-tf1-20h-orages-grele-pluies-torrentielles-les-intemperies-frappent-a-nouveau-dans-le-sud-les-images-2259441.html</td>\n",
       "    </tr>\n",
       "    <tr>\n",
       "      <th>4588</th>\n",
       "      <td>05 June, Monday</td>\n",
       "      <td>VIDÉO - Prix des courses : le panier de TF1 entrevoit (enfin) une baisse</td>\n",
       "      <td>Depuis le début de l’année, le 20H de TF1 remplit chaque mois le même panier de courses, composé de quinze produits. En ce mois de juin, deux d'entre eux ont baissé et un seul augmente. L'horizon semble s'éclaircir à la caisse des supermarchés.  Vous ...</td>\n",
       "      <td>conso</td>\n",
       "      <td>https://www.tf1info.fr/conso/video-pouvoir-d-achat-prix-des-courses-le-panier-de-tf1-entrevoit-enfin-une-baisse-dans-les-supermarches-2259425.html</td>\n",
       "    </tr>\n",
       "    <tr>\n",
       "      <th>4584</th>\n",
       "      <td>05 June, Monday</td>\n",
       "      <td>VIDÉO - Everest : les images du sauvetage miraculeux dans \"la zone de la mort\"</td>\n",
       "      <td>En détresse dans \"la zone de mort\" de l'Everest, un alpiniste a été sauvé in extremis par un guide népalais en cette fin de saison particulièrement meurtrière au Népal. Le sherpa, sur le point d'atteindre le sommet de l'Everest avec l'un de ses client...</td>\n",
       "      <td>international</td>\n",
       "      <td>https://www.tf1info.fr/international/video-tf1-alpinisme-ascension-de-l-everest-le-sauvetage-miraculeux-d-un-sherpa-a-8000-metres-d-altitude-2259442.html</td>\n",
       "    </tr>\n",
       "    <tr>\n",
       "      <th>4580</th>\n",
       "      <td>05 June, Monday</td>\n",
       "      <td>VIDÉO - Chine : ces poissons peuvent valoir plus cher qu'une Porsche</td>\n",
       "      <td>Tout le monde connaît les concours animaliers où l'on juge de la beauté de chiens ou de chats. En Chine, l'une des compétitions les plus populaires se tient chaque année à Canton. Sauf qu'ici, pas de bêtes à poils mais d'étonnants poissons, qui attire...</td>\n",
       "      <td>international</td>\n",
       "      <td>https://www.tf1info.fr/international/video-tf1-en-chine-des-poissons-dragons-vendus-au-prix-d-une-porsche-jusqu-a-130000-euros-2259437.html</td>\n",
       "    </tr>\n",
       "  </tbody>\n",
       "</table>\n",
       "</div>"
      ],
      "text/plain": [
       "       formatted_date  \\\n",
       "4582  05 June, Monday   \n",
       "4590  05 June, Monday   \n",
       "4588  05 June, Monday   \n",
       "4584  05 June, Monday   \n",
       "4580  05 June, Monday   \n",
       "\n",
       "                                                                                           title  \\\n",
       "4582           VIDÉO - Prix de l'essence : pourquoi ils risquent de repartir à la hausse cet été   \n",
       "4590  VIDÉO - Orages, grêle, pluies torrentielles... les intempéries frappent encore dans le sud   \n",
       "4588                    VIDÉO - Prix des courses : le panier de TF1 entrevoit (enfin) une baisse   \n",
       "4584              VIDÉO - Everest : les images du sauvetage miraculeux dans \"la zone de la mort\"   \n",
       "4580                        VIDÉO - Chine : ces poissons peuvent valoir plus cher qu'une Porsche   \n",
       "\n",
       "                                                                                                                                                                                                                                                         description  \\\n",
       "4582  Combien paierez-vous votre plein d'essence ou de gazole sur la route des vacances ? TF1 répond à vos questions sur l'évolution des prix. Ceux-ci risquent de nouveau d'augmenter dans les prochaines semaines.  Si les prix des carburants ont légèrement b...   \n",
       "4590  Des orages accompagnés de pluies torrentielles et de grêle ont à nouveau balayé la moitié sud de la France ce lundi 5 juin. Des phénomènes météorologiques intenses qui se répètent ces dernières semaines. Impuissants, les sinistrés ne peuvent que const...   \n",
       "4588  Depuis le début de l’année, le 20H de TF1 remplit chaque mois le même panier de courses, composé de quinze produits. En ce mois de juin, deux d'entre eux ont baissé et un seul augmente. L'horizon semble s'éclaircir à la caisse des supermarchés.  Vous ...   \n",
       "4584  En détresse dans \"la zone de mort\" de l'Everest, un alpiniste a été sauvé in extremis par un guide népalais en cette fin de saison particulièrement meurtrière au Népal. Le sherpa, sur le point d'atteindre le sommet de l'Everest avec l'un de ses client...   \n",
       "4580  Tout le monde connaît les concours animaliers où l'on juge de la beauté de chiens ou de chats. En Chine, l'une des compétitions les plus populaires se tient chaque année à Canton. Sauf qu'ici, pas de bêtes à poils mais d'étonnants poissons, qui attire...   \n",
       "\n",
       "              topic  \\\n",
       "4582          conso   \n",
       "4590          meteo   \n",
       "4588          conso   \n",
       "4584  international   \n",
       "4580  international   \n",
       "\n",
       "                                                                                                                                                            url  \n",
       "4582                            https://www.tf1info.fr/conso/video-tf1-carburants-essence-et-diesel-les-prix-vont-ils-augmenter-ou-baisser-cet-ete-2259436.html  \n",
       "4590        https://www.tf1info.fr/meteo/video-tf1-20h-orages-grele-pluies-torrentielles-les-intemperies-frappent-a-nouveau-dans-le-sud-les-images-2259441.html  \n",
       "4588         https://www.tf1info.fr/conso/video-pouvoir-d-achat-prix-des-courses-le-panier-de-tf1-entrevoit-enfin-une-baisse-dans-les-supermarches-2259425.html  \n",
       "4584  https://www.tf1info.fr/international/video-tf1-alpinisme-ascension-de-l-everest-le-sauvetage-miraculeux-d-un-sherpa-a-8000-metres-d-altitude-2259442.html  \n",
       "4580                https://www.tf1info.fr/international/video-tf1-en-chine-des-poissons-dragons-vendus-au-prix-d-une-porsche-jusqu-a-130000-euros-2259437.html  "
      ]
     },
     "execution_count": 80,
     "metadata": {},
     "output_type": "execute_result"
    }
   ],
   "source": [
    "export = week_edition.sort_values('formatted_date')[['formatted_date', 'title', 'description', 'topic',  'url']]\n",
    "export.head()"
   ]
  },
  {
   "cell_type": "code",
   "execution_count": 81,
   "id": "e90bb8d7-74ad-430e-8254-2e7b173c7129",
   "metadata": {},
   "outputs": [],
   "source": [
    "annot = pd.read_csv('data/summer2023_tf1_june5_annotated.csv')"
   ]
  },
  {
   "cell_type": "code",
   "execution_count": 82,
   "id": "d13dc919-5dba-4e1f-a626-fb86b2797e51",
   "metadata": {},
   "outputs": [],
   "source": [
    "export = export.merge(annot[['title', 'climat']], how='left', on='title')"
   ]
  },
  {
   "cell_type": "code",
   "execution_count": 83,
   "id": "0b794537-fccd-4222-9aa9-304bd1ca17ca",
   "metadata": {},
   "outputs": [],
   "source": [
    "export.to_csv('data/summer2023_tf1_june5.csv' ,index=False)"
   ]
  },
  {
   "cell_type": "markdown",
   "id": "6f75e45e-8b18-4e91-8ac2-5762929b11ae",
   "metadata": {},
   "source": [
    "# Analyse"
   ]
  },
  {
   "cell_type": "code",
   "execution_count": 103,
   "id": "8516ddd8-6454-404c-b6d3-fc4ccddf4f05",
   "metadata": {},
   "outputs": [],
   "source": [
    "tf1 = pd.read_csv('data/summer2023_tf1_june5.csv')"
   ]
  },
  {
   "cell_type": "code",
   "execution_count": 104,
   "id": "cb85a84e-9a33-4926-a497-11fec257b113",
   "metadata": {},
   "outputs": [],
   "source": [
    "france2 = pd.read_csv('data/summer2023_france2_june5.csv')"
   ]
  },
  {
   "cell_type": "code",
   "execution_count": 115,
   "id": "cd0fdefa-10f9-4ce8-a621-5b49f0f3201d",
   "metadata": {},
   "outputs": [
    {
     "data": {
      "text/plain": [
       "<Axes: title={'center': 'france2'}>"
      ]
     },
     "execution_count": 115,
     "metadata": {},
     "output_type": "execute_result"
    },
    {
     "data": {
      "image/png": "[encoded data removed]",
      "text/plain": [
       "<Figure size 1000x500 with 2 Axes>"
      ]
     },
     "metadata": {},
     "output_type": "display_data"
    }
   ],
   "source": [
    "fig, axes = plt.subplots(1,2, figsize=(10, 5))\n",
    "tf1.climat.value_counts().plot(kind=('bar'), ax=axes[0], title='tf1', xlabel='')\n",
    "france2.climat.value_counts().plot(kind=('bar'), ax=axes[1], title='france2', xlabel='')"
   ]
  },
  {
   "cell_type": "code",
   "execution_count": 116,
   "id": "eb492242-b7e2-48ff-ba83-0572013e304f",
   "metadata": {},
   "outputs": [
    {
     "data": {
      "image/png": "[encoded data removed]",
      "text/plain": [
       "<Figure size 1500x500 with 2 Axes>"
      ]
     },
     "metadata": {},
     "output_type": "display_data"
    }
   ],
   "source": [
    "fig, axes = plt.subplots(1,2, figsize=(15, 5))\n",
    "tf1.climat_topic.value_counts().plot(kind='barh', ax=axes[0], title='tf1', ylabel='').invert_yaxis()\n",
    "france2.climat_topic.value_counts().plot(kind='barh', ax=axes[1], title='france2', ylabel='').invert_yaxis()"
   ]
  },
  {
   "cell_type": "markdown",
   "id": "63bc53de-4f05-4710-9538-2378f0fc660b",
   "metadata": {},
   "source": [
    "# Auto detection"
   ]
  },
  {
   "cell_type": "code",
   "execution_count": 131,
   "id": "075d5625-71e1-4233-a58c-25df5a928516",
   "metadata": {},
   "outputs": [],
   "source": [
    "tf1_all = []\n",
    "for w in range(15):\n",
    "    tf1_all.append(get_week_edition(data, 'tf1', '20h', w))"
   ]
  },
  {
   "cell_type": "code",
   "execution_count": 132,
   "id": "0d66db49-5efd-4a2c-9344-797ad514a148",
   "metadata": {},
   "outputs": [],
   "source": [
    "tf1_all = pd.concat(tf1_all)"
   ]
  },
  {
   "cell_type": "code",
   "execution_count": 133,
   "id": "a8ec72f1-502d-449c-bb46-02f60bf0ae0d",
   "metadata": {},
   "outputs": [
    {
     "data": {
      "text/plain": [
       "795"
      ]
     },
     "execution_count": 133,
     "metadata": {},
     "output_type": "execute_result"
    }
   ],
   "source": [
    "len(tf1_all)"
   ]
  },
  {
   "cell_type": "code",
   "execution_count": 215,
   "id": "2f62021c-4010-4a47-a649-4341359710fb",
   "metadata": {},
   "outputs": [],
   "source": [
    "france2_all = []\n",
    "for w in range(15):\n",
    "    france2_all.append(get_week_edition(data, 'france2', '20h', w))"
   ]
  },
  {
   "cell_type": "code",
   "execution_count": 216,
   "id": "9035b9f5-2db9-43fc-941d-f5f547fc65e3",
   "metadata": {},
   "outputs": [],
   "source": [
    "france2_all = pd.concat(france2_all)"
   ]
  },
  {
   "cell_type": "code",
   "execution_count": 217,
   "id": "dd56d340-9b2a-4c08-ad04-3652bac9566a",
   "metadata": {},
   "outputs": [
    {
     "data": {
      "text/plain": [
       "1279"
      ]
     },
     "execution_count": 217,
     "metadata": {},
     "output_type": "execute_result"
    }
   ],
   "source": [
    "len(france2_all)"
   ]
  },
  {
   "cell_type": "code",
   "execution_count": 204,
   "id": "94d7de1c-4f8b-491a-ace2-b09c137025ae",
   "metadata": {},
   "outputs": [],
   "source": [
    "keywords = {\n",
    "    'incendies' : ['incendie', 'incendies', 'feux', 'pompiers', 'feu'],\n",
    "    'orages' : ['orage', 'orages', 'intempéries', 'pluie', 'pluies', 'grêle', 'innodations', 'innodation'],\n",
    "    'énergie' : ['gaz', 'solaire', 'solaires', 'éoliennes', 'éolienne', 'éolien'],\n",
    "    'canicule' : ['chaleur', 'chaleurs', 'température', 'températures', 'canicule', 'canicules', 'fraicheur', 'climatisation', 'climatiseur', 'climatiseusrs'],\n",
    "    'sécheresse' : ['eau', 'sécheresse', 'phréatique', 'phréatiques', 'bassines', 'bassine', 'soline'],\n",
    "    'voiture' : ['voiture', 'voitures', 'automobile', 'automobilies', 'automobilistes', 'carburant', 'pompe', 'péage', 'péages', 'permis', 'conduire'],\n",
    "    'train' : ['train', 'trains', 'rail', 'rails', 'rer', 'ferroviaire', 'ferroviaires', 'sncf', 'ratp'],\n",
    "    'déchets' : [],\n",
    "    'biodiversité' : [],\n",
    "    'voyage' : [],\n",
    "    'consommation' : []\n",
    "}"
   ]
  },
  {
   "cell_type": "code",
   "execution_count": 205,
   "id": "7723f482-3108-44c9-b273-3ce36cb6f835",
   "metadata": {},
   "outputs": [],
   "source": [
    "topic = 'train'"
   ]
  },
  {
   "cell_type": "code",
   "execution_count": 203,
   "id": "cdba5dc0-cd0e-489e-9b58-b45f65d59abd",
   "metadata": {},
   "outputs": [
    {
     "data": {
      "text/html": [
       "<div>\n",
       "<style scoped>\n",
       "    .dataframe tbody tr th:only-of-type {\n",
       "        vertical-align: middle;\n",
       "    }\n",
       "\n",
       "    .dataframe tbody tr th {\n",
       "        vertical-align: top;\n",
       "    }\n",
       "\n",
       "    .dataframe thead th {\n",
       "        text-align: right;\n",
       "    }\n",
       "</style>\n",
       "<table border=\"1\" class=\"dataframe\">\n",
       "  <thead>\n",
       "    <tr style=\"text-align: right;\">\n",
       "      <th></th>\n",
       "      <th>formatted_date</th>\n",
       "      <th>title</th>\n",
       "    </tr>\n",
       "  </thead>\n",
       "  <tbody>\n",
       "    <tr>\n",
       "      <th>5993</th>\n",
       "      <td>19 August, Saturday</td>\n",
       "      <td>VIDÉO - Panne entre Hendaye et Bordeaux : pagaille ferroviaire dans le Sud-ouest</td>\n",
       "    </tr>\n",
       "  </tbody>\n",
       "</table>\n",
       "</div>"
      ],
      "text/plain": [
       "           formatted_date  \\\n",
       "5993  19 August, Saturday   \n",
       "\n",
       "                                                                                 title  \n",
       "5993  VIDÉO - Panne entre Hendaye et Bordeaux : pagaille ferroviaire dans le Sud-ouest  "
      ]
     },
     "execution_count": 203,
     "metadata": {},
     "output_type": "execute_result"
    }
   ],
   "source": [
    "tf1_all[['ferroviaire' in t.lower() for t in tf1_all.title]][['formatted_date', 'title']]"
   ]
  },
  {
   "cell_type": "code",
   "execution_count": 206,
   "id": "c11ff2bb-4586-4ea9-9ef1-303ff4deb4ce",
   "metadata": {},
   "outputs": [
    {
     "data": {
      "text/html": [
       "<div>\n",
       "<style scoped>\n",
       "    .dataframe tbody tr th:only-of-type {\n",
       "        vertical-align: middle;\n",
       "    }\n",
       "\n",
       "    .dataframe tbody tr th {\n",
       "        vertical-align: top;\n",
       "    }\n",
       "\n",
       "    .dataframe thead th {\n",
       "        text-align: right;\n",
       "    }\n",
       "</style>\n",
       "<table border=\"1\" class=\"dataframe\">\n",
       "  <thead>\n",
       "    <tr style=\"text-align: right;\">\n",
       "      <th></th>\n",
       "      <th>formatted_date</th>\n",
       "      <th>title</th>\n",
       "    </tr>\n",
       "  </thead>\n",
       "  <tbody>\n",
       "    <tr>\n",
       "      <th>4667</th>\n",
       "      <td>09 June, Friday</td>\n",
       "      <td>VIDÉO - SNCF : pagaille et retards dans deux gares parisiennes après des problèmes d'alimentation électrique</td>\n",
       "    </tr>\n",
       "    <tr>\n",
       "      <th>4252</th>\n",
       "      <td>14 June, Wednesday</td>\n",
       "      <td>VIDÉO - Trains cherchent réparateurs : la SNCF recrute plus de 1000 personnes pour la maintenance des rames</td>\n",
       "    </tr>\n",
       "    <tr>\n",
       "      <th>4318</th>\n",
       "      <td>13 June, Tuesday</td>\n",
       "      <td>VIDÉO - Transports dans les grandes villes : les RER sont-ils sur la bonne voie ?</td>\n",
       "    </tr>\n",
       "    <tr>\n",
       "      <th>4760</th>\n",
       "      <td>12 June, Monday</td>\n",
       "      <td>VIDÉO - SNCF : mais pourquoi les billets sont-ils si chers cet été ?</td>\n",
       "    </tr>\n",
       "    <tr>\n",
       "      <th>4399</th>\n",
       "      <td>22 June, Thursday</td>\n",
       "      <td>VIDÉO - Billets de train : encore quelques places disponibles pour cet été, mais au prix fort</td>\n",
       "    </tr>\n",
       "    <tr>\n",
       "      <th>5273</th>\n",
       "      <td>08 July, Saturday</td>\n",
       "      <td>REPORTAGE - Vacances : le train de nuit, vraiment un bon plan ?</td>\n",
       "    </tr>\n",
       "    <tr>\n",
       "      <th>4880</th>\n",
       "      <td>13 July, Thursday</td>\n",
       "      <td>Billets de train : Renfe, Trenitalia... la course aux petits prix face à la SNCF</td>\n",
       "    </tr>\n",
       "    <tr>\n",
       "      <th>4885</th>\n",
       "      <td>13 July, Thursday</td>\n",
       "      <td>Renfe : à bord du premier train espagnol en France</td>\n",
       "    </tr>\n",
       "    <tr>\n",
       "      <th>5163</th>\n",
       "      <td>17 July, Monday</td>\n",
       "      <td>VIDÉO - SNCF : nouveaux plafonds pour la carte \"Avantage\"</td>\n",
       "    </tr>\n",
       "    <tr>\n",
       "      <th>5129</th>\n",
       "      <td>29 July, Saturday</td>\n",
       "      <td>REPORTAGE - \"Ça commence à être énervant\" : l'agacement des voyageurs face aux pannes de la SNCF</td>\n",
       "    </tr>\n",
       "    <tr>\n",
       "      <th>5473</th>\n",
       "      <td>26 July, Wednesday</td>\n",
       "      <td>SNCF : pourquoi les retards de train ont atteint des records</td>\n",
       "    </tr>\n",
       "    <tr>\n",
       "      <th>5993</th>\n",
       "      <td>19 August, Saturday</td>\n",
       "      <td>VIDÉO - Panne entre Hendaye et Bordeaux : pagaille ferroviaire dans le Sud-ouest</td>\n",
       "    </tr>\n",
       "    <tr>\n",
       "      <th>6141</th>\n",
       "      <td>23 August, Wednesday</td>\n",
       "      <td>VIDÉO - Espèces protégées : la SNCF Réseau lourdement condamnée, une première</td>\n",
       "    </tr>\n",
       "    <tr>\n",
       "      <th>6355</th>\n",
       "      <td>17 September, Sunday</td>\n",
       "      <td>VIDÉO - À bord du \"Laos Express\", 1000 kilomètres de rails au pays du million d'éléphants</td>\n",
       "    </tr>\n",
       "  </tbody>\n",
       "</table>\n",
       "</div>"
      ],
      "text/plain": [
       "            formatted_date  \\\n",
       "4667       09 June, Friday   \n",
       "4252    14 June, Wednesday   \n",
       "4318      13 June, Tuesday   \n",
       "4760       12 June, Monday   \n",
       "4399     22 June, Thursday   \n",
       "5273     08 July, Saturday   \n",
       "4880     13 July, Thursday   \n",
       "4885     13 July, Thursday   \n",
       "5163       17 July, Monday   \n",
       "5129     29 July, Saturday   \n",
       "5473    26 July, Wednesday   \n",
       "5993   19 August, Saturday   \n",
       "6141  23 August, Wednesday   \n",
       "6355  17 September, Sunday   \n",
       "\n",
       "                                                                                                             title  \n",
       "4667  VIDÉO - SNCF : pagaille et retards dans deux gares parisiennes après des problèmes d'alimentation électrique  \n",
       "4252   VIDÉO - Trains cherchent réparateurs : la SNCF recrute plus de 1000 personnes pour la maintenance des rames  \n",
       "4318                             VIDÉO - Transports dans les grandes villes : les RER sont-ils sur la bonne voie ?  \n",
       "4760                                          VIDÉO - SNCF : mais pourquoi les billets sont-ils si chers cet été ?  \n",
       "4399                 VIDÉO - Billets de train : encore quelques places disponibles pour cet été, mais au prix fort  \n",
       "5273                                               REPORTAGE - Vacances : le train de nuit, vraiment un bon plan ?  \n",
       "4880                              Billets de train : Renfe, Trenitalia... la course aux petits prix face à la SNCF  \n",
       "4885                                                            Renfe : à bord du premier train espagnol en France  \n",
       "5163                                                     VIDÉO - SNCF : nouveaux plafonds pour la carte \"Avantage\"  \n",
       "5129              REPORTAGE - \"Ça commence à être énervant\" : l'agacement des voyageurs face aux pannes de la SNCF  \n",
       "5473                                                  SNCF : pourquoi les retards de train ont atteint des records  \n",
       "5993                              VIDÉO - Panne entre Hendaye et Bordeaux : pagaille ferroviaire dans le Sud-ouest  \n",
       "6141                                 VIDÉO - Espèces protégées : la SNCF Réseau lourdement condamnée, une première  \n",
       "6355                     VIDÉO - À bord du \"Laos Express\", 1000 kilomètres de rails au pays du million d'éléphants  "
      ]
     },
     "execution_count": 206,
     "metadata": {},
     "output_type": "execute_result"
    }
   ],
   "source": [
    "tf1_all[[any(w in keywords[topic] for w in t.lower().split()) for t in tf1_all.title]][['formatted_date', 'title']]"
   ]
  },
  {
   "cell_type": "code",
   "execution_count": 222,
   "id": "9eb89e23-a697-4376-a25d-393d3d15b88a",
   "metadata": {},
   "outputs": [],
   "source": [
    "tf1_topic= {}"
   ]
  },
  {
   "cell_type": "code",
   "execution_count": 241,
   "id": "abf9023b-c5bc-426e-b4ec-f35399717cb5",
   "metadata": {},
   "outputs": [],
   "source": [
    "for topic in keywords.keys():\n",
    "    if len(keywords[topic]) == 0:\n",
    "        continue\n",
    "    tf1_topic[topic] = tf1_all[[any(w in keywords[topic] for w in t.lower().split()) for t in tf1_all.title]][['formatted_date', 'title', 'description', 'url']]"
   ]
  },
  {
   "cell_type": "code",
   "execution_count": 224,
   "id": "5d47c400-c345-43bc-bc8f-1d87a5807856",
   "metadata": {},
   "outputs": [],
   "source": [
    "tf1_topic_counts = pd.Series({t:len(s) for t,s in tf1_topic.items()}).sort_values(ascending=False)"
   ]
  },
  {
   "cell_type": "code",
   "execution_count": 225,
   "id": "d1cd57f8-cc1e-47b2-bc41-192efe4be4e4",
   "metadata": {},
   "outputs": [
    {
     "data": {
      "image/png": "[encoded data removed]",
      "text/plain": [
       "<Figure size 640x480 with 1 Axes>"
      ]
     },
     "metadata": {},
     "output_type": "display_data"
    }
   ],
   "source": [
    "tf1_topic_counts.plot(kind='barh').invert_yaxis()"
   ]
  },
  {
   "cell_type": "code",
   "execution_count": 226,
   "id": "601373fd-66f9-4673-a7ef-c01030bab8e7",
   "metadata": {},
   "outputs": [],
   "source": [
    "france_2_topic = {}"
   ]
  },
  {
   "cell_type": "code",
   "execution_count": 240,
   "id": "d3d6860c-09ee-403e-9b28-fdfe7d707254",
   "metadata": {},
   "outputs": [],
   "source": [
    "for topic in keywords.keys():\n",
    "    if len(keywords[topic]) == 0:\n",
    "        continue\n",
    "    france_2_topic[topic] = france2_all[[any(w in keywords[topic] for w in t.lower().split()) for t in france2_all.title]][['formatted_date', 'title', 'description', 'url']]"
   ]
  },
  {
   "cell_type": "code",
   "execution_count": 231,
   "id": "8cf9073d-f721-4e64-a6a5-332b97835e76",
   "metadata": {},
   "outputs": [],
   "source": [
    "france_2_topic_counts = pd.Series({t:len(s) for t,s in france_2_topic.items()}).sort_values(ascending=False)"
   ]
  },
  {
   "cell_type": "code",
   "execution_count": 233,
   "id": "b897da2f-8506-430e-8098-174149a103c1",
   "metadata": {},
   "outputs": [
    {
     "data": {
      "image/png": "[encoded data removed]",
      "text/plain": [
       "<Figure size 1500x500 with 2 Axes>"
      ]
     },
     "metadata": {},
     "output_type": "display_data"
    }
   ],
   "source": [
    "fig, axes = plt.subplots(1,2, figsize=(15, 5))\n",
    "tf1_topic_counts.plot(kind='barh', ax=axes[0], title='tf1', ylabel='').invert_yaxis()\n",
    "france_2_topic_counts.plot(kind='barh', ax=axes[1], title='france2', ylabel='').invert_yaxis()"
   ]
  },
  {
   "cell_type": "markdown",
   "id": "b5cb2849-c317-40af-8d06-18b40848a9f2",
   "metadata": {},
   "source": [
    "# Export"
   ]
  },
  {
   "cell_type": "code",
   "execution_count": 238,
   "id": "988e1ee6-b500-479d-a909-ecf6da5a4b2f",
   "metadata": {},
   "outputs": [],
   "source": [
    "tf1_all.sort_values('date')[['formatted_date', 'title', 'description', 'url']].to_csv('data/summer2023_tf1_all.csv', index=False)"
   ]
  },
  {
   "cell_type": "code",
   "execution_count": 239,
   "id": "b937ab1a-cfe2-4634-b410-50c8344cf4ad",
   "metadata": {},
   "outputs": [],
   "source": [
    "france2_all.sort_values('date')[['formatted_date', 'title', 'description', 'url']].to_csv('data/summer2023_france2_all.csv', index=False)"
   ]
  },
  {
   "cell_type": "code",
   "execution_count": 247,
   "id": "eaa26419-1623-4acb-9ec7-42d04fae09c2",
   "metadata": {},
   "outputs": [],
   "source": [
    "pd.concat(tf1_topic).reset_index().rename({'level_0': 'topic'}, axis=1).drop('level_1', axis=1).to_csv('data/summer2023_tf1_topics.csv', index=False)"
   ]
  },
  {
   "cell_type": "code",
   "execution_count": 249,
   "id": "80647274-d492-4824-b620-c4d042da719f",
   "metadata": {},
   "outputs": [],
   "source": [
    "pd.concat(france_2_topic).reset_index().rename({'level_0': 'topic'}, axis=1).drop('level_1', axis=1).to_csv('data/summer2023_france2_topics.csv', index=False)"
   ]
  }
 ],
 "metadata": {
  "kernelspec": {
   "display_name": "data-env",
   "language": "python",
   "name": "data-env"
  },
  "language_info": {
   "codemirror_mode": {
    "name": "ipython",
    "version": 3
   },
   "file_extension": ".py",
   "mimetype": "text/x-python",
   "name": "python",
   "nbconvert_exporter": "python",
   "pygments_lexer": "ipython3",
   "version": "3.10.12"
  }
 },
 "nbformat": 4,
 "nbformat_minor": 5
}
