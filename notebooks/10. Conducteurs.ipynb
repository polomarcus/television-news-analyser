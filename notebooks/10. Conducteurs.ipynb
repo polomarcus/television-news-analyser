{
 "cells": [
  {
   "cell_type": "code",
   "execution_count": 1,
   "id": "f9a3ade0",
   "metadata": {},
   "outputs": [],
   "source": [
    "import pandas as pd\n",
    "import json\n",
    "from glob import glob\n",
    "import os.path as osp\n",
    "import datetime\n",
    "import wordcloud\n",
    "from io import StringIO\n",
    "import stop_words\n",
    "from sklearn.feature_extraction.text import CountVectorizer\n",
    "import seaborn as sns\n",
    "import re"
   ]
  },
  {
   "cell_type": "code",
   "execution_count": 2,
   "id": "afa4be67",
   "metadata": {},
   "outputs": [],
   "source": [
    "pd.set_option('display.max_colwidth', 255)"
   ]
  },
  {
   "cell_type": "code",
   "execution_count": 23,
   "id": "3c0373af",
   "metadata": {},
   "outputs": [],
   "source": [
    "subjects = []\n",
    "for media in ['France 3', 'France 2', 'TF1']:\n",
    "    for year in ['2023']:\n",
    "        for month in ['1', '2', '3']:\n",
    "            month_path = f'../data-news-json/media={media}/year={year}/month={month}'\n",
    "            day_files = glob(f'{month_path}/day=*/*.json')\n",
    "            for day_file in day_files:\n",
    "                for line in open(day_file):\n",
    "                    subject = json.loads(line)\n",
    "                    subject['media'] = media.lower().replace(' ', '')\n",
    "                    subjects.append(subject)"
   ]
  },
  {
   "cell_type": "code",
   "execution_count": 24,
   "id": "1847fede",
   "metadata": {},
   "outputs": [],
   "source": [
    "data = pd.DataFrame(subjects)"
   ]
  },
  {
   "cell_type": "code",
   "execution_count": 180,
   "id": "af37103c",
   "metadata": {},
   "outputs": [],
   "source": [
    "focus_media = \"france2\"\n",
    "edition = \"20h\"\n",
    "weeks_ago = 4"
   ]
  },
  {
   "cell_type": "code",
   "execution_count": 181,
   "id": "fd7b94b3",
   "metadata": {},
   "outputs": [],
   "source": [
    "today = datetime.date.today()\n",
    "weekday = today.weekday()\n",
    "start_delta = datetime.timedelta(days=weekday, weeks=weeks_ago)"
   ]
  },
  {
   "cell_type": "code",
   "execution_count": 182,
   "id": "0405a005",
   "metadata": {},
   "outputs": [],
   "source": [
    "last_week_start = today - start_delta"
   ]
  },
  {
   "cell_type": "code",
   "execution_count": 183,
   "id": "ec92cbb3",
   "metadata": {},
   "outputs": [],
   "source": [
    "last_week_end = last_week_start + datetime.timedelta(days=7)"
   ]
  },
  {
   "cell_type": "code",
   "execution_count": 184,
   "id": "502c46e0",
   "metadata": {},
   "outputs": [
    {
     "data": {
      "text/plain": [
       "(datetime.date(2023, 1, 30), datetime.date(2023, 2, 6))"
      ]
     },
     "execution_count": 184,
     "metadata": {},
     "output_type": "execute_result"
    }
   ],
   "source": [
    "last_week_start, last_week_end"
   ]
  },
  {
   "cell_type": "code",
   "execution_count": 185,
   "id": "548d6021",
   "metadata": {},
   "outputs": [],
   "source": [
    "last_week = data[(data.media == focus_media)\n",
    "                 & (data[\"date\"] >= last_week_start.strftime(\"%Y-%m-%d\")) \n",
    "                 & (data[\"date\"] < last_week_end.strftime(\"%Y-%m-%d\")) ].copy()"
   ]
  },
  {
   "cell_type": "code",
   "execution_count": 186,
   "id": "f2e2e755",
   "metadata": {},
   "outputs": [
    {
     "data": {
      "text/plain": [
       "1470                   https://www.francetvinfo.fr/replay-jt/france-2/13-heures/pouvoir-d-achat-quand-les-supermarches-bradent-les-prix-sur-leboncoin_5631083.html\n",
       "1471                                                      https://www.francetvinfo.fr/sports/sport-et-loisirs/nord-du-ski-dans-l-ancien-bassin-minier_5631131.html\n",
       "1472    https://www.francetvinfo.fr/replay-jt/france-2/13-heures/dereglement-climatique-les-iles-du-golfe-du-morbihan-menacees-par-la-montee-des-eaux_5631092.html\n",
       "1473         https://www.francetvinfo.fr/economie/retraite/reforme-des-retraites/reforme-des-retraites-vers-une-plus-forte-mobilisation-le-31-janvier_5630960.html\n",
       "1474                                      https://www.francetvinfo.fr/replay-jt/france-2/20-heures/autoroutes-une-hausse-record-des-tarifs-des-peages_5631506.html\n",
       "                                                                                   ...                                                                            \n",
       "2404                                          https://www.francetvinfo.fr/culture/livres/litterature-le-livre-de-poche-un-ouvrage-culte-depuis-70-ans_5638997.html\n",
       "2405                                                 https://www.francetvinfo.fr/decouverte/decouverte-la-vallee-du-queyras-un-territoire-authentique_5638529.html\n",
       "2406                                                 https://www.francetvinfo.fr/culture/mode/mort-de-paco-rabanne-un-avant-gardiste-amateur-de-metal_5638985.html\n",
       "2407              https://www.francetvinfo.fr/france/auvergne-rhone-alpes/ardeche/ardeche-les-macarons-de-joyeuse-des-biscuits-typiques-de-la-commune_5638532.html\n",
       "2408          https://www.francetvinfo.fr/economie/emploi/metiers/agriculture/agriculture-les-producteurs-d-ufs-en-colere-suspendent-leurs-livraisons_5638334.html\n",
       "Name: url, Length: 162, dtype: object"
      ]
     },
     "execution_count": 186,
     "metadata": {},
     "output_type": "execute_result"
    }
   ],
   "source": [
    "last_week.url"
   ]
  },
  {
   "cell_type": "code",
   "execution_count": 187,
   "id": "4e70da53",
   "metadata": {},
   "outputs": [],
   "source": [
    "import re\n",
    "if focus_media == 'tf1':\n",
    "    topic_pattern = re.compile(\"https://www.tf1info.fr/(\\S+)/(\\S+).html\")\n",
    "    last_week['topic'] = [topic_pattern.match(u).group(1) for u in last_week.url]\n",
    "    \n",
    "if focus_media == 'france2':\n",
    "    topic_pattern = re.compile(\"https://www.francetvinfo.fr/(\\S+)/(\\S+).html\")\n",
    "    last_week['topic'] = [topic_pattern.match(u).group(1).split('/')[0] \n",
    "                              for u in [x.replace('https://www.francetvinfo.frhttps://www.francetvinfo.fr', 'https://www.francetvinfo.fr') for x in last_week.url]]"
   ]
  },
  {
   "cell_type": "code",
   "execution_count": 188,
   "id": "e789ab13",
   "metadata": {},
   "outputs": [
    {
     "data": {
      "image/png": "[encoded data removed]",
      "text/plain": [
       "<Figure size 640x480 with 1 Axes>"
      ]
     },
     "metadata": {},
     "output_type": "display_data"
    }
   ],
   "source": [
    "last_week['topic'].value_counts().plot(kind='barh').invert_yaxis()"
   ]
  },
  {
   "cell_type": "code",
   "execution_count": 189,
   "id": "8f67b9da",
   "metadata": {},
   "outputs": [
    {
     "data": {
      "text/plain": [
       "Index(['title', 'description', 'date', 'order', 'presenter', 'authors',\n",
       "       'editor', 'editorDeputy', 'url', 'urlTvNews',\n",
       "       'containsWordGlobalWarming', 'media', 'topic'],\n",
       "      dtype='object')"
      ]
     },
     "execution_count": 189,
     "metadata": {},
     "output_type": "execute_result"
    }
   ],
   "source": [
    "last_week.columns"
   ]
  },
  {
   "cell_type": "code",
   "execution_count": 190,
   "id": "a13854e9",
   "metadata": {},
   "outputs": [],
   "source": [
    "if focus_media == 'france2':\n",
    "    last_week['formatted_date'] = [d.strftime('%d %B, %A') for d in pd.to_datetime(last_week.date)]  \n",
    "if focus_media == 'tf1':\n",
    "    last_week['formatted_date'] = [(d - datetime.timedelta(hours=20)+datetime.timedelta(minutes=1)).strftime('%d %B, %A') for d in pd.to_datetime(last_week.date)]"
   ]
  },
  {
   "cell_type": "code",
   "execution_count": 191,
   "id": "f978104e",
   "metadata": {},
   "outputs": [],
   "source": [
    "if focus_media == 'france2' and edition == \"20h\":\n",
    "    last_week_edition = last_week[['20h' in x for x in last_week.urlTvNews]].copy()\n",
    "if focus_media == 'france2' and edition == \"13h\":\n",
    "    last_week_edition = last_week[['13h' in x for x in last_week.urlTvNews]].copy()\n",
    "if focus_media == 'tf1' and edition == \"20h\":\n",
    "    last_week_edition = last_week[[('20h' in x) or ('we' in x and d[11:13] >= \"20\") for x,d in zip(last_week.urlTvNews, last_week.date)]].copy()"
   ]
  },
  {
   "cell_type": "code",
   "execution_count": 192,
   "id": "dae6c267",
   "metadata": {},
   "outputs": [],
   "source": [
    "if focus_media == 'tf1':\n",
    "    last_week_edition['id'] = [x.split('-')[-1][:-5] for x in last_week_edition.url]\n",
    "    last_week_edition['order'] = last_week_edition['date']\n",
    "    if last_week_edition.formatted_date.nunique() == 1:\n",
    "        order_by_id = last_week_edition.set_index('id').order.rank(method='first').reset_index().set_index('id').order \n",
    "    else:\n",
    "        order_by_id = last_week_edition.groupby('formatted_date').apply(lambda x: x.set_index('id').order.rank(method='first')).reset_index().set_index('id').order    \n",
    "    last_week_edition['order'] = [order_by_id[x] for x in last_week_edition.id]"
   ]
  },
  {
   "cell_type": "code",
   "execution_count": 193,
   "id": "8212a466",
   "metadata": {},
   "outputs": [],
   "source": [
    "if False:\n",
    "    last_week_edition = last_week[['we' in x for x in last_week.urlTvNews]].copy()\n",
    "    last_week_edition['id'] = [x.split('-')[-1][:-5] for x in last_week_edition.url]\n",
    "    last_week_edition['order'] = last_week_20h['id']\n",
    "    order_by_id = last_week_edition.last_week_edition('formatted_date').apply(lambda x: x.set_index('id').order.rank(method='first')).reset_index().set_index('id').order    \n",
    "    last_week_edition['order'] = [order_by_id[x] for x in last_week_edition.id]"
   ]
  },
  {
   "cell_type": "code",
   "execution_count": 194,
   "id": "c3295860",
   "metadata": {},
   "outputs": [],
   "source": [
    "conducteur = last_week_edition.pivot(index='order', columns='formatted_date', values='title')"
   ]
  },
  {
   "cell_type": "code",
   "execution_count": 195,
   "id": "ab915cc7",
   "metadata": {},
   "outputs": [
    {
     "data": {
      "text/plain": [
       "01 February, Wednesday    12\n",
       "02 February, Thursday     11\n",
       "03 February, Friday       12\n",
       "04 February, Saturday     11\n",
       "05 February, Sunday        9\n",
       "30 January, Monday        14\n",
       "31 January, Tuesday       11\n",
       "Name: formatted_date, dtype: int64"
      ]
     },
     "execution_count": 195,
     "metadata": {},
     "output_type": "execute_result"
    }
   ],
   "source": [
    "last_week_edition.formatted_date.value_counts().sort_index()"
   ]
  },
  {
   "cell_type": "code",
   "execution_count": 196,
   "id": "06c89dc3",
   "metadata": {},
   "outputs": [
    {
     "data": {
      "text/html": [
       "<div>\n",
       "<style scoped>\n",
       "    .dataframe tbody tr th:only-of-type {\n",
       "        vertical-align: middle;\n",
       "    }\n",
       "\n",
       "    .dataframe tbody tr th {\n",
       "        vertical-align: top;\n",
       "    }\n",
       "\n",
       "    .dataframe thead th {\n",
       "        text-align: right;\n",
       "    }\n",
       "</style>\n",
       "<table border=\"1\" class=\"dataframe\">\n",
       "  <thead>\n",
       "    <tr style=\"text-align: right;\">\n",
       "      <th>formatted_date</th>\n",
       "      <th>01 February, Wednesday</th>\n",
       "      <th>02 February, Thursday</th>\n",
       "      <th>03 February, Friday</th>\n",
       "      <th>04 February, Saturday</th>\n",
       "      <th>05 February, Sunday</th>\n",
       "      <th>30 January, Monday</th>\n",
       "      <th>31 January, Tuesday</th>\n",
       "    </tr>\n",
       "    <tr>\n",
       "      <th>order</th>\n",
       "      <th></th>\n",
       "      <th></th>\n",
       "      <th></th>\n",
       "      <th></th>\n",
       "      <th></th>\n",
       "      <th></th>\n",
       "      <th></th>\n",
       "    </tr>\n",
       "  </thead>\n",
       "  <tbody>\n",
       "    <tr>\n",
       "      <th>1</th>\n",
       "      <td>VIDEO. \"Nous sommes simplement du bétail\" : un ancien mercenaire du groupe paramilitaire russe Wagner témoigne après avoir déserté le front ukrainien</td>\n",
       "      <td>Mort de Sihem : le suspect est passé aux aveux durant sa garde à vue</td>\n",
       "      <td>États-Unis : un ballon espion chinois crée de nouvelles tensions diplomatiques</td>\n",
       "      <td>Incendie dans les Alpilles : un feu de forêt ravage une centaine d'hectares en plein hiver</td>\n",
       "      <td>Disparition d'Héléna Cluyou : la piste d'un accident de la route, un suspect identifié par les enquêteurs</td>\n",
       "      <td>Autoroutes : une hausse record des tarifs des péages</td>\n",
       "      <td>Grève du 31 janvier : une mobilisation très forte sur l’ensemble de la France</td>\n",
       "    </tr>\n",
       "    <tr>\n",
       "      <th>2</th>\n",
       "      <td>Réforme des retraites : un durcissement de la grève pendant les vacances de février</td>\n",
       "      <td>Mort de Sihem Belouahmia : le profil troublant de son meurtrier présumé</td>\n",
       "      <td>Mort de Sihem Belouahmia : la victime était inquiète avant de rejoindre son meurtrier présumé</td>\n",
       "      <td>Climat : un vent polaire s’abat sur le Canada et les États-Unis</td>\n",
       "      <td>États-Unis : le ballon chinois abattu par l’armée américaine</td>\n",
       "      <td>Grève du 31 janvier contre la réforme des retraites : forte mobilisation attendue dans les transports et dans les écoles</td>\n",
       "      <td>Grève du 31 janvier : les villes moyennes déterminées à poursuivre le mouvement</td>\n",
       "    </tr>\n",
       "    <tr>\n",
       "      <th>3</th>\n",
       "      <td>Grève du 31 janvier contre la réforme des retraites : des manifestations importantes dans les villes moyennes</td>\n",
       "      <td>Prêt-à-porter : le secteur de l’habillement de moyenne gamme en crise</td>\n",
       "      <td>Saint-Étienne : un ancien mafieux italien s’est fait passer pour un pizzaiolo</td>\n",
       "      <td>Finistère : une jeune étudiante de 21 ans disparue à Brest depuis une semaine</td>\n",
       "      <td>Géopolitique : une nouvelle guerre froide entre Chinois et Américains ?</td>\n",
       "      <td>Réforme des retraites : des aménagements vont-ils être faits pour les femmes ?</td>\n",
       "      <td>Grève du 31 janvier : de très fortes perturbations dans les transports et les écoles</td>\n",
       "    </tr>\n",
       "    <tr>\n",
       "      <th>4</th>\n",
       "      <td>Inflation : la consommation alimentaire a baissé de 4,6 % en 2022</td>\n",
       "      <td>Réforme des retraites : LR reste ferme sur les annuités, le gouvernement fera-t-il un geste pour les carrières longues ?</td>\n",
       "      <td>Réchauffement climatique : quand la mer grignote le littoral</td>\n",
       "      <td>Disparitions inquiétantes : comment les enquêteurs travaillent-ils ?</td>\n",
       "      <td>Chili : des feux de forêts dévastateurs entraînent la mort d'au moins 23 personnes dans le centre du pays</td>\n",
       "      <td>Disparition de Sihem dans le Gard : la piste de l’enlèvement avec séquestration est explorée</td>\n",
       "      <td>Réforme des retraites : les syndicats arrêtent deux nouvelles dates de mobilisation, les 7 et 11 février</td>\n",
       "    </tr>\n",
       "    <tr>\n",
       "      <th>5</th>\n",
       "      <td>Immobilier : le bail réel solidaire permet aux ménages modestes d'accéder à la propriété</td>\n",
       "      <td>Crise énergétique : pour faire baisser la facture, ces commerçants travaillent la nuit</td>\n",
       "      <td>Brésil : les autorités veulent couler le porte-avions Foch, ex fleuron de la marine française</td>\n",
       "      <td>Soupçons de favoritisme : en première ligne de la réforme des retraites, Olivier Dussopt fragilisé</td>\n",
       "      <td>Guerre en Ukraine : la mort des soldats, sujet tabou dans les tranchées</td>\n",
       "      <td>Suicide de Lucas : la mère de l'adolescent témoigne pour la première fois</td>\n",
       "      <td>Consommation : questions sur une nouvelle enseigne à prix bas et circuits courts</td>\n",
       "    </tr>\n",
       "    <tr>\n",
       "      <th>6</th>\n",
       "      <td>Disparition de Sihem Belouahmia : la garde à vue du principal suspect a été prolongée</td>\n",
       "      <td>Énergie : la géothermie, un système économique qui utilise la chaleur sous terre</td>\n",
       "      <td>Guerre en Ukraine : au cœur de la bataille de Vougledar</td>\n",
       "      <td>Santé : les prouesses toujours plus convaincantes de l'immunothérapie face au cancer</td>\n",
       "      <td>Harcèlement scolaire : Le destin brisé de Juliette, 15 ans</td>\n",
       "      <td>Justice : les laboratoires Urgo condamnés à 6 millions d'amende pour leurs cadeaux aux pharmaciens</td>\n",
       "      <td>Fraude : la saisie de faux billets en France augmente de plus de 8 % en 2022</td>\n",
       "    </tr>\n",
       "    <tr>\n",
       "      <th>7</th>\n",
       "      <td>Enquête France 2 : des plaintes refusées par centaines dans les commissariats ou gendarmeries</td>\n",
       "      <td>Commémorations de Stalingrad : Vladimir Poutine utilise l’histoire pour faire le parallèle avec l’invasion en Ukraine</td>\n",
       "      <td>Consommation : ces sites qui poussent toujours plus à l’achat</td>\n",
       "      <td>Enjeux de pouvoir : qu’est-ce que la zone de très haute altitude ?</td>\n",
       "      <td>Réforme des retraites : la nouvelle génération exprime son mécontentement</td>\n",
       "      <td>Aides sociales : plusieurs milliards d’euros non réclamés par an</td>\n",
       "      <td>Corruption : enquête sur le vaste réseau du \"roi des fourrières\" à Paris</td>\n",
       "    </tr>\n",
       "    <tr>\n",
       "      <th>8</th>\n",
       "      <td>Immigration : le gouvernement veut délivrer des \"passeports talents\" dans les métiers en tension</td>\n",
       "      <td>Enquête : quatre ans après les faits, retour sur l'incendie meurtrier de la rue Erlanger</td>\n",
       "      <td>Environnement : 370 dauphins échoués depuis le début de l’année 2023</td>\n",
       "      <td>Technologie : l'intelligence artificielle ChatGPT, nouvelle meilleure amie de la triche ?</td>\n",
       "      <td>Technologie : propagande, harcèlement… Les dérives du \"deepfake\"</td>\n",
       "      <td>États-Unis : les nouvelles habitudes des consommateurs font plier les marques et chuter l'inflation</td>\n",
       "      <td>Guerre en Ukraine : l’utilisation des mines anti-personnelles au cœur d’une polémique</td>\n",
       "    </tr>\n",
       "    <tr>\n",
       "      <th>9</th>\n",
       "      <td>Écologie : les entreprises s'adaptent pour décarboner la livraison de colis en ville</td>\n",
       "      <td>Droit à l’avortement : sera-t-il bientôt inscrit dans la Constitution ?</td>\n",
       "      <td>Photo hebdo : l’actualité de la semaine en images</td>\n",
       "      <td>Corse-du-Sud : sur les pentes de ski du Val d'Ese, entre mer et montagne</td>\n",
       "      <td>Cinéma : 25 ans après sa sortie, \"Titanic\" de retour sur grand écran en version remasterisée</td>\n",
       "      <td>Pakistan : une explosion dans une mosquée de Peshawar fait au moins 61 morts</td>\n",
       "      <td>Implantations d’éoliennes : loin des polémiques, 55 communes en passe de trouver un consensus</td>\n",
       "    </tr>\n",
       "    <tr>\n",
       "      <th>10</th>\n",
       "      <td>Afrique du Sud : malgré les risques, les mines de charbon tournent à plein régime</td>\n",
       "      <td>Élevage : des jeunes s’affrontent pour être le meilleur berger</td>\n",
       "      <td>Hôpital : la chirurgienne Aïcha N'Doye chante pour apaiser ses patientes</td>\n",
       "      <td>Cambodge : Koh Rong, un paradis préservé du tourisme de masse</td>\n",
       "      <td>NaN</td>\n",
       "      <td>Immobilier : des logements vacants proposés en échange de postes de gardiennage</td>\n",
       "      <td>Crise du logement : des Français font le choix de vivre au camping, faute de mieux</td>\n",
       "    </tr>\n",
       "    <tr>\n",
       "      <th>11</th>\n",
       "      <td>Chine : une méga-porcherie pour tendre vers l’autonomie alimentaire</td>\n",
       "      <td>Autriche : une course de patins à glace géante sur un lac glacé</td>\n",
       "      <td>Le Livre de Poche fête ses 70 ans : retour sur cette \"petite\" révolution du monde de l'édition</td>\n",
       "      <td>Sports extrêmes : rencontre avec Kilian Bron, le funambule du VTT</td>\n",
       "      <td>NaN</td>\n",
       "      <td>Aéronautique : Airbus mise sur l'intelligence artificielle pour renforcer la sécurité des vols</td>\n",
       "      <td>Dans la tête de Serge Gainsbourg, l’homme qui jouait avec l’identité</td>\n",
       "    </tr>\n",
       "    <tr>\n",
       "      <th>12</th>\n",
       "      <td>Philippines : les rizières en terrasses de Banaue menacées par le changement climatique</td>\n",
       "      <td>NaN</td>\n",
       "      <td>Mort de Paco Rabanne : un avant-gardiste amateur de métal</td>\n",
       "      <td>NaN</td>\n",
       "      <td>NaN</td>\n",
       "      <td>Industrie : inquiétude autour d'un projet de carrière de gypse au fort de Vaujours</td>\n",
       "      <td>NaN</td>\n",
       "    </tr>\n",
       "    <tr>\n",
       "      <th>13</th>\n",
       "      <td>NaN</td>\n",
       "      <td>NaN</td>\n",
       "      <td>NaN</td>\n",
       "      <td>NaN</td>\n",
       "      <td>NaN</td>\n",
       "      <td>Cancer : les idées reçues des Français sur la maladie</td>\n",
       "      <td>NaN</td>\n",
       "    </tr>\n",
       "    <tr>\n",
       "      <th>14</th>\n",
       "      <td>NaN</td>\n",
       "      <td>NaN</td>\n",
       "      <td>NaN</td>\n",
       "      <td>NaN</td>\n",
       "      <td>NaN</td>\n",
       "      <td>Bhoutan : un pays exemplaire en matière d’écologie</td>\n",
       "      <td>NaN</td>\n",
       "    </tr>\n",
       "  </tbody>\n",
       "</table>\n",
       "</div>"
      ],
      "text/plain": [
       "formatted_date                                                                                                                                 01 February, Wednesday  \\\n",
       "order                                                                                                                                                                   \n",
       "1               VIDEO. \"Nous sommes simplement du bétail\" : un ancien mercenaire du groupe paramilitaire russe Wagner témoigne après avoir déserté le front ukrainien   \n",
       "2                                                                                 Réforme des retraites : un durcissement de la grève pendant les vacances de février   \n",
       "3                                                       Grève du 31 janvier contre la réforme des retraites : des manifestations importantes dans les villes moyennes   \n",
       "4                                                                                                   Inflation : la consommation alimentaire a baissé de 4,6 % en 2022   \n",
       "5                                                                            Immobilier : le bail réel solidaire permet aux ménages modestes d'accéder à la propriété   \n",
       "6                                                                               Disparition de Sihem Belouahmia : la garde à vue du principal suspect a été prolongée   \n",
       "7                                                                       Enquête France 2 : des plaintes refusées par centaines dans les commissariats ou gendarmeries   \n",
       "8                                                                    Immigration : le gouvernement veut délivrer des \"passeports talents\" dans les métiers en tension   \n",
       "9                                                                                Écologie : les entreprises s'adaptent pour décarboner la livraison de colis en ville   \n",
       "10                                                                                  Afrique du Sud : malgré les risques, les mines de charbon tournent à plein régime   \n",
       "11                                                                                                Chine : une méga-porcherie pour tendre vers l’autonomie alimentaire   \n",
       "12                                                                            Philippines : les rizières en terrasses de Banaue menacées par le changement climatique   \n",
       "13                                                                                                                                                                NaN   \n",
       "14                                                                                                                                                                NaN   \n",
       "\n",
       "formatted_date                                                                                                     02 February, Thursday  \\\n",
       "order                                                                                                                                      \n",
       "1                                                                   Mort de Sihem : le suspect est passé aux aveux durant sa garde à vue   \n",
       "2                                                                Mort de Sihem Belouahmia : le profil troublant de son meurtrier présumé   \n",
       "3                                                                  Prêt-à-porter : le secteur de l’habillement de moyenne gamme en crise   \n",
       "4               Réforme des retraites : LR reste ferme sur les annuités, le gouvernement fera-t-il un geste pour les carrières longues ?   \n",
       "5                                                 Crise énergétique : pour faire baisser la facture, ces commerçants travaillent la nuit   \n",
       "6                                                       Énergie : la géothermie, un système économique qui utilise la chaleur sous terre   \n",
       "7                  Commémorations de Stalingrad : Vladimir Poutine utilise l’histoire pour faire le parallèle avec l’invasion en Ukraine   \n",
       "8                                               Enquête : quatre ans après les faits, retour sur l'incendie meurtrier de la rue Erlanger   \n",
       "9                                                                Droit à l’avortement : sera-t-il bientôt inscrit dans la Constitution ?   \n",
       "10                                                                        Élevage : des jeunes s’affrontent pour être le meilleur berger   \n",
       "11                                                                       Autriche : une course de patins à glace géante sur un lac glacé   \n",
       "12                                                                                                                                   NaN   \n",
       "13                                                                                                                                   NaN   \n",
       "14                                                                                                                                   NaN   \n",
       "\n",
       "formatted_date                                                                             03 February, Friday  \\\n",
       "order                                                                                                            \n",
       "1                               États-Unis : un ballon espion chinois crée de nouvelles tensions diplomatiques   \n",
       "2                Mort de Sihem Belouahmia : la victime était inquiète avant de rejoindre son meurtrier présumé   \n",
       "3                                Saint-Étienne : un ancien mafieux italien s’est fait passer pour un pizzaiolo   \n",
       "4                                                 Réchauffement climatique : quand la mer grignote le littoral   \n",
       "5                Brésil : les autorités veulent couler le porte-avions Foch, ex fleuron de la marine française   \n",
       "6                                                      Guerre en Ukraine : au cœur de la bataille de Vougledar   \n",
       "7                                                Consommation : ces sites qui poussent toujours plus à l’achat   \n",
       "8                                         Environnement : 370 dauphins échoués depuis le début de l’année 2023   \n",
       "9                                                            Photo hebdo : l’actualité de la semaine en images   \n",
       "10                                    Hôpital : la chirurgienne Aïcha N'Doye chante pour apaiser ses patientes   \n",
       "11              Le Livre de Poche fête ses 70 ans : retour sur cette \"petite\" révolution du monde de l'édition   \n",
       "12                                                   Mort de Paco Rabanne : un avant-gardiste amateur de métal   \n",
       "13                                                                                                         NaN   \n",
       "14                                                                                                         NaN   \n",
       "\n",
       "formatted_date                                                                               04 February, Saturday  \\\n",
       "order                                                                                                                \n",
       "1                       Incendie dans les Alpilles : un feu de forêt ravage une centaine d'hectares en plein hiver   \n",
       "2                                                  Climat : un vent polaire s’abat sur le Canada et les États-Unis   \n",
       "3                                    Finistère : une jeune étudiante de 21 ans disparue à Brest depuis une semaine   \n",
       "4                                             Disparitions inquiétantes : comment les enquêteurs travaillent-ils ?   \n",
       "5               Soupçons de favoritisme : en première ligne de la réforme des retraites, Olivier Dussopt fragilisé   \n",
       "6                             Santé : les prouesses toujours plus convaincantes de l'immunothérapie face au cancer   \n",
       "7                                               Enjeux de pouvoir : qu’est-ce que la zone de très haute altitude ?   \n",
       "8                        Technologie : l'intelligence artificielle ChatGPT, nouvelle meilleure amie de la triche ?   \n",
       "9                                         Corse-du-Sud : sur les pentes de ski du Val d'Ese, entre mer et montagne   \n",
       "10                                                   Cambodge : Koh Rong, un paradis préservé du tourisme de masse   \n",
       "11                                               Sports extrêmes : rencontre avec Kilian Bron, le funambule du VTT   \n",
       "12                                                                                                             NaN   \n",
       "13                                                                                                             NaN   \n",
       "14                                                                                                             NaN   \n",
       "\n",
       "formatted_date                                                                                        05 February, Sunday  \\\n",
       "order                                                                                                                       \n",
       "1               Disparition d'Héléna Cluyou : la piste d'un accident de la route, un suspect identifié par les enquêteurs   \n",
       "2                                                            États-Unis : le ballon chinois abattu par l’armée américaine   \n",
       "3                                                 Géopolitique : une nouvelle guerre froide entre Chinois et Américains ?   \n",
       "4               Chili : des feux de forêts dévastateurs entraînent la mort d'au moins 23 personnes dans le centre du pays   \n",
       "5                                                 Guerre en Ukraine : la mort des soldats, sujet tabou dans les tranchées   \n",
       "6                                                              Harcèlement scolaire : Le destin brisé de Juliette, 15 ans   \n",
       "7                                               Réforme des retraites : la nouvelle génération exprime son mécontentement   \n",
       "8                                                        Technologie : propagande, harcèlement… Les dérives du \"deepfake\"   \n",
       "9                            Cinéma : 25 ans après sa sortie, \"Titanic\" de retour sur grand écran en version remasterisée   \n",
       "10                                                                                                                    NaN   \n",
       "11                                                                                                                    NaN   \n",
       "12                                                                                                                    NaN   \n",
       "13                                                                                                                    NaN   \n",
       "14                                                                                                                    NaN   \n",
       "\n",
       "formatted_date                                                                                                        30 January, Monday  \\\n",
       "order                                                                                                                                      \n",
       "1                                                                                   Autoroutes : une hausse record des tarifs des péages   \n",
       "2               Grève du 31 janvier contre la réforme des retraites : forte mobilisation attendue dans les transports et dans les écoles   \n",
       "3                                                         Réforme des retraites : des aménagements vont-ils être faits pour les femmes ?   \n",
       "4                                           Disparition de Sihem dans le Gard : la piste de l’enlèvement avec séquestration est explorée   \n",
       "5                                                              Suicide de Lucas : la mère de l'adolescent témoigne pour la première fois   \n",
       "6                                     Justice : les laboratoires Urgo condamnés à 6 millions d'amende pour leurs cadeaux aux pharmaciens   \n",
       "7                                                                       Aides sociales : plusieurs milliards d’euros non réclamés par an   \n",
       "8                                    États-Unis : les nouvelles habitudes des consommateurs font plier les marques et chuter l'inflation   \n",
       "9                                                           Pakistan : une explosion dans une mosquée de Peshawar fait au moins 61 morts   \n",
       "10                                                       Immobilier : des logements vacants proposés en échange de postes de gardiennage   \n",
       "11                                        Aéronautique : Airbus mise sur l'intelligence artificielle pour renforcer la sécurité des vols   \n",
       "12                                                    Industrie : inquiétude autour d'un projet de carrière de gypse au fort de Vaujours   \n",
       "13                                                                                 Cancer : les idées reçues des Français sur la maladie   \n",
       "14                                                                                    Bhoutan : un pays exemplaire en matière d’écologie   \n",
       "\n",
       "formatted_date                                                                                       31 January, Tuesday  \n",
       "order                                                                                                                     \n",
       "1                                          Grève du 31 janvier : une mobilisation très forte sur l’ensemble de la France  \n",
       "2                                        Grève du 31 janvier : les villes moyennes déterminées à poursuivre le mouvement  \n",
       "3                                   Grève du 31 janvier : de très fortes perturbations dans les transports et les écoles  \n",
       "4               Réforme des retraites : les syndicats arrêtent deux nouvelles dates de mobilisation, les 7 et 11 février  \n",
       "5                                       Consommation : questions sur une nouvelle enseigne à prix bas et circuits courts  \n",
       "6                                           Fraude : la saisie de faux billets en France augmente de plus de 8 % en 2022  \n",
       "7                                               Corruption : enquête sur le vaste réseau du \"roi des fourrières\" à Paris  \n",
       "8                                  Guerre en Ukraine : l’utilisation des mines anti-personnelles au cœur d’une polémique  \n",
       "9                          Implantations d’éoliennes : loin des polémiques, 55 communes en passe de trouver un consensus  \n",
       "10                                    Crise du logement : des Français font le choix de vivre au camping, faute de mieux  \n",
       "11                                                  Dans la tête de Serge Gainsbourg, l’homme qui jouait avec l’identité  \n",
       "12                                                                                                                   NaN  \n",
       "13                                                                                                                   NaN  \n",
       "14                                                                                                                   NaN  "
      ]
     },
     "execution_count": 196,
     "metadata": {},
     "output_type": "execute_result"
    }
   ],
   "source": [
    "conducteur"
   ]
  },
  {
   "cell_type": "code",
   "execution_count": 197,
   "id": "42858569",
   "metadata": {},
   "outputs": [
    {
     "data": {
      "text/html": [
       "<div>\n",
       "<style scoped>\n",
       "    .dataframe tbody tr th:only-of-type {\n",
       "        vertical-align: middle;\n",
       "    }\n",
       "\n",
       "    .dataframe tbody tr th {\n",
       "        vertical-align: top;\n",
       "    }\n",
       "\n",
       "    .dataframe thead th {\n",
       "        text-align: right;\n",
       "    }\n",
       "</style>\n",
       "<table border=\"1\" class=\"dataframe\">\n",
       "  <thead>\n",
       "    <tr style=\"text-align: right;\">\n",
       "      <th></th>\n",
       "      <th>date</th>\n",
       "      <th>media</th>\n",
       "      <th>title</th>\n",
       "      <th>url</th>\n",
       "    </tr>\n",
       "  </thead>\n",
       "  <tbody>\n",
       "    <tr>\n",
       "      <th>1863</th>\n",
       "      <td>2023-02-01T00:00:00.000Z</td>\n",
       "      <td>france2</td>\n",
       "      <td>Philippines : les rizières en terrasses de Banaue menacées par le changement climatique</td>\n",
       "      <td>https://www.francetvinfo.fr/replay-jt/france-2/20-heures/philippines-les-rizieres-en-terrasses-de-banaue-menacees-par-le-changement-climatique_5634869.html</td>\n",
       "    </tr>\n",
       "    <tr>\n",
       "      <th>2140</th>\n",
       "      <td>2023-02-02T00:00:00.000Z</td>\n",
       "      <td>france2</td>\n",
       "      <td>Autriche : une course de patins à glace géante sur un lac glacé</td>\n",
       "      <td>https://www.francetvinfo.fr/monde/europe/autriche-une-course-de-patins-a-glace-geante-sur-un-lac-glace_5636864.html</td>\n",
       "    </tr>\n",
       "    <tr>\n",
       "      <th>2387</th>\n",
       "      <td>2023-02-03T00:00:00.000Z</td>\n",
       "      <td>france2</td>\n",
       "      <td>Réchauffement climatique : quand la mer grignote le littoral</td>\n",
       "      <td>https://www.francetvinfo.fr/monde/environnement/rechauffement-climatique-quand-la-mer-grignote-le-littoral_5638901.html</td>\n",
       "    </tr>\n",
       "  </tbody>\n",
       "</table>\n",
       "</div>"
      ],
      "text/plain": [
       "                          date    media  \\\n",
       "1863  2023-02-01T00:00:00.000Z  france2   \n",
       "2140  2023-02-02T00:00:00.000Z  france2   \n",
       "2387  2023-02-03T00:00:00.000Z  france2   \n",
       "\n",
       "                                                                                        title  \\\n",
       "1863  Philippines : les rizières en terrasses de Banaue menacées par le changement climatique   \n",
       "2140                          Autriche : une course de patins à glace géante sur un lac glacé   \n",
       "2387                             Réchauffement climatique : quand la mer grignote le littoral   \n",
       "\n",
       "                                                                                                                                                              url  \n",
       "1863  https://www.francetvinfo.fr/replay-jt/france-2/20-heures/philippines-les-rizieres-en-terrasses-de-banaue-menacees-par-le-changement-climatique_5634869.html  \n",
       "2140                                          https://www.francetvinfo.fr/monde/europe/autriche-une-course-de-patins-a-glace-geante-sur-un-lac-glace_5636864.html  \n",
       "2387                                      https://www.francetvinfo.fr/monde/environnement/rechauffement-climatique-quand-la-mer-grignote-le-littoral_5638901.html  "
      ]
     },
     "execution_count": 197,
     "metadata": {},
     "output_type": "execute_result"
    }
   ],
   "source": [
    "query  = \"climat\"\n",
    "last_week_edition[last_week_edition.description.apply(lambda x : query in x.lower())][['date', 'media', 'title', 'url']]"
   ]
  },
  {
   "cell_type": "code",
   "execution_count": 198,
   "id": "ca09cc88",
   "metadata": {},
   "outputs": [
    {
     "name": "stdout",
     "output_type": "stream",
     "text": [
      "Aux Philippines, les rizières en terrasses de Banaue sont les plus vastes de la planète. Inscrites au patrimoine mondial de l'Unesco, elles sont aujourd'hui menacées par le changement climatique.Au nord des Philippines, les rizières en terrasses de Banaue sont les plus vastes de la planète. Un amphithéâtre de verdure que les Philippins ont surnommé \"les escaliers du paradis\". En dehors des sentiers battus, deux touristes belges et un Français ont marché pendant près de deux heures à flanc de rizière pour atteindre un point culminant à 1 500 mètres d'altitude. Un site menacé par le changement climatique Inscrites au patrimoine mondial de l'Unesco, ces rizières sont aussi vieilles que certaines pyramides d'Egypte. Façonnées par les fermiers des montagnes pour nourrir les vallées, elles sont encore aujourd'hui cultivées pour leur consommation personnelle. À la différence d'autres plantations de riz ailleurs sur la planète, ces rizières sont inondées toute l'année grâce à un ingénieux système d'irrigation. Ce site exceptionnel est aujourd'hui menacé par le changement climatique, en raison de typhons de plus en plus fréquents et toujours plus intenses qui provoquent l'érosion des montagnes et l'affaissement des rizières.\n"
     ]
    }
   ],
   "source": [
    "print(last_week_edition[last_week_edition.description.apply(lambda x : query in x.lower())]['description'].iloc[0])"
   ]
  },
  {
   "cell_type": "code",
   "execution_count": null,
   "id": "223b4b6f",
   "metadata": {},
   "outputs": [],
   "source": []
  },
  {
   "cell_type": "code",
   "execution_count": null,
   "id": "a54680e6",
   "metadata": {},
   "outputs": [],
   "source": []
  }
 ],
 "metadata": {
  "kernelspec": {
   "display_name": "data-env",
   "language": "python",
   "name": "data-env"
  },
  "language_info": {
   "codemirror_mode": {
    "name": "ipython",
    "version": 3
   },
   "file_extension": ".py",
   "mimetype": "text/x-python",
   "name": "python",
   "nbconvert_exporter": "python",
   "pygments_lexer": "ipython3",
   "version": "3.10.12"
  },
  "toc": {
   "base_numbering": 1,
   "nav_menu": {},
   "number_sections": true,
   "sideBar": true,
   "skip_h1_title": false,
   "title_cell": "Table of Contents",
   "title_sidebar": "Contents",
   "toc_cell": false,
   "toc_position": {},
   "toc_section_display": true,
   "toc_window_display": false
  }
 },
 "nbformat": 4,
 "nbformat_minor": 5
}
