{
 "cells": [
  {
   "cell_type": "code",
   "execution_count": null,
   "id": "f9a3ade0",
   "metadata": {},
   "outputs": [],
   "source": [
    "import pandas as pd\n",
    "import json\n",
    "from glob import glob\n",
    "import os.path as osp\n",
    "import datetime\n",
    "import wordcloud\n",
    "from io import StringIO\n",
    "import stop_words\n",
    "from sklearn.feature_extraction.text import CountVectorizer\n",
    "import seaborn as sns\n",
    "import re"
   ]
  },
  {
   "cell_type": "code",
   "execution_count": null,
   "id": "afa4be67",
   "metadata": {},
   "outputs": [],
   "source": [
    "pd.set_option('display.max_colwidth', 255)"
   ]
  },
  {
   "cell_type": "code",
   "execution_count": 21,
   "id": "3c0373af",
   "metadata": {},
   "outputs": [],
   "source": [
    "subjects = []\n",
    "for media in ['France 3', 'France 2', 'TF1']:\n",
    "    for year in ['2022']:\n",
    "        for month in ['7', '8']:\n",
    "            month_path = f'../data-news-json/media={media}/year={year}/month={month}'\n",
    "            day_files = glob(f'{month_path}/day=*/*.json')\n",
    "            for day_file in day_files:\n",
    "                for line in open(day_file):\n",
    "                    subject = json.loads(line)\n",
    "                    subject['media'] = media.lower().replace(' ', '')\n",
    "                    subjects.append(subject)"
   ]
  },
  {
   "cell_type": "code",
   "execution_count": 22,
   "id": "1847fede",
   "metadata": {},
   "outputs": [],
   "source": [
    "data = pd.DataFrame(subjects)"
   ]
  },
  {
   "cell_type": "code",
   "execution_count": 234,
   "id": "af37103c",
   "metadata": {},
   "outputs": [],
   "source": [
    "focus_media = \"tf1\""
   ]
  },
  {
   "cell_type": "code",
   "execution_count": 235,
   "id": "fd7b94b3",
   "metadata": {},
   "outputs": [],
   "source": [
    "today = datetime.date.today()\n",
    "weekday = today.weekday()\n",
    "start_delta = datetime.timedelta(days=weekday, weeks=1)"
   ]
  },
  {
   "cell_type": "code",
   "execution_count": 253,
   "id": "0405a005",
   "metadata": {},
   "outputs": [],
   "source": [
    "last_week_start = today - start_delta #- datetime.timedelta(days=7)"
   ]
  },
  {
   "cell_type": "code",
   "execution_count": 254,
   "id": "ec92cbb3",
   "metadata": {},
   "outputs": [],
   "source": [
    "last_week_end = last_week_start + datetime.timedelta(days=7)"
   ]
  },
  {
   "cell_type": "code",
   "execution_count": 255,
   "id": "502c46e0",
   "metadata": {},
   "outputs": [
    {
     "data": {
      "text/plain": [
       "(datetime.date(2022, 7, 25), datetime.date(2022, 8, 1))"
      ]
     },
     "execution_count": 255,
     "metadata": {},
     "output_type": "execute_result"
    }
   ],
   "source": [
    "last_week_start, last_week_end"
   ]
  },
  {
   "cell_type": "code",
   "execution_count": 256,
   "id": "548d6021",
   "metadata": {},
   "outputs": [],
   "source": [
    "last_week = data[(data.media == focus_media)\n",
    "                 & (data[\"date\"] >= last_week_start.strftime(\"%Y-%m-%d\")) \n",
    "                 & (data[\"date\"] < last_week_end.strftime(\"%Y-%m-%d\")) ].copy()"
   ]
  },
  {
   "cell_type": "code",
   "execution_count": 257,
   "id": "4e70da53",
   "metadata": {},
   "outputs": [],
   "source": [
    "import re\n",
    "if focus_media == 'tf1':\n",
    "    topic_pattern = re.compile(\"https://www.tf1info.fr/(\\S+)/(\\S+).html\")\n",
    "    last_week['topic'] = [topic_pattern.match(u).group(1) for u in last_week.url]\n",
    "    \n",
    "if focus_media == 'france2':\n",
    "    topic_pattern = re.compile(\"https://www.francetvinfo.fr/(\\S+)/(\\S+).html\")\n",
    "    last_week['topic'] = [topic_pattern.match(u).group(1).split('/')[0] for u in last_week.url]"
   ]
  },
  {
   "cell_type": "code",
   "execution_count": 258,
   "id": "e789ab13",
   "metadata": {},
   "outputs": [
    {
     "data": {
      "image/png": "[encoded data removed]",
      "text/plain": [
       "<Figure size 432x288 with 1 Axes>"
      ]
     },
     "metadata": {
      "needs_background": "light"
     },
     "output_type": "display_data"
    }
   ],
   "source": [
    "last_week['topic'].value_counts().plot(kind='barh').invert_yaxis()"
   ]
  },
  {
   "cell_type": "code",
   "execution_count": 259,
   "id": "8f67b9da",
   "metadata": {},
   "outputs": [
    {
     "data": {
      "text/plain": [
       "Index(['title', 'description', 'date', 'order', 'presenter', 'authors',\n",
       "       'editor', 'editorDeputy', 'url', 'urlTvNews',\n",
       "       'containsWordGlobalWarming', 'media', 'topic'],\n",
       "      dtype='object')"
      ]
     },
     "execution_count": 259,
     "metadata": {},
     "output_type": "execute_result"
    }
   ],
   "source": [
    "last_week.columns"
   ]
  },
  {
   "cell_type": "code",
   "execution_count": 260,
   "id": "a13854e9",
   "metadata": {},
   "outputs": [],
   "source": [
    "last_week['formatted_date'] = [(d - datetime.timedelta(hours=20)  +datetime.timedelta(minutes=1)).strftime('%d %B, %A') for d in pd.to_datetime(last_week.date)]"
   ]
  },
  {
   "cell_type": "code",
   "execution_count": 261,
   "id": "f978104e",
   "metadata": {},
   "outputs": [],
   "source": [
    "if focus_media == 'france2':\n",
    "    last_week_20h = last_week[['20h' in x for x in last_week.urlTvNews]].copy()\n",
    "if focus_media == 'tf1':\n",
    "    last_week_20h = last_week[[('20h' in x) or ('we' in x and d[11:13] >= \"20\") for x,d in zip(last_week.urlTvNews, last_week.date)]].copy()"
   ]
  },
  {
   "cell_type": "code",
   "execution_count": 262,
   "id": "dae6c267",
   "metadata": {},
   "outputs": [],
   "source": [
    "if focus_media == 'tf1':\n",
    "    last_week_20h['id'] = [x.split('-')[-1][:-5] for x in last_week_20h.url]\n",
    "    last_week_20h['order'] = last_week_20h['date']\n",
    "    order_by_id = last_week_20h.groupby('formatted_date').apply(lambda x: x.set_index('id').order.rank(method='first')).reset_index().set_index('id').order    \n",
    "    last_week_20h['order'] = [order_by_id[x] for x in last_week_20h.id]"
   ]
  },
  {
   "cell_type": "code",
   "execution_count": 263,
   "id": "8212a466",
   "metadata": {},
   "outputs": [],
   "source": [
    "if False:\n",
    "    last_week_20h = last_week[['we' in x for x in last_week.urlTvNews]].copy()\n",
    "    last_week_20h['id'] = [x.split('-')[-1][:-5] for x in last_week_20h.url]\n",
    "    last_week_20h['order'] = last_week_20h['id']\n",
    "    order_by_id = last_week_20h.groupby('formatted_date').apply(lambda x: x.set_index('id').order.rank(method='first')).reset_index().set_index('id').order    \n",
    "    last_week_20h['order'] = [order_by_id[x] for x in last_week_20h.id]"
   ]
  },
  {
   "cell_type": "code",
   "execution_count": 264,
   "id": "c3295860",
   "metadata": {},
   "outputs": [],
   "source": [
    "conducteur = last_week_20h.pivot(index='order', columns='formatted_date', values='title')"
   ]
  },
  {
   "cell_type": "code",
   "execution_count": 265,
   "id": "ab915cc7",
   "metadata": {},
   "outputs": [
    {
     "data": {
      "text/plain": [
       "26 July, Tuesday      15\n",
       "27 July, Wednesday    15\n",
       "25 July, Monday       13\n",
       "30 July, Saturday     13\n",
       "31 July, Sunday       13\n",
       "28 July, Thursday     11\n",
       "29 July, Friday       11\n",
       "Name: formatted_date, dtype: int64"
      ]
     },
     "execution_count": 265,
     "metadata": {},
     "output_type": "execute_result"
    }
   ],
   "source": [
    "last_week_20h.formatted_date.value_counts()"
   ]
  },
  {
   "cell_type": "code",
   "execution_count": 266,
   "id": "06c89dc3",
   "metadata": {},
   "outputs": [
    {
     "data": {
      "text/html": [
       "<div>\n",
       "<style scoped>\n",
       "    .dataframe tbody tr th:only-of-type {\n",
       "        vertical-align: middle;\n",
       "    }\n",
       "\n",
       "    .dataframe tbody tr th {\n",
       "        vertical-align: top;\n",
       "    }\n",
       "\n",
       "    .dataframe thead th {\n",
       "        text-align: right;\n",
       "    }\n",
       "</style>\n",
       "<table border=\"1\" class=\"dataframe\">\n",
       "  <thead>\n",
       "    <tr style=\"text-align: right;\">\n",
       "      <th>formatted_date</th>\n",
       "      <th>25 July, Monday</th>\n",
       "      <th>26 July, Tuesday</th>\n",
       "      <th>27 July, Wednesday</th>\n",
       "      <th>28 July, Thursday</th>\n",
       "      <th>29 July, Friday</th>\n",
       "      <th>30 July, Saturday</th>\n",
       "      <th>31 July, Sunday</th>\n",
       "    </tr>\n",
       "    <tr>\n",
       "      <th>order</th>\n",
       "      <th></th>\n",
       "      <th></th>\n",
       "      <th></th>\n",
       "      <th></th>\n",
       "      <th></th>\n",
       "      <th></th>\n",
       "      <th></th>\n",
       "    </tr>\n",
       "  </thead>\n",
       "  <tbody>\n",
       "    <tr>\n",
       "      <th>1.0</th>\n",
       "      <td>Après les incendies, le retour des touristes</td>\n",
       "      <td>Incendies dans l'Hérault : le point sur la situation</td>\n",
       "      <td>France-Allemagne : tous derrière les Bleues !</td>\n",
       "      <td>Incendies dans l'Hérault : les aveux d'un pompier volontaire</td>\n",
       "      <td>Pompier pyromane : un village sidéré</td>\n",
       "      <td>Thalys : chaos sur les rails et dans les gares</td>\n",
       "      <td>Feu dans le Gard : le point sur la situation à Gallargues-le-Montueux</td>\n",
       "    </tr>\n",
       "    <tr>\n",
       "      <th>2.0</th>\n",
       "      <td>Forêt : comment éviter les mégafeux</td>\n",
       "      <td>Prix des carburants : jusqu'où ira la baisse ?</td>\n",
       "      <td>Ardèche : 8 départs de feux, près de 1000 hectares brûlés</td>\n",
       "      <td>Tourisme : le mois de juillet fait le plein !</td>\n",
       "      <td>Pyromanes : qui sont-ils ?</td>\n",
       "      <td>Incendie : des TGV à très petite vitesse</td>\n",
       "      <td>Bouches-du-Rhône : violent incendie en cours</td>\n",
       "    </tr>\n",
       "    <tr>\n",
       "      <th>3.0</th>\n",
       "      <td>Remise carburant, prime inflation : combien allez-vous économiser ?</td>\n",
       "      <td>Des vendanges de plus en plus précoces dans l'Aude</td>\n",
       "      <td>Incendies en Ardèche : le point sur la situation</td>\n",
       "      <td>Été : comment un village s'adapte à l'afflux de touristes</td>\n",
       "      <td>Pyromanes : qui sont-ils ?</td>\n",
       "      <td>Journée noire : les automobilistes voient rouge</td>\n",
       "      <td>Var : une lutte éclair contre un feu naissant</td>\n",
       "    </tr>\n",
       "    <tr>\n",
       "      <th>4.0</th>\n",
       "      <td>Guêpes et frelons : pourquoi sont-ils si nombreux cet été ?</td>\n",
       "      <td>Bénin : la France restitue des œuvres d'art</td>\n",
       "      <td>Incendie dans le Verdon : 300 vacanciers évacués d'un camping</td>\n",
       "      <td>Vacances insolites : un âne pour compagnon de voyage</td>\n",
       "      <td>Pyromanes : une forêt sous haute surveillance</td>\n",
       "      <td>Chassé-croisé : la route des vacances sous haute surveillance</td>\n",
       "      <td>Californie : un nouvel incendie géant incontrôlable</td>\n",
       "    </tr>\n",
       "    <tr>\n",
       "      <th>5.0</th>\n",
       "      <td>Lions, gorilles, hippopotames… Les animaux prennent la pose !</td>\n",
       "      <td>Vacances : le rêve américain</td>\n",
       "      <td>Incendies dans l'Hérault : des habitants soulagés</td>\n",
       "      <td>Thaïlande : la renaissance d'une plage de rêve</td>\n",
       "      <td>Gares : 400 000 voyageurs et autant de valises !</td>\n",
       "      <td>Départs en vacances : veillée d'armes chez les pompiers</td>\n",
       "      <td>Canicule : il va falloir s'y habituer</td>\n",
       "    </tr>\n",
       "    <tr>\n",
       "      <th>6.0</th>\n",
       "      <td>JO de Paris 2024 : des millions de billets à moins de 50 euros</td>\n",
       "      <td>VIDÉO - Bagages oubliés : découvrez la caverne d'Ali Baba de la SNCF</td>\n",
       "      <td>Après les incendies, la dune du Pilat rouvre</td>\n",
       "      <td>Gironde : la forêt calcinée vue du ciel en ULM</td>\n",
       "      <td>Grands départs : le clignotant n’est pas une option…</td>\n",
       "      <td>Reprise du feu : inquiétude en Gironde</td>\n",
       "      <td>Sécheresse : le niveau de la Loire au plus bas</td>\n",
       "    </tr>\n",
       "    <tr>\n",
       "      <th>7.0</th>\n",
       "      <td>Gironde : un garage géant improvisé par les pompiers pour leur matériel détruit</td>\n",
       "      <td>Hérault : au cœur de l'incendie avec les pompiers</td>\n",
       "      <td>Sécheresse : le trafic fluvial perturbé</td>\n",
       "      <td>Napoléon, Colbert... les statues controversées ont-elles été déboulonnées ?</td>\n",
       "      <td>Supermarchés : des promos à gogo</td>\n",
       "      <td>États-Unis : inondations dévastatrices dans le Kentucky</td>\n",
       "      <td>Le panier de vacances : la valse des prix d'une région à l'autre</td>\n",
       "    </tr>\n",
       "    <tr>\n",
       "      <th>8.0</th>\n",
       "      <td>Californie : le parc Yosemite sous la menace du mégafeu</td>\n",
       "      <td>La mer en surchauffe : comment fonctionne une \"canicule marine\" ?</td>\n",
       "      <td>Assemblée nationale : cacophonie dans l'hémicycle</td>\n",
       "      <td>Faux terminaux de paiement dans les restaurants : comment procèdent les escrocs ?</td>\n",
       "      <td>Pizzas : quand l’affaire Buitoni plombe les ventes</td>\n",
       "      <td>Vacances au camping : les uns chassent les autres !</td>\n",
       "      <td>Vacances : ils ne supportent plus les touristes</td>\n",
       "    </tr>\n",
       "    <tr>\n",
       "      <th>9.0</th>\n",
       "      <td>\"C’est trop !\" : les vacanciers surpris par la température de la Méditerranée</td>\n",
       "      <td>Hérault : le feu, qui a détruit près de 1000 hectares, ne progresse plus</td>\n",
       "      <td>Club de plage, les enfants adorent, les parents aussi !</td>\n",
       "      <td>Pertes record d'EDF : qui va payer la facture ?</td>\n",
       "      <td>Argentine : chasse au trésor dans une décharge</td>\n",
       "      <td>Aéroport : voyage dans les \"zones interdites\"</td>\n",
       "      <td>Les aventures de Guillaume, épisode 3 : des vacances électriques !</td>\n",
       "    </tr>\n",
       "    <tr>\n",
       "      <th>10.0</th>\n",
       "      <td>Clim' portes ouvertes : l'interdiction fraîchement accueillie par certains commerçants</td>\n",
       "      <td>Californie : plus de 2500 pompiers en lutte contre les flammes</td>\n",
       "      <td>Inde : l'autre Grand Canyon</td>\n",
       "      <td>VIDÉO - Entretien des trains : voici l'un des garages XXL de la SNCF</td>\n",
       "      <td>À la découverte des falaises sauvages du Portugal</td>\n",
       "      <td>Un billet pour les vacances, épisode 2 : défi des vacances, 300 euros tout compris</td>\n",
       "      <td>Les sculptures d'une nature insaisissable</td>\n",
       "    </tr>\n",
       "    <tr>\n",
       "      <th>11.0</th>\n",
       "      <td>Sangria : les secrets d'une des boissons stars de l'été</td>\n",
       "      <td>Crise de l'énergie : la France relancera une centrale à charbon cet hiver</td>\n",
       "      <td>Euro féminin 2022 : les Bleues prêtes à affronter les Allemandes</td>\n",
       "      <td>Incendie en Ardèche : les pompiers sur le qui-vive</td>\n",
       "      <td>Le canal de Corinthe : la voie royale !</td>\n",
       "      <td>Climatisation : notre meilleur ennemie ?</td>\n",
       "      <td>L'eau et le feu se donnent en spectacle à Versailles</td>\n",
       "    </tr>\n",
       "    <tr>\n",
       "      <th>12.0</th>\n",
       "      <td>Trois violentes rixes en quelques jours : que se passe-t-il dans ce quartier de Montpellier ?</td>\n",
       "      <td>Vienne : près de 1000 km de cours d'eau asséchés</td>\n",
       "      <td>Pénurie de saisonniers : comment s'en sortent les restaurateurs ?</td>\n",
       "      <td>NaN</td>\n",
       "      <td>NaN</td>\n",
       "      <td>Sieste : pour ou contre ?</td>\n",
       "      <td>Bouches-du-Rhône et Gard : violents incendies en cours</td>\n",
       "    </tr>\n",
       "    <tr>\n",
       "      <th>13.0</th>\n",
       "      <td>ENQUÊTE - Drogue : le trafic passe aussi par les petits ports</td>\n",
       "      <td>Vacances : le florissant business des jeux de plage</td>\n",
       "      <td>\"J’ai pleuré deux jours\" : piégées par une fausse location de vacances, une mère et sa fille témoignent</td>\n",
       "      <td>NaN</td>\n",
       "      <td>NaN</td>\n",
       "      <td>Thaïlande : vivre parmi les éléphants</td>\n",
       "      <td>Feu dans le Gard : nouveau point sur la situation à Gallargues-le-Montueux</td>\n",
       "    </tr>\n",
       "    <tr>\n",
       "      <th>14.0</th>\n",
       "      <td>NaN</td>\n",
       "      <td>Savez-vous quels produits rapportent le plus aux supermarchés ?</td>\n",
       "      <td>Retour des touristes étrangers : vers une saison record ?</td>\n",
       "      <td>NaN</td>\n",
       "      <td>NaN</td>\n",
       "      <td>NaN</td>\n",
       "      <td>NaN</td>\n",
       "    </tr>\n",
       "    <tr>\n",
       "      <th>15.0</th>\n",
       "      <td>NaN</td>\n",
       "      <td>Incendies en Ardèche : le point sur la situation</td>\n",
       "      <td>Louer une voiture pour... 1 euro : comment bénéficier de ce bon plan ?</td>\n",
       "      <td>NaN</td>\n",
       "      <td>NaN</td>\n",
       "      <td>NaN</td>\n",
       "      <td>NaN</td>\n",
       "    </tr>\n",
       "  </tbody>\n",
       "</table>\n",
       "</div>"
      ],
      "text/plain": [
       "formatted_date                                                                                25 July, Monday  \\\n",
       "order                                                                                                           \n",
       "1.0                                                              Après les incendies, le retour des touristes   \n",
       "2.0                                                                       Forêt : comment éviter les mégafeux   \n",
       "3.0                                       Remise carburant, prime inflation : combien allez-vous économiser ?   \n",
       "4.0                                               Guêpes et frelons : pourquoi sont-ils si nombreux cet été ?   \n",
       "5.0                                             Lions, gorilles, hippopotames… Les animaux prennent la pose !   \n",
       "6.0                                            JO de Paris 2024 : des millions de billets à moins de 50 euros   \n",
       "7.0                           Gironde : un garage géant improvisé par les pompiers pour leur matériel détruit   \n",
       "8.0                                                   Californie : le parc Yosemite sous la menace du mégafeu   \n",
       "9.0                             \"C’est trop !\" : les vacanciers surpris par la température de la Méditerranée   \n",
       "10.0                   Clim' portes ouvertes : l'interdiction fraîchement accueillie par certains commerçants   \n",
       "11.0                                                  Sangria : les secrets d'une des boissons stars de l'été   \n",
       "12.0            Trois violentes rixes en quelques jours : que se passe-t-il dans ce quartier de Montpellier ?   \n",
       "13.0                                            ENQUÊTE - Drogue : le trafic passe aussi par les petits ports   \n",
       "14.0                                                                                                      NaN   \n",
       "15.0                                                                                                      NaN   \n",
       "\n",
       "formatted_date                                                           26 July, Tuesday  \\\n",
       "order                                                                                       \n",
       "1.0                                  Incendies dans l'Hérault : le point sur la situation   \n",
       "2.0                                        Prix des carburants : jusqu'où ira la baisse ?   \n",
       "3.0                                    Des vendanges de plus en plus précoces dans l'Aude   \n",
       "4.0                                           Bénin : la France restitue des œuvres d'art   \n",
       "5.0                                                          Vacances : le rêve américain   \n",
       "6.0                  VIDÉO - Bagages oubliés : découvrez la caverne d'Ali Baba de la SNCF   \n",
       "7.0                                     Hérault : au cœur de l'incendie avec les pompiers   \n",
       "8.0                     La mer en surchauffe : comment fonctionne une \"canicule marine\" ?   \n",
       "9.0              Hérault : le feu, qui a détruit près de 1000 hectares, ne progresse plus   \n",
       "10.0                       Californie : plus de 2500 pompiers en lutte contre les flammes   \n",
       "11.0            Crise de l'énergie : la France relancera une centrale à charbon cet hiver   \n",
       "12.0                                     Vienne : près de 1000 km de cours d'eau asséchés   \n",
       "13.0                                  Vacances : le florissant business des jeux de plage   \n",
       "14.0                      Savez-vous quels produits rapportent le plus aux supermarchés ?   \n",
       "15.0                                     Incendies en Ardèche : le point sur la situation   \n",
       "\n",
       "formatted_date                                                                                       27 July, Wednesday  \\\n",
       "order                                                                                                                     \n",
       "1.0                                                                       France-Allemagne : tous derrière les Bleues !   \n",
       "2.0                                                           Ardèche : 8 départs de feux, près de 1000 hectares brûlés   \n",
       "3.0                                                                    Incendies en Ardèche : le point sur la situation   \n",
       "4.0                                                       Incendie dans le Verdon : 300 vacanciers évacués d'un camping   \n",
       "5.0                                                                   Incendies dans l'Hérault : des habitants soulagés   \n",
       "6.0                                                                        Après les incendies, la dune du Pilat rouvre   \n",
       "7.0                                                                             Sécheresse : le trafic fluvial perturbé   \n",
       "8.0                                                                   Assemblée nationale : cacophonie dans l'hémicycle   \n",
       "9.0                                                             Club de plage, les enfants adorent, les parents aussi !   \n",
       "10.0                                                                                        Inde : l'autre Grand Canyon   \n",
       "11.0                                                   Euro féminin 2022 : les Bleues prêtes à affronter les Allemandes   \n",
       "12.0                                                  Pénurie de saisonniers : comment s'en sortent les restaurateurs ?   \n",
       "13.0            \"J’ai pleuré deux jours\" : piégées par une fausse location de vacances, une mère et sa fille témoignent   \n",
       "14.0                                                          Retour des touristes étrangers : vers une saison record ?   \n",
       "15.0                                             Louer une voiture pour... 1 euro : comment bénéficier de ce bon plan ?   \n",
       "\n",
       "formatted_date                                                                  28 July, Thursday  \\\n",
       "order                                                                                               \n",
       "1.0                                  Incendies dans l'Hérault : les aveux d'un pompier volontaire   \n",
       "2.0                                                 Tourisme : le mois de juillet fait le plein !   \n",
       "3.0                                     Été : comment un village s'adapte à l'afflux de touristes   \n",
       "4.0                                          Vacances insolites : un âne pour compagnon de voyage   \n",
       "5.0                                                Thaïlande : la renaissance d'une plage de rêve   \n",
       "6.0                                                Gironde : la forêt calcinée vue du ciel en ULM   \n",
       "7.0                   Napoléon, Colbert... les statues controversées ont-elles été déboulonnées ?   \n",
       "8.0             Faux terminaux de paiement dans les restaurants : comment procèdent les escrocs ?   \n",
       "9.0                                               Pertes record d'EDF : qui va payer la facture ?   \n",
       "10.0                         VIDÉO - Entretien des trains : voici l'un des garages XXL de la SNCF   \n",
       "11.0                                           Incendie en Ardèche : les pompiers sur le qui-vive   \n",
       "12.0                                                                                          NaN   \n",
       "13.0                                                                                          NaN   \n",
       "14.0                                                                                          NaN   \n",
       "15.0                                                                                          NaN   \n",
       "\n",
       "formatted_date                                       29 July, Friday  \\\n",
       "order                                                                  \n",
       "1.0                             Pompier pyromane : un village sidéré   \n",
       "2.0                                       Pyromanes : qui sont-ils ?   \n",
       "3.0                                       Pyromanes : qui sont-ils ?   \n",
       "4.0                    Pyromanes : une forêt sous haute surveillance   \n",
       "5.0                 Gares : 400 000 voyageurs et autant de valises !   \n",
       "6.0             Grands départs : le clignotant n’est pas une option…   \n",
       "7.0                                 Supermarchés : des promos à gogo   \n",
       "8.0               Pizzas : quand l’affaire Buitoni plombe les ventes   \n",
       "9.0                   Argentine : chasse au trésor dans une décharge   \n",
       "10.0               À la découverte des falaises sauvages du Portugal   \n",
       "11.0                         Le canal de Corinthe : la voie royale !   \n",
       "12.0                                                             NaN   \n",
       "13.0                                                             NaN   \n",
       "14.0                                                             NaN   \n",
       "15.0                                                             NaN   \n",
       "\n",
       "formatted_date                                                                   30 July, Saturday  \\\n",
       "order                                                                                                \n",
       "1.0                                                 Thalys : chaos sur les rails et dans les gares   \n",
       "2.0                                                       Incendie : des TGV à très petite vitesse   \n",
       "3.0                                                Journée noire : les automobilistes voient rouge   \n",
       "4.0                                  Chassé-croisé : la route des vacances sous haute surveillance   \n",
       "5.0                                        Départs en vacances : veillée d'armes chez les pompiers   \n",
       "6.0                                                         Reprise du feu : inquiétude en Gironde   \n",
       "7.0                                        États-Unis : inondations dévastatrices dans le Kentucky   \n",
       "8.0                                            Vacances au camping : les uns chassent les autres !   \n",
       "9.0                                                  Aéroport : voyage dans les \"zones interdites\"   \n",
       "10.0            Un billet pour les vacances, épisode 2 : défi des vacances, 300 euros tout compris   \n",
       "11.0                                                      Climatisation : notre meilleur ennemie ?   \n",
       "12.0                                                                     Sieste : pour ou contre ?   \n",
       "13.0                                                         Thaïlande : vivre parmi les éléphants   \n",
       "14.0                                                                                           NaN   \n",
       "15.0                                                                                           NaN   \n",
       "\n",
       "formatted_date                                                             31 July, Sunday  \n",
       "order                                                                                       \n",
       "1.0                  Feu dans le Gard : le point sur la situation à Gallargues-le-Montueux  \n",
       "2.0                                           Bouches-du-Rhône : violent incendie en cours  \n",
       "3.0                                          Var : une lutte éclair contre un feu naissant  \n",
       "4.0                                    Californie : un nouvel incendie géant incontrôlable  \n",
       "5.0                                                  Canicule : il va falloir s'y habituer  \n",
       "6.0                                         Sécheresse : le niveau de la Loire au plus bas  \n",
       "7.0                       Le panier de vacances : la valse des prix d'une région à l'autre  \n",
       "8.0                                        Vacances : ils ne supportent plus les touristes  \n",
       "9.0                     Les aventures de Guillaume, épisode 3 : des vacances électriques !  \n",
       "10.0                                             Les sculptures d'une nature insaisissable  \n",
       "11.0                                  L'eau et le feu se donnent en spectacle à Versailles  \n",
       "12.0                                Bouches-du-Rhône et Gard : violents incendies en cours  \n",
       "13.0            Feu dans le Gard : nouveau point sur la situation à Gallargues-le-Montueux  \n",
       "14.0                                                                                   NaN  \n",
       "15.0                                                                                   NaN  "
      ]
     },
     "execution_count": 266,
     "metadata": {},
     "output_type": "execute_result"
    }
   ],
   "source": [
    "conducteur"
   ]
  },
  {
   "cell_type": "code",
   "execution_count": 273,
   "id": "42858569",
   "metadata": {},
   "outputs": [
    {
     "data": {
      "text/html": [
       "<div>\n",
       "<style scoped>\n",
       "    .dataframe tbody tr th:only-of-type {\n",
       "        vertical-align: middle;\n",
       "    }\n",
       "\n",
       "    .dataframe tbody tr th {\n",
       "        vertical-align: top;\n",
       "    }\n",
       "\n",
       "    .dataframe thead th {\n",
       "        text-align: right;\n",
       "    }\n",
       "</style>\n",
       "<table border=\"1\" class=\"dataframe\">\n",
       "  <thead>\n",
       "    <tr style=\"text-align: right;\">\n",
       "      <th></th>\n",
       "      <th>date</th>\n",
       "      <th>media</th>\n",
       "      <th>title</th>\n",
       "      <th>url</th>\n",
       "    </tr>\n",
       "  </thead>\n",
       "  <tbody>\n",
       "    <tr>\n",
       "      <th>2195</th>\n",
       "      <td>2022-07-30T20:29:00.000Z</td>\n",
       "      <td>tf1</td>\n",
       "      <td>Climatisation : notre meilleur ennemie ?</td>\n",
       "      <td>https://www.tf1info.fr/conso/video-climatisation-notre-meilleur-ennemie-2228027.html</td>\n",
       "    </tr>\n",
       "  </tbody>\n",
       "</table>\n",
       "</div>"
      ],
      "text/plain": [
       "                          date media  \\\n",
       "2195  2022-07-30T20:29:00.000Z   tf1   \n",
       "\n",
       "                                         title  \\\n",
       "2195  Climatisation : notre meilleur ennemie ?   \n",
       "\n",
       "                                                                                       url  \n",
       "2195  https://www.tf1info.fr/conso/video-climatisation-notre-meilleur-ennemie-2228027.html  "
      ]
     },
     "execution_count": 273,
     "metadata": {},
     "output_type": "execute_result"
    }
   ],
   "source": [
    "query  = \"Climatisation : notre meilleur ennemie ?\"\n",
    "data[data.title.apply(lambda x : query in x)][['date', 'media', 'title', 'url']]"
   ]
  },
  {
   "cell_type": "code",
   "execution_count": 274,
   "id": "ca09cc88",
   "metadata": {},
   "outputs": [
    {
     "name": "stdout",
     "output_type": "stream",
     "text": [
      "Dans le pays, un foyer sur quatre est équipé d'une climatisation. Avec les fortes chaleurs, la tendance ne cesse de s'accroître. Si la climatisation est agréable, elle a aussi de sérieux inconvénients.  Elles nous sauvent quand le soleil tape fort ou quand les températures passent au rouge. Dans nos appartements, en magasin, dans nos voitures, la climatisation devient notre meilleur ami chaque été. Marseille est la ville où la climatisation est reine. Ici, comme dans tout le sud-est du pays, 47 % des ménages sont équipés d'un climatiseur, c'est deux fois plus que la moyenne nationale. Est-ce raisonnable ? Pour Yoann Chetrit, commerçant, la hausse des températures est une aubaine. Il vend des climatiseurs. Pour un climatiseur mobile, il faut compter 600 euros, et un climatiseur sans moteur extérieur coûte 3 000 euros. Et pour des modèles classiques avec moteur extérieur, il faut compter entre 1 500 et 4 500 euros. Cette année 2022, il va battre tous ses records de vente. Contrairement à la climatisation, le budget ne refroidit pas tout le monde. Mais si vous n'avez pas les moyens, il y a d'autres solutions. Dans la voiture, c'est moins cher, mais il y a quand même un coût. La climatisation vous fait consommer un litre de carburant en plus tous les 100 km. Si vous faites un Paris-Nice pour les vacances, par exemple, le surcoût sera de 18 euros, et ce sera le double pour l'aller-retour. Plus de détails dans le reportage en en-tête de cet article. TF1 | Reportage D. Pierschi, A. François-Poncet\n"
     ]
    }
   ],
   "source": [
    "print(data[data.title.apply(lambda x : query in x)]['description'].iloc[0])"
   ]
  },
  {
   "cell_type": "code",
   "execution_count": null,
   "id": "223b4b6f",
   "metadata": {},
   "outputs": [],
   "source": []
  }
 ],
 "metadata": {
  "kernelspec": {
   "display_name": "Python 3 (ipykernel)",
   "language": "python",
   "name": "python3"
  },
  "language_info": {
   "codemirror_mode": {
    "name": "ipython",
    "version": 3
   },
   "file_extension": ".py",
   "mimetype": "text/x-python",
   "name": "python",
   "nbconvert_exporter": "python",
   "pygments_lexer": "ipython3",
   "version": "3.10.4"
  },
  "toc": {
   "base_numbering": 1,
   "nav_menu": {},
   "number_sections": true,
   "sideBar": true,
   "skip_h1_title": false,
   "title_cell": "Table of Contents",
   "title_sidebar": "Contents",
   "toc_cell": false,
   "toc_position": {},
   "toc_section_display": true,
   "toc_window_display": false
  }
 },
 "nbformat": 4,
 "nbformat_minor": 5
}
