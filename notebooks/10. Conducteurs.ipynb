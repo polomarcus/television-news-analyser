{
 "cells": [
  {
   "cell_type": "code",
   "execution_count": 81,
   "id": "f9a3ade0",
   "metadata": {},
   "outputs": [],
   "source": [
    "import pandas as pd\n",
    "import json\n",
    "from glob import glob\n",
    "import os.path as osp\n",
    "import datetime\n",
    "import wordcloud\n",
    "from io import StringIO\n",
    "import stop_words\n",
    "from sklearn.feature_extraction.text import CountVectorizer\n",
    "import seaborn as sns\n",
    "import re"
   ]
  },
  {
   "cell_type": "code",
   "execution_count": 82,
   "id": "afa4be67",
   "metadata": {},
   "outputs": [],
   "source": [
    "pd.set_option('display.max_colwidth', 255)"
   ]
  },
  {
   "cell_type": "code",
   "execution_count": 104,
   "id": "3c0373af",
   "metadata": {},
   "outputs": [],
   "source": [
    "subjects = []\n",
    "for media in ['France 3', 'France 2', 'TF1']:\n",
    "    for year in ['2022']:\n",
    "        for month in ['10', '11']:\n",
    "            month_path = f'../data-news-json/media={media}/year={year}/month={month}'\n",
    "            day_files = glob(f'{month_path}/day=*/*.json')\n",
    "            for day_file in day_files:\n",
    "                for line in open(day_file):\n",
    "                    subject = json.loads(line)\n",
    "                    subject['media'] = media.lower().replace(' ', '')\n",
    "                    subjects.append(subject)"
   ]
  },
  {
   "cell_type": "code",
   "execution_count": 105,
   "id": "1847fede",
   "metadata": {},
   "outputs": [],
   "source": [
    "data = pd.DataFrame(subjects)"
   ]
  },
  {
   "cell_type": "code",
   "execution_count": 106,
   "id": "af37103c",
   "metadata": {},
   "outputs": [],
   "source": [
    "focus_media = \"france2\"\n",
    "edition = \"20h\"\n",
    "weeks_ago = 0"
   ]
  },
  {
   "cell_type": "code",
   "execution_count": 107,
   "id": "fd7b94b3",
   "metadata": {},
   "outputs": [],
   "source": [
    "today = datetime.date.today()\n",
    "weekday = today.weekday()\n",
    "start_delta = datetime.timedelta(days=weekday, weeks=weeks_ago)"
   ]
  },
  {
   "cell_type": "code",
   "execution_count": 108,
   "id": "0405a005",
   "metadata": {},
   "outputs": [],
   "source": [
    "last_week_start = today - start_delta"
   ]
  },
  {
   "cell_type": "code",
   "execution_count": 109,
   "id": "ec92cbb3",
   "metadata": {},
   "outputs": [],
   "source": [
    "last_week_end = last_week_start + datetime.timedelta(days=7)"
   ]
  },
  {
   "cell_type": "code",
   "execution_count": 110,
   "id": "502c46e0",
   "metadata": {},
   "outputs": [
    {
     "data": {
      "text/plain": [
       "(datetime.date(2022, 11, 14), datetime.date(2022, 11, 21))"
      ]
     },
     "execution_count": 110,
     "metadata": {},
     "output_type": "execute_result"
    }
   ],
   "source": [
    "last_week_start, last_week_end"
   ]
  },
  {
   "cell_type": "code",
   "execution_count": 111,
   "id": "548d6021",
   "metadata": {},
   "outputs": [],
   "source": [
    "last_week = data[(data.media == focus_media)\n",
    "                 & (data[\"date\"] >= last_week_start.strftime(\"%Y-%m-%d\")) \n",
    "                 & (data[\"date\"] < last_week_end.strftime(\"%Y-%m-%d\")) ].copy()"
   ]
  },
  {
   "cell_type": "code",
   "execution_count": 112,
   "id": "f2e2e755",
   "metadata": {},
   "outputs": [
    {
     "data": {
      "text/plain": [
       "1898                   https://www.francetvinfo.fr/monde/usa/geopolitique-une-rencontre-importante-entre-les-presidents-des-etats-unis-et-de-la-chine_5477145.html\n",
       "1899                                         https://www.francetvinfo.fr/france/chasse/chasse-une-application-pour-connaitre-le-parcours-de-la-battue_5476695.html\n",
       "1900                    https://www.francetvinfo.fr/monde/europe/manifestations-en-ukraine/guerre-en-ukraine-volodymyr-zelenski-s-est-rendu-a-kherson_5476683.html\n",
       "1901                         https://www.francetvinfo.fr/les-jeux-olympiques/paris-2024/jeux-olympiques-2024-les-mascottes-un-symbole-franco-francais_5476731.html\n",
       "1902                                  https://www.francetvinfo.fr/replay-jt/france-2/20-heures/cambriolages-les-badges-d-immeuble-au-c-ur-d-un-trafic_5477154.html\n",
       "                                                                                   ...                                                                            \n",
       "2027                                            https://www.francetvinfo.fr/monde/chine/chine-la-population-se-revolte-contre-la-politique-zero-covid_5484987.html\n",
       "2028                                            https://www.francetvinfo.fr/sante/alimentation/alimentation-sur-quels-elements-se-base-le-nutri-score_5485479.html\n",
       "2029    https://www.francetvinfo.fr/monde/environnement/crise-climatique/floride-malgre-les-ouragans-les-habitants-veulent-rester-vivre-sur-les-cotes_5485470.html\n",
       "2030               https://www.francetvinfo.fr/monde/europe/manifestations-en-ukraine/guerre-en-ukraine-la-ligne-de-train-kiev-kherson-a-ete-retablie_5486775.html\n",
       "2031                         https://www.francetvinfo.fr/faits-divers/lot-et-garonne-un-homme-place-en-garde-a-vue-apres-le-meurtre-d-une-adolescente_5486781.html\n",
       "Name: url, Length: 134, dtype: object"
      ]
     },
     "execution_count": 112,
     "metadata": {},
     "output_type": "execute_result"
    }
   ],
   "source": [
    "last_week.url"
   ]
  },
  {
   "cell_type": "code",
   "execution_count": 113,
   "id": "4e70da53",
   "metadata": {},
   "outputs": [],
   "source": [
    "import re\n",
    "if focus_media == 'tf1':\n",
    "    topic_pattern = re.compile(\"https://www.tf1info.fr/(\\S+)/(\\S+).html\")\n",
    "    last_week['topic'] = [topic_pattern.match(u).group(1) for u in last_week.url]\n",
    "    \n",
    "if focus_media == 'france2':\n",
    "    topic_pattern = re.compile(\"https://www.francetvinfo.fr/(\\S+)/(\\S+).html\")\n",
    "    last_week['topic'] = [topic_pattern.match(u).group(1).split('/')[0] \n",
    "                              for u in [x.replace('https://www.francetvinfo.frhttps://www.francetvinfo.fr', 'https://www.francetvinfo.fr') for x in last_week.url]]"
   ]
  },
  {
   "cell_type": "code",
   "execution_count": 114,
   "id": "e789ab13",
   "metadata": {},
   "outputs": [
    {
     "data": {
      "image/png": "[encoded data removed]",
      "text/plain": [
       "<Figure size 432x288 with 1 Axes>"
      ]
     },
     "metadata": {
      "needs_background": "light"
     },
     "output_type": "display_data"
    }
   ],
   "source": [
    "last_week['topic'].value_counts().plot(kind='barh').invert_yaxis()"
   ]
  },
  {
   "cell_type": "code",
   "execution_count": 115,
   "id": "8f67b9da",
   "metadata": {},
   "outputs": [
    {
     "data": {
      "text/plain": [
       "Index(['title', 'description', 'date', 'order', 'presenter', 'authors',\n",
       "       'editor', 'editorDeputy', 'url', 'urlTvNews',\n",
       "       'containsWordGlobalWarming', 'media', 'topic'],\n",
       "      dtype='object')"
      ]
     },
     "execution_count": 115,
     "metadata": {},
     "output_type": "execute_result"
    }
   ],
   "source": [
    "last_week.columns"
   ]
  },
  {
   "cell_type": "code",
   "execution_count": 116,
   "id": "a13854e9",
   "metadata": {},
   "outputs": [],
   "source": [
    "if focus_media == 'france2':\n",
    "    last_week['formatted_date'] = [d.strftime('%d %B, %A') for d in pd.to_datetime(last_week.date)]  \n",
    "if focus_media == 'tf1':\n",
    "    last_week['formatted_date'] = [(d - datetime.timedelta(hours=20)+datetime.timedelta(minutes=1)).strftime('%d %B, %A') for d in pd.to_datetime(last_week.date)]"
   ]
  },
  {
   "cell_type": "code",
   "execution_count": 117,
   "id": "f978104e",
   "metadata": {},
   "outputs": [],
   "source": [
    "if focus_media == 'france2' and edition == \"20h\":\n",
    "    last_week_edition = last_week[['20h' in x for x in last_week.urlTvNews]].copy()\n",
    "if focus_media == 'france2' and edition == \"13h\":\n",
    "    last_week_edition = last_week[['13h' in x for x in last_week.urlTvNews]].copy()\n",
    "if focus_media == 'tf1' and edition == \"20h\":\n",
    "    last_week_edition = last_week[[('20h' in x) or ('we' in x and d[11:13] >= \"20\") for x,d in zip(last_week.urlTvNews, last_week.date)]].copy()"
   ]
  },
  {
   "cell_type": "code",
   "execution_count": 118,
   "id": "dae6c267",
   "metadata": {},
   "outputs": [],
   "source": [
    "if focus_media == 'tf1':\n",
    "    last_week_edition['id'] = [x.split('-')[-1][:-5] for x in last_week_edition.url]\n",
    "    last_week_edition['order'] = last_week_edition['date']\n",
    "    if last_week_edition.formatted_date.nunique() == 1:\n",
    "        order_by_id = last_week_edition.set_index('id').order.rank(method='first').reset_index().set_index('id').order \n",
    "    else:\n",
    "        order_by_id = last_week_edition.groupby('formatted_date').apply(lambda x: x.set_index('id').order.rank(method='first')).reset_index().set_index('id').order    \n",
    "    last_week_edition['order'] = [order_by_id[x] for x in last_week_edition.id]"
   ]
  },
  {
   "cell_type": "code",
   "execution_count": 119,
   "id": "8212a466",
   "metadata": {},
   "outputs": [],
   "source": [
    "if False:\n",
    "    last_week_edition = last_week[['we' in x for x in last_week.urlTvNews]].copy()\n",
    "    last_week_edition['id'] = [x.split('-')[-1][:-5] for x in last_week_edition.url]\n",
    "    last_week_edition['order'] = last_week_20h['id']\n",
    "    order_by_id = last_week_edition.last_week_edition('formatted_date').apply(lambda x: x.set_index('id').order.rank(method='first')).reset_index().set_index('id').order    \n",
    "    last_week_edition['order'] = [order_by_id[x] for x in last_week_edition.id]"
   ]
  },
  {
   "cell_type": "code",
   "execution_count": 120,
   "id": "c3295860",
   "metadata": {},
   "outputs": [],
   "source": [
    "conducteur = last_week_edition.pivot(index='order', columns='formatted_date', values='title')"
   ]
  },
  {
   "cell_type": "code",
   "execution_count": 121,
   "id": "ab915cc7",
   "metadata": {},
   "outputs": [
    {
     "data": {
      "text/plain": [
       "14 November, Monday       12\n",
       "15 November, Tuesday      13\n",
       "16 November, Wednesday    14\n",
       "17 November, Thursday     12\n",
       "18 November, Friday       12\n",
       "Name: formatted_date, dtype: int64"
      ]
     },
     "execution_count": 121,
     "metadata": {},
     "output_type": "execute_result"
    }
   ],
   "source": [
    "last_week_edition.formatted_date.value_counts().sort_index()"
   ]
  },
  {
   "cell_type": "code",
   "execution_count": 122,
   "id": "06c89dc3",
   "metadata": {},
   "outputs": [
    {
     "data": {
      "text/html": [
       "<div>\n",
       "<style scoped>\n",
       "    .dataframe tbody tr th:only-of-type {\n",
       "        vertical-align: middle;\n",
       "    }\n",
       "\n",
       "    .dataframe tbody tr th {\n",
       "        vertical-align: top;\n",
       "    }\n",
       "\n",
       "    .dataframe thead th {\n",
       "        text-align: right;\n",
       "    }\n",
       "</style>\n",
       "<table border=\"1\" class=\"dataframe\">\n",
       "  <thead>\n",
       "    <tr style=\"text-align: right;\">\n",
       "      <th>formatted_date</th>\n",
       "      <th>14 November, Monday</th>\n",
       "      <th>15 November, Tuesday</th>\n",
       "      <th>16 November, Wednesday</th>\n",
       "      <th>17 November, Thursday</th>\n",
       "      <th>18 November, Friday</th>\n",
       "    </tr>\n",
       "    <tr>\n",
       "      <th>order</th>\n",
       "      <th></th>\n",
       "      <th></th>\n",
       "      <th></th>\n",
       "      <th></th>\n",
       "      <th></th>\n",
       "    </tr>\n",
       "  </thead>\n",
       "  <tbody>\n",
       "    <tr>\n",
       "      <th>1</th>\n",
       "      <td>Afghanistan : les talibans demandent la stricte application de la charia</td>\n",
       "      <td>Carburants : les Français profitent des dernières heures avant la baisse de la ristourne</td>\n",
       "      <td>Missile tombé en Pologne : 24 heures sous haute tension</td>\n",
       "      <td>Mayotte : l'île en proie à une flambée de violence</td>\n",
       "      <td>Chine : les habitants excédés par la politique stricte du zéro-Covid</td>\n",
       "    </tr>\n",
       "    <tr>\n",
       "      <th>2</th>\n",
       "      <td>Carburants : 21 % des stations-service en pénurie avant la baisse des aides</td>\n",
       "      <td>Prix des carburants : à quoi faut-il s'attendre pour l'année 2023 ?</td>\n",
       "      <td>Missile tombé en Pologne : une frappe ukrainienne est-elle en cause ?</td>\n",
       "      <td>Marne : le village de Suippes secoué par des vents violents</td>\n",
       "      <td>Justice : 123 migrants de l’Ocean Viking remis en liberté</td>\n",
       "    </tr>\n",
       "    <tr>\n",
       "      <th>3</th>\n",
       "      <td>Tourisme : la fin des billets d’avion pas chers</td>\n",
       "      <td>Bas-Rhin : le choc après l'annonce de la fermeture d’une usine Heineken historique</td>\n",
       "      <td>Missile tombé en Pologne : Varsovie en état d'alerte ?</td>\n",
       "      <td>Pouvoir d’achat : le budget des ménages grignoté par les dépenses contraintes</td>\n",
       "      <td>Accident de Millas : la conductrice du bus condamnée à un an de prison ferme</td>\n",
       "    </tr>\n",
       "    <tr>\n",
       "      <th>4</th>\n",
       "      <td>Chômage : vers une baisse des droits dès 2023 ?</td>\n",
       "      <td>Réforme des retraites : vers la fin des régimes spéciaux ?</td>\n",
       "      <td>Effondrement d’immeubles : des fragilités et des négligences</td>\n",
       "      <td>Chauffage : les ramoneurs débordés par la demande</td>\n",
       "      <td>SNCF : quels billets sont concernés par la hausse des prix ?</td>\n",
       "    </tr>\n",
       "    <tr>\n",
       "      <th>5</th>\n",
       "      <td>VIDEO. Santé : trois questions sur la grève des laboratoires d'analyses, qui dure jusqu'à mercredi</td>\n",
       "      <td>Consommation : un bonus pour encourager à la réparation de l’électroménager</td>\n",
       "      <td>Crise énergétique : les résultats encourageants d'Enedis, qui a coupé les ballons d’eau chaude le midi</td>\n",
       "      <td>Royaume-Uni : des vols de nourriture de plus en plus fréquents dans les supermarchés</td>\n",
       "      <td>Coupe du monde 2022 : la Fifa interdit la vente d’alcool, un revirement soudain</td>\n",
       "    </tr>\n",
       "    <tr>\n",
       "      <th>6</th>\n",
       "      <td>Lille : la sécurité des immeubles de la ville en question</td>\n",
       "      <td>Allemagne : les attaques à la dynamite contre les distributeurs de billets se multiplient</td>\n",
       "      <td>Bois : un trafic très lucratif entre la France et la Chine ?</td>\n",
       "      <td>Transports : des communes rendent le bus gratuit en faveur de l’environnement</td>\n",
       "      <td>Tesla : les États-Unis enquêtent sur le système d’assistance à la conduite de la marque d’Elon Musk</td>\n",
       "    </tr>\n",
       "    <tr>\n",
       "      <th>7</th>\n",
       "      <td>Guerre en Ukraine : après huit mois d'occupation russe, le temps des investigations à Kherson</td>\n",
       "      <td>Guerre en Ukraine : la violente riposte de Vladimir Poutine après la libération de Kherson</td>\n",
       "      <td>Route du Rhum 2022 : ce que l'on sait du drame qui a coûté la vie à deux personnes</td>\n",
       "      <td>Évreux : appel à témoins pour retrouver la cycliste disparue</td>\n",
       "      <td>Floride : malgré les ouragans, les habitants veulent rester vivre sur les côtes</td>\n",
       "    </tr>\n",
       "    <tr>\n",
       "      <th>8</th>\n",
       "      <td>Géopolitique : une rencontre importante entre les présidents des États-Unis et de la Chine</td>\n",
       "      <td>Guerre en Ukraine : la Crimée, prochaine bataille d'envergure entre Kiev et Moscou ?</td>\n",
       "      <td>Meurtre de Lola : une marche organisée dans le 19e arrondissement de Paris pour lui rendre hommage</td>\n",
       "      <td>Escroquerie : 14 personnes interpellées dans une arnaque au compte professionnel de formation</td>\n",
       "      <td>Consommation : les Français toujours plus adeptes des abonnements</td>\n",
       "    </tr>\n",
       "    <tr>\n",
       "      <th>9</th>\n",
       "      <td>Cambriolages : les badges d'immeuble au cœur d'un trafic</td>\n",
       "      <td>Inde : un géant démographique qui doit faire face à sa consommation d’énergie</td>\n",
       "      <td>Accidents de chasse : les armes sont-elles devenues plus dangereuses ?</td>\n",
       "      <td>Récoltes : des drones cueilleurs mis au point à Tel Aviv</td>\n",
       "      <td>Un jour en France : la pénurie d’amoxicilline pourrait durer jusqu’à mars prochain</td>\n",
       "    </tr>\n",
       "    <tr>\n",
       "      <th>10</th>\n",
       "      <td>Automobile : les casses se modernisent et ont le vent en poupe</td>\n",
       "      <td>Drogue : Le Creusot, une ville moyenne devenue une plaque tournante du trafic</td>\n",
       "      <td>Lutte contre les fake news : le témoignage d'un complotiste repenti</td>\n",
       "      <td>Pénurie de personnel : au ralenti, les mairies peinent à recruter</td>\n",
       "      <td>Alimentation : sur quels éléments se base le Nutri-score ?</td>\n",
       "    </tr>\n",
       "    <tr>\n",
       "      <th>11</th>\n",
       "      <td>COP27 : Drôme, Isère… quand les communes se prennent en main pour produire une énergie verte</td>\n",
       "      <td>Bien-être animal : le débat autour de l'interdiction de la corrida à nouveau dans l’arène</td>\n",
       "      <td>Politique : comment Élisabeth Borne compte mener les prochaines réformes ?</td>\n",
       "      <td>Basilique de Nantes : les originaux de 8 anges d'or retrouvés</td>\n",
       "      <td>Portrait : à la rencontre de Géraldine, scaphandrière de métier</td>\n",
       "    </tr>\n",
       "    <tr>\n",
       "      <th>12</th>\n",
       "      <td>Environnement : le littoral martiniquais à la merci de la montée des eaux et de l’érosion</td>\n",
       "      <td>Coupe du monde du Qatar 2022 : une compétition hautement contestée sur le plan écologique</td>\n",
       "      <td>États-Unis : Donald Trump officialise sa candidature pour la prochaine présidentielle</td>\n",
       "      <td>Nouvelle-Calédonie : le plus grand lagon du monde attire les touristes</td>\n",
       "      <td>Musique : comment le clip \"Thriller\" de Michael Jackson a fait du chanteur une icône planétaire</td>\n",
       "    </tr>\n",
       "    <tr>\n",
       "      <th>13</th>\n",
       "      <td>NaN</td>\n",
       "      <td>Exposition : les natures mortes célébrées au musée du Louvre</td>\n",
       "      <td>Mission Artemis : première étape d'une nouvelle expédition sur le sol lunaire</td>\n",
       "      <td>NaN</td>\n",
       "      <td>NaN</td>\n",
       "    </tr>\n",
       "    <tr>\n",
       "      <th>14</th>\n",
       "      <td>NaN</td>\n",
       "      <td>NaN</td>\n",
       "      <td>Patrimoine : dans les coulisses de la rénovation de la façade de l'église de la Madeleine</td>\n",
       "      <td>NaN</td>\n",
       "      <td>NaN</td>\n",
       "    </tr>\n",
       "  </tbody>\n",
       "</table>\n",
       "</div>"
      ],
      "text/plain": [
       "formatted_date                                                                                 14 November, Monday  \\\n",
       "order                                                                                                                \n",
       "1                                         Afghanistan : les talibans demandent la stricte application de la charia   \n",
       "2                                      Carburants : 21 % des stations-service en pénurie avant la baisse des aides   \n",
       "3                                                                  Tourisme : la fin des billets d’avion pas chers   \n",
       "4                                                                  Chômage : vers une baisse des droits dès 2023 ?   \n",
       "5               VIDEO. Santé : trois questions sur la grève des laboratoires d'analyses, qui dure jusqu'à mercredi   \n",
       "6                                                        Lille : la sécurité des immeubles de la ville en question   \n",
       "7                    Guerre en Ukraine : après huit mois d'occupation russe, le temps des investigations à Kherson   \n",
       "8                       Géopolitique : une rencontre importante entre les présidents des États-Unis et de la Chine   \n",
       "9                                                         Cambriolages : les badges d'immeuble au cœur d'un trafic   \n",
       "10                                                  Automobile : les casses se modernisent et ont le vent en poupe   \n",
       "11                    COP27 : Drôme, Isère… quand les communes se prennent en main pour produire une énergie verte   \n",
       "12                       Environnement : le littoral martiniquais à la merci de la montée des eaux et de l’érosion   \n",
       "13                                                                                                             NaN   \n",
       "14                                                                                                             NaN   \n",
       "\n",
       "formatted_date                                                                        15 November, Tuesday  \\\n",
       "order                                                                                                        \n",
       "1                 Carburants : les Français profitent des dernières heures avant la baisse de la ristourne   \n",
       "2                                      Prix des carburants : à quoi faut-il s'attendre pour l'année 2023 ?   \n",
       "3                       Bas-Rhin : le choc après l'annonce de la fermeture d’une usine Heineken historique   \n",
       "4                                               Réforme des retraites : vers la fin des régimes spéciaux ?   \n",
       "5                              Consommation : un bonus pour encourager à la réparation de l’électroménager   \n",
       "6                Allemagne : les attaques à la dynamite contre les distributeurs de billets se multiplient   \n",
       "7               Guerre en Ukraine : la violente riposte de Vladimir Poutine après la libération de Kherson   \n",
       "8                     Guerre en Ukraine : la Crimée, prochaine bataille d'envergure entre Kiev et Moscou ?   \n",
       "9                            Inde : un géant démographique qui doit faire face à sa consommation d’énergie   \n",
       "10                           Drogue : Le Creusot, une ville moyenne devenue une plaque tournante du trafic   \n",
       "11               Bien-être animal : le débat autour de l'interdiction de la corrida à nouveau dans l’arène   \n",
       "12               Coupe du monde du Qatar 2022 : une compétition hautement contestée sur le plan écologique   \n",
       "13                                            Exposition : les natures mortes célébrées au musée du Louvre   \n",
       "14                                                                                                     NaN   \n",
       "\n",
       "formatted_date                                                                                  16 November, Wednesday  \\\n",
       "order                                                                                                                    \n",
       "1                                                              Missile tombé en Pologne : 24 heures sous haute tension   \n",
       "2                                                Missile tombé en Pologne : une frappe ukrainienne est-elle en cause ?   \n",
       "3                                                               Missile tombé en Pologne : Varsovie en état d'alerte ?   \n",
       "4                                                         Effondrement d’immeubles : des fragilités et des négligences   \n",
       "5               Crise énergétique : les résultats encourageants d'Enedis, qui a coupé les ballons d’eau chaude le midi   \n",
       "6                                                         Bois : un trafic très lucratif entre la France et la Chine ?   \n",
       "7                                   Route du Rhum 2022 : ce que l'on sait du drame qui a coûté la vie à deux personnes   \n",
       "8                   Meurtre de Lola : une marche organisée dans le 19e arrondissement de Paris pour lui rendre hommage   \n",
       "9                                               Accidents de chasse : les armes sont-elles devenues plus dangereuses ?   \n",
       "10                                                 Lutte contre les fake news : le témoignage d'un complotiste repenti   \n",
       "11                                          Politique : comment Élisabeth Borne compte mener les prochaines réformes ?   \n",
       "12                               États-Unis : Donald Trump officialise sa candidature pour la prochaine présidentielle   \n",
       "13                                       Mission Artemis : première étape d'une nouvelle expédition sur le sol lunaire   \n",
       "14                           Patrimoine : dans les coulisses de la rénovation de la façade de l'église de la Madeleine   \n",
       "\n",
       "formatted_date                                                                          17 November, Thursday  \\\n",
       "order                                                                                                           \n",
       "1                                                          Mayotte : l'île en proie à une flambée de violence   \n",
       "2                                                 Marne : le village de Suippes secoué par des vents violents   \n",
       "3                               Pouvoir d’achat : le budget des ménages grignoté par les dépenses contraintes   \n",
       "4                                                           Chauffage : les ramoneurs débordés par la demande   \n",
       "5                        Royaume-Uni : des vols de nourriture de plus en plus fréquents dans les supermarchés   \n",
       "6                               Transports : des communes rendent le bus gratuit en faveur de l’environnement   \n",
       "7                                                Évreux : appel à témoins pour retrouver la cycliste disparue   \n",
       "8               Escroquerie : 14 personnes interpellées dans une arnaque au compte professionnel de formation   \n",
       "9                                                    Récoltes : des drones cueilleurs mis au point à Tel Aviv   \n",
       "10                                          Pénurie de personnel : au ralenti, les mairies peinent à recruter   \n",
       "11                                              Basilique de Nantes : les originaux de 8 anges d'or retrouvés   \n",
       "12                                     Nouvelle-Calédonie : le plus grand lagon du monde attire les touristes   \n",
       "13                                                                                                        NaN   \n",
       "14                                                                                                        NaN   \n",
       "\n",
       "formatted_date                                                                                  18 November, Friday  \n",
       "order                                                                                                                \n",
       "1                                              Chine : les habitants excédés par la politique stricte du zéro-Covid  \n",
       "2                                                         Justice : 123 migrants de l’Ocean Viking remis en liberté  \n",
       "3                                      Accident de Millas : la conductrice du bus condamnée à un an de prison ferme  \n",
       "4                                                      SNCF : quels billets sont concernés par la hausse des prix ?  \n",
       "5                                   Coupe du monde 2022 : la Fifa interdit la vente d’alcool, un revirement soudain  \n",
       "6               Tesla : les États-Unis enquêtent sur le système d’assistance à la conduite de la marque d’Elon Musk  \n",
       "7                                   Floride : malgré les ouragans, les habitants veulent rester vivre sur les côtes  \n",
       "8                                                 Consommation : les Français toujours plus adeptes des abonnements  \n",
       "9                                Un jour en France : la pénurie d’amoxicilline pourrait durer jusqu’à mars prochain  \n",
       "10                                                       Alimentation : sur quels éléments se base le Nutri-score ?  \n",
       "11                                                  Portrait : à la rencontre de Géraldine, scaphandrière de métier  \n",
       "12                  Musique : comment le clip \"Thriller\" de Michael Jackson a fait du chanteur une icône planétaire  \n",
       "13                                                                                                              NaN  \n",
       "14                                                                                                              NaN  "
      ]
     },
     "execution_count": 122,
     "metadata": {},
     "output_type": "execute_result"
    }
   ],
   "source": [
    "conducteur"
   ]
  },
  {
   "cell_type": "code",
   "execution_count": 123,
   "id": "42858569",
   "metadata": {},
   "outputs": [
    {
     "data": {
      "text/html": [
       "<div>\n",
       "<style scoped>\n",
       "    .dataframe tbody tr th:only-of-type {\n",
       "        vertical-align: middle;\n",
       "    }\n",
       "\n",
       "    .dataframe tbody tr th {\n",
       "        vertical-align: top;\n",
       "    }\n",
       "\n",
       "    .dataframe thead th {\n",
       "        text-align: right;\n",
       "    }\n",
       "</style>\n",
       "<table border=\"1\" class=\"dataframe\">\n",
       "  <thead>\n",
       "    <tr style=\"text-align: right;\">\n",
       "      <th></th>\n",
       "      <th>date</th>\n",
       "      <th>media</th>\n",
       "      <th>title</th>\n",
       "      <th>url</th>\n",
       "    </tr>\n",
       "  </thead>\n",
       "  <tbody>\n",
       "    <tr>\n",
       "      <th>1950</th>\n",
       "      <td>2022-11-15T00:00:00.000Z</td>\n",
       "      <td>france2</td>\n",
       "      <td>Coupe du monde du Qatar 2022 : une compétition hautement contestée sur le plan écologique</td>\n",
       "      <td>https://www.francetvinfo.fr/coupe-du-monde/coupe-du-monde-du-qatar-2022-une-competition-contestee-sur-le-plan-ecologique_5479113.html</td>\n",
       "    </tr>\n",
       "    <tr>\n",
       "      <th>2002</th>\n",
       "      <td>2022-11-17T00:00:00.000Z</td>\n",
       "      <td>france2</td>\n",
       "      <td>Mayotte : l'île en proie à une flambée de violence</td>\n",
       "      <td>https://www.francetvinfo.fr/france/mayotte/mayotte-l-ile-en-proie-a-une-flambee-de-violence_5483286.html</td>\n",
       "    </tr>\n",
       "    <tr>\n",
       "      <th>2029</th>\n",
       "      <td>2022-11-18T00:00:00.000Z</td>\n",
       "      <td>france2</td>\n",
       "      <td>Floride : malgré les ouragans, les habitants veulent rester vivre sur les côtes</td>\n",
       "      <td>https://www.francetvinfo.fr/monde/environnement/crise-climatique/floride-malgre-les-ouragans-les-habitants-veulent-rester-vivre-sur-les-cotes_5485470.html</td>\n",
       "    </tr>\n",
       "  </tbody>\n",
       "</table>\n",
       "</div>"
      ],
      "text/plain": [
       "                          date    media  \\\n",
       "1950  2022-11-15T00:00:00.000Z  france2   \n",
       "2002  2022-11-17T00:00:00.000Z  france2   \n",
       "2029  2022-11-18T00:00:00.000Z  france2   \n",
       "\n",
       "                                                                                          title  \\\n",
       "1950  Coupe du monde du Qatar 2022 : une compétition hautement contestée sur le plan écologique   \n",
       "2002                                         Mayotte : l'île en proie à une flambée de violence   \n",
       "2029            Floride : malgré les ouragans, les habitants veulent rester vivre sur les côtes   \n",
       "\n",
       "                                                                                                                                                             url  \n",
       "1950                       https://www.francetvinfo.fr/coupe-du-monde/coupe-du-monde-du-qatar-2022-une-competition-contestee-sur-le-plan-ecologique_5479113.html  \n",
       "2002                                                    https://www.francetvinfo.fr/france/mayotte/mayotte-l-ile-en-proie-a-une-flambee-de-violence_5483286.html  \n",
       "2029  https://www.francetvinfo.fr/monde/environnement/crise-climatique/floride-malgre-les-ouragans-les-habitants-veulent-rester-vivre-sur-les-cotes_5485470.html  "
      ]
     },
     "execution_count": 123,
     "metadata": {},
     "output_type": "execute_result"
    }
   ],
   "source": [
    "query  = \"climat\"\n",
    "last_week_edition[last_week_edition.description.apply(lambda x : query in x.lower())][['date', 'media', 'title', 'url']]"
   ]
  },
  {
   "cell_type": "code",
   "execution_count": 124,
   "id": "ca09cc88",
   "metadata": {},
   "outputs": [
    {
     "name": "stdout",
     "output_type": "stream",
     "text": [
      "À l’heure de l’urgence climatique, la coupe du monde du Qatar 2022, qui débute dimanche 20 novembre, fait figure d’aberration écologique. En effet, les stades ont été climatisés pour pouvoir accueillir l’événement.La coupe du monde de football, qui va se dérouler au Qatar à partir du 20 novembre, soulève de nombreuses interrogations, notamment dans le domaine de l’écologie. Le stade 974 fait figure de vitrine pour le pays, puisqu’il a été entièrement construit à partir de conteneurs et de matériaux recyclés. À l’issue de la compétition, toute la structure sera démontée. Il est également l’unique stade sans climatisation intérieur. Face à la controverse que suscite la climatisation dans les autres stades, le pays organisateur se défend en affirmant utiliser l’énergie solaire pour climatiser. La climatisation dans les stades sous le feu des critiques Si les Qataris se défendent sur le plan écologique, pour les associations de protection de l’environnement, le système de climatisation dans des stades ouverts représente une vraie aberration. \"C’est une coupe du monde, qui, au niveau écologique, est un non-sens complet\", critique Julien Jreissati, directeur de Greenpeace au Moyen-Orient. La FIFA a publié un rapport en 2021, dans lequel il est précisé que le Mondial produira 3,6 de tonnes de CO2, soit l’équivalent des émissions annuelles de l’Islande. Autre souci pour le Qatar : plus de 160 vols quotidiens seront chargés d’amener les supporters sur place, ce qui devrait également faire augmenter l’empreinte carbone de la compétition.\n"
     ]
    }
   ],
   "source": [
    "print(last_week_edition[last_week_edition.description.apply(lambda x : query in x.lower())]['description'].iloc[0])"
   ]
  },
  {
   "cell_type": "code",
   "execution_count": null,
   "id": "223b4b6f",
   "metadata": {},
   "outputs": [],
   "source": []
  }
 ],
 "metadata": {
  "kernelspec": {
   "display_name": "Python 3 (ipykernel)",
   "language": "python",
   "name": "python3"
  },
  "language_info": {
   "codemirror_mode": {
    "name": "ipython",
    "version": 3
   },
   "file_extension": ".py",
   "mimetype": "text/x-python",
   "name": "python",
   "nbconvert_exporter": "python",
   "pygments_lexer": "ipython3",
   "version": "3.10.4"
  },
  "toc": {
   "base_numbering": 1,
   "nav_menu": {},
   "number_sections": true,
   "sideBar": true,
   "skip_h1_title": false,
   "title_cell": "Table of Contents",
   "title_sidebar": "Contents",
   "toc_cell": false,
   "toc_position": {},
   "toc_section_display": true,
   "toc_window_display": false
  }
 },
 "nbformat": 4,
 "nbformat_minor": 5
}
