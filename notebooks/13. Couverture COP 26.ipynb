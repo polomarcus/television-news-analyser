{
 "cells": [
  {
   "cell_type": "code",
   "execution_count": 1,
   "id": "6d7036ec",
   "metadata": {},
   "outputs": [],
   "source": [
    "import pandas as pd\n",
    "import json\n",
    "from glob import glob\n",
    "import seaborn as sns\n",
    "%matplotlib inline"
   ]
  },
  {
   "cell_type": "code",
   "execution_count": 2,
   "id": "3a4a5dac",
   "metadata": {},
   "outputs": [],
   "source": [
    "pd.set_option('display.max_colwidth', 255)"
   ]
  },
  {
   "cell_type": "code",
   "execution_count": 3,
   "id": "148b31b8",
   "metadata": {},
   "outputs": [],
   "source": [
    "subjects = []\n",
    "for media in ['France 3', 'France 2', 'TF1']:\n",
    "    for year in ['2021']:\n",
    "        for month in ['10', '11']:\n",
    "            month_path = f'../data-news-json/media={media}/year={year}/month={month}'\n",
    "            day_files = glob(f'{month_path}/day=*/*.json')\n",
    "            for day_file in day_files:\n",
    "                for line in open(day_file):\n",
    "                    subject = json.loads(line)\n",
    "                    subject['media'] = media.lower().replace(' ', '')\n",
    "                    subjects.append(subject)"
   ]
  },
  {
   "cell_type": "code",
   "execution_count": 4,
   "id": "baad4d87",
   "metadata": {},
   "outputs": [],
   "source": [
    "data = pd.DataFrame(subjects)"
   ]
  },
  {
   "cell_type": "code",
   "execution_count": 5,
   "id": "2d2b6e26",
   "metadata": {},
   "outputs": [],
   "source": [
    "data['date'] = pd.to_datetime(data['date'])"
   ]
  },
  {
   "cell_type": "code",
   "execution_count": 6,
   "id": "17d0eae6",
   "metadata": {},
   "outputs": [
    {
     "data": {
      "text/html": [
       "<div>\n",
       "<style scoped>\n",
       "    .dataframe tbody tr th:only-of-type {\n",
       "        vertical-align: middle;\n",
       "    }\n",
       "\n",
       "    .dataframe tbody tr th {\n",
       "        vertical-align: top;\n",
       "    }\n",
       "\n",
       "    .dataframe thead th {\n",
       "        text-align: right;\n",
       "    }\n",
       "</style>\n",
       "<table border=\"1\" class=\"dataframe\">\n",
       "  <thead>\n",
       "    <tr style=\"text-align: right;\">\n",
       "      <th></th>\n",
       "      <th>title</th>\n",
       "      <th>description</th>\n",
       "      <th>date</th>\n",
       "      <th>order</th>\n",
       "      <th>presenter</th>\n",
       "      <th>authors</th>\n",
       "      <th>editor</th>\n",
       "      <th>editorDeputy</th>\n",
       "      <th>url</th>\n",
       "      <th>urlTvNews</th>\n",
       "      <th>containsWordGlobalWarming</th>\n",
       "      <th>media</th>\n",
       "    </tr>\n",
       "  </thead>\n",
       "  <tbody>\n",
       "    <tr>\n",
       "      <th>0</th>\n",
       "      <td>Présidentielle 2022 : Éric Zemmour et Marine Le Pen en déplacement dans le sud-est, à quelques kilomètres d’écart</td>\n",
       "      <td>Toujours pas officiellement candidat, Éric Zemmour était à Nîmes (Gard), tandis que Marine Le Pen se déplaçait à Cavaillon (Vaucluse), vendredi 15 octobre. Une centaine de kilomètres entre les deux, alors que la présidente du RN est sous pression.La c...</td>\n",
       "      <td>2021-10-15 00:00:00+00:00</td>\n",
       "      <td>8</td>\n",
       "      <td>Catherine Matausch</td>\n",
       "      <td>[C. Motte, V. Lerouge, M. Benito, J. Paul, P. Gueny, France 3 Nîmes]</td>\n",
       "      <td>Philippe Denis</td>\n",
       "      <td>[Anne-Charlotte Hinet, Charles-Henri Carlier]</td>\n",
       "      <td>https://www.francetvinfo.fr/politique/eric-zemmour/presidentielle-2022-eric-zemmour-et-marine-le-pen-en-deplacement-dans-le-sud-est-a-quelques-kilometres-decart_4809111.html</td>\n",
       "      <td>https://www.francetvinfo.fr/replay-jt/france-3/19-20/jt-de-19-20-du-vendredi-15-octobre-2021_4783823.html</td>\n",
       "      <td>False</td>\n",
       "      <td>france3</td>\n",
       "    </tr>\n",
       "    <tr>\n",
       "      <th>1</th>\n",
       "      <td>Manifestation du 17 octobre 1961 à Paris : un massacre quasiment oublié de notre histoire</td>\n",
       "      <td>Le 17 octobre 1961, des Algériens qui manifestaient pacifiquement contre la guerre d'Algérie et les brimades qu'ils subissent ont été tués par la police française, à Paris. Un massacre encouragé par Maurice Papon, à l'époque préfet de police de Paris....</td>\n",
       "      <td>2021-10-15 00:00:00+00:00</td>\n",
       "      <td>9</td>\n",
       "      <td>Catherine Matausch</td>\n",
       "      <td>[H. Huet, S. Guibout, M. Laban, M. Tafnil, S. Korwin]</td>\n",
       "      <td>Philippe Denis</td>\n",
       "      <td>[Anne-Charlotte Hinet, Charles-Henri Carlier]</td>\n",
       "      <td>https://www.francetvinfo.fr/culture/patrimoine/histoire/manifestation-du-17-octobre-1961-a-paris-un-massacre-quasiment-oublie-de-notre-histoire_4809129.html</td>\n",
       "      <td>https://www.francetvinfo.fr/replay-jt/france-3/19-20/jt-de-19-20-du-vendredi-15-octobre-2021_4783823.html</td>\n",
       "      <td>False</td>\n",
       "      <td>france3</td>\n",
       "    </tr>\n",
       "    <tr>\n",
       "      <th>2</th>\n",
       "      <td>Consommation : les ménages modestes et ceux plus aisés ne sont pas égaux devant l'inflation</td>\n",
       "      <td>L'inflation s'élève à 2,2% sur un an, d'après l'Insee. Mais des disparités existent entre les Français, qui ne consomment pas tous de la même façon.Selon les chiffres de l'Insee, l'inflation s'élève à 2,2% sur un an. \"L'inflation, ce n'est qu'une moye...</td>\n",
       "      <td>2021-10-15 00:00:00+00:00</td>\n",
       "      <td>7</td>\n",
       "      <td>Catherine Matausch</td>\n",
       "      <td>[Julien Bigard]</td>\n",
       "      <td>Philippe Denis</td>\n",
       "      <td>[Anne-Charlotte Hinet, Charles-Henri Carlier]</td>\n",
       "      <td>https://www.francetvinfo.fr/economie/energie/consommation-les-menages-modestes-et-ceux-plus-aises-ne-sont-pas-egaux-devant-l-inflation_4809133.html</td>\n",
       "      <td>https://www.francetvinfo.fr/replay-jt/france-3/19-20/jt-de-19-20-du-vendredi-15-octobre-2021_4783823.html</td>\n",
       "      <td>False</td>\n",
       "      <td>france3</td>\n",
       "    </tr>\n",
       "    <tr>\n",
       "      <th>3</th>\n",
       "      <td>Italie : le pass sanitaire rendu obligatoire au travail</td>\n",
       "      <td>L’Italie a décidé de rendre obligatoire le pass sanitaire pour aller travailler, que ce soit dans le secteur privé ou public. Le journaliste Alban Mikoczy, en direct de Rome vendredi 15 octobre, fait le point sur cette initiative inédite.En Italie, le...</td>\n",
       "      <td>2021-10-15 00:00:00+00:00</td>\n",
       "      <td>5</td>\n",
       "      <td>Catherine Matausch</td>\n",
       "      <td>[Alban Mikoczy]</td>\n",
       "      <td>Philippe Denis</td>\n",
       "      <td>[Anne-Charlotte Hinet, Charles-Henri Carlier]</td>\n",
       "      <td>https://www.francetvinfo.fr/sante/maladie/coronavirus/pass-sanitaire/italie-le-pass-sanitaire-rendu-obligatoire-au-travail_4809047.html</td>\n",
       "      <td>https://www.francetvinfo.fr/replay-jt/france-3/19-20/jt-de-19-20-du-vendredi-15-octobre-2021_4783823.html</td>\n",
       "      <td>False</td>\n",
       "      <td>france3</td>\n",
       "    </tr>\n",
       "    <tr>\n",
       "      <th>4</th>\n",
       "      <td>Rodéo urbain : à Clermont-Ferrand, un accident tue une octogénaire</td>\n",
       "      <td>C'est un drame qui provoque de nombreuses réactions à Clermont-Ferrand (Puy-de-Dôme). Une femme de 81 ans a été fauchée par un motard en roue-arrière. Elle est décédée.L'accident s'est produit sur un passage piéton, le jeudi 14 octobre aux alentours d...</td>\n",
       "      <td>2021-10-15 00:00:00+00:00</td>\n",
       "      <td>6</td>\n",
       "      <td>Catherine Matausch</td>\n",
       "      <td>[T.Cuny, L.Breuil, A-C.Huet, L.Rodari, B.Bervas]</td>\n",
       "      <td>Philippe Denis</td>\n",
       "      <td>[Anne-Charlotte Hinet, Charles-Henri Carlier]</td>\n",
       "      <td>https://www.francetvinfo.fr/france/auvergne-rhone-alpes/puy-de-dome/clermont-ferrand/rodeo-urbain-a-clermont-ferrand-un-accident-tue-une-octogenaire_4809121.html</td>\n",
       "      <td>https://www.francetvinfo.fr/replay-jt/france-3/19-20/jt-de-19-20-du-vendredi-15-octobre-2021_4783823.html</td>\n",
       "      <td>False</td>\n",
       "      <td>france3</td>\n",
       "    </tr>\n",
       "  </tbody>\n",
       "</table>\n",
       "</div>"
      ],
      "text/plain": [
       "                                                                                                               title  \\\n",
       "0  Présidentielle 2022 : Éric Zemmour et Marine Le Pen en déplacement dans le sud-est, à quelques kilomètres d’écart   \n",
       "1                          Manifestation du 17 octobre 1961 à Paris : un massacre quasiment oublié de notre histoire   \n",
       "2                        Consommation : les ménages modestes et ceux plus aisés ne sont pas égaux devant l'inflation   \n",
       "3                                                            Italie : le pass sanitaire rendu obligatoire au travail   \n",
       "4                                                 Rodéo urbain : à Clermont-Ferrand, un accident tue une octogénaire   \n",
       "\n",
       "                                                                                                                                                                                                                                                      description  \\\n",
       "0  Toujours pas officiellement candidat, Éric Zemmour était à Nîmes (Gard), tandis que Marine Le Pen se déplaçait à Cavaillon (Vaucluse), vendredi 15 octobre. Une centaine de kilomètres entre les deux, alors que la présidente du RN est sous pression.La c...   \n",
       "1  Le 17 octobre 1961, des Algériens qui manifestaient pacifiquement contre la guerre d'Algérie et les brimades qu'ils subissent ont été tués par la police française, à Paris. Un massacre encouragé par Maurice Papon, à l'époque préfet de police de Paris....   \n",
       "2  L'inflation s'élève à 2,2% sur un an, d'après l'Insee. Mais des disparités existent entre les Français, qui ne consomment pas tous de la même façon.Selon les chiffres de l'Insee, l'inflation s'élève à 2,2% sur un an. \"L'inflation, ce n'est qu'une moye...   \n",
       "3  L’Italie a décidé de rendre obligatoire le pass sanitaire pour aller travailler, que ce soit dans le secteur privé ou public. Le journaliste Alban Mikoczy, en direct de Rome vendredi 15 octobre, fait le point sur cette initiative inédite.En Italie, le...   \n",
       "4  C'est un drame qui provoque de nombreuses réactions à Clermont-Ferrand (Puy-de-Dôme). Une femme de 81 ans a été fauchée par un motard en roue-arrière. Elle est décédée.L'accident s'est produit sur un passage piéton, le jeudi 14 octobre aux alentours d...   \n",
       "\n",
       "                       date  order           presenter  \\\n",
       "0 2021-10-15 00:00:00+00:00      8  Catherine Matausch   \n",
       "1 2021-10-15 00:00:00+00:00      9  Catherine Matausch   \n",
       "2 2021-10-15 00:00:00+00:00      7  Catherine Matausch   \n",
       "3 2021-10-15 00:00:00+00:00      5  Catherine Matausch   \n",
       "4 2021-10-15 00:00:00+00:00      6  Catherine Matausch   \n",
       "\n",
       "                                                                authors  \\\n",
       "0  [C. Motte, V. Lerouge, M. Benito, J. Paul, P. Gueny, France 3 Nîmes]   \n",
       "1                 [H. Huet, S. Guibout, M. Laban, M. Tafnil, S. Korwin]   \n",
       "2                                                       [Julien Bigard]   \n",
       "3                                                       [Alban Mikoczy]   \n",
       "4                      [T.Cuny, L.Breuil, A-C.Huet, L.Rodari, B.Bervas]   \n",
       "\n",
       "           editor                                   editorDeputy  \\\n",
       "0  Philippe Denis  [Anne-Charlotte Hinet, Charles-Henri Carlier]   \n",
       "1  Philippe Denis  [Anne-Charlotte Hinet, Charles-Henri Carlier]   \n",
       "2  Philippe Denis  [Anne-Charlotte Hinet, Charles-Henri Carlier]   \n",
       "3  Philippe Denis  [Anne-Charlotte Hinet, Charles-Henri Carlier]   \n",
       "4  Philippe Denis  [Anne-Charlotte Hinet, Charles-Henri Carlier]   \n",
       "\n",
       "                                                                                                                                                                             url  \\\n",
       "0  https://www.francetvinfo.fr/politique/eric-zemmour/presidentielle-2022-eric-zemmour-et-marine-le-pen-en-deplacement-dans-le-sud-est-a-quelques-kilometres-decart_4809111.html   \n",
       "1                   https://www.francetvinfo.fr/culture/patrimoine/histoire/manifestation-du-17-octobre-1961-a-paris-un-massacre-quasiment-oublie-de-notre-histoire_4809129.html   \n",
       "2                            https://www.francetvinfo.fr/economie/energie/consommation-les-menages-modestes-et-ceux-plus-aises-ne-sont-pas-egaux-devant-l-inflation_4809133.html   \n",
       "3                                        https://www.francetvinfo.fr/sante/maladie/coronavirus/pass-sanitaire/italie-le-pass-sanitaire-rendu-obligatoire-au-travail_4809047.html   \n",
       "4              https://www.francetvinfo.fr/france/auvergne-rhone-alpes/puy-de-dome/clermont-ferrand/rodeo-urbain-a-clermont-ferrand-un-accident-tue-une-octogenaire_4809121.html   \n",
       "\n",
       "                                                                                                   urlTvNews  \\\n",
       "0  https://www.francetvinfo.fr/replay-jt/france-3/19-20/jt-de-19-20-du-vendredi-15-octobre-2021_4783823.html   \n",
       "1  https://www.francetvinfo.fr/replay-jt/france-3/19-20/jt-de-19-20-du-vendredi-15-octobre-2021_4783823.html   \n",
       "2  https://www.francetvinfo.fr/replay-jt/france-3/19-20/jt-de-19-20-du-vendredi-15-octobre-2021_4783823.html   \n",
       "3  https://www.francetvinfo.fr/replay-jt/france-3/19-20/jt-de-19-20-du-vendredi-15-octobre-2021_4783823.html   \n",
       "4  https://www.francetvinfo.fr/replay-jt/france-3/19-20/jt-de-19-20-du-vendredi-15-octobre-2021_4783823.html   \n",
       "\n",
       "   containsWordGlobalWarming    media  \n",
       "0                      False  france3  \n",
       "1                      False  france3  \n",
       "2                      False  france3  \n",
       "3                      False  france3  \n",
       "4                      False  france3  "
      ]
     },
     "execution_count": 6,
     "metadata": {},
     "output_type": "execute_result"
    }
   ],
   "source": [
    "data.head()"
   ]
  },
  {
   "cell_type": "code",
   "execution_count": 7,
   "id": "a4ef77ab",
   "metadata": {},
   "outputs": [],
   "source": [
    "cop26 = data[(data['date'] >= '2021-10-30') & (data['date'] < '2021-11-13')].copy()"
   ]
  },
  {
   "cell_type": "code",
   "execution_count": 21,
   "id": "f203deb3",
   "metadata": {},
   "outputs": [],
   "source": [
    "cop26['cop26'] = [('cop26' in t.lower() or 'cop 26' in t) \n",
    "                  or ('cop26' in d.lower() or 'cop 26' in d) for t,d in zip(cop26.title, cop26.description)]"
   ]
  },
  {
   "cell_type": "code",
   "execution_count": 22,
   "id": "9dc2da86",
   "metadata": {},
   "outputs": [
    {
     "name": "stderr",
     "output_type": "stream",
     "text": [
      "/home/david/projects/data-env/lib/python3.10/site-packages/pandas/core/computation/expressions.py:204: UserWarning: evaluating in Python space because the '+' operator is not supported by numexpr for the bool dtype, use '|' instead\n",
      "  warnings.warn(\n"
     ]
    }
   ],
   "source": [
    "cop26['climat'] = cop26['cop26'] + cop26['containsWordGlobalWarming']"
   ]
  },
  {
   "cell_type": "code",
   "execution_count": 23,
   "id": "17cbb160",
   "metadata": {},
   "outputs": [
    {
     "data": {
      "text/plain": [
       "media    climat\n",
       "france2  False     178\n",
       "         True       19\n",
       "france3  False     259\n",
       "         True       23\n",
       "tf1      False     186\n",
       "         True       10\n",
       "Name: climat, dtype: int64"
      ]
     },
     "execution_count": 23,
     "metadata": {},
     "output_type": "execute_result"
    }
   ],
   "source": [
    "cop26.groupby('media').climat.value_counts()"
   ]
  },
  {
   "cell_type": "code",
   "execution_count": 28,
   "id": "9cac03af",
   "metadata": {
    "scrolled": true
   },
   "outputs": [
    {
     "data": {
      "text/html": [
       "<div>\n",
       "<style scoped>\n",
       "    .dataframe tbody tr th:only-of-type {\n",
       "        vertical-align: middle;\n",
       "    }\n",
       "\n",
       "    .dataframe tbody tr th {\n",
       "        vertical-align: top;\n",
       "    }\n",
       "\n",
       "    .dataframe thead th {\n",
       "        text-align: right;\n",
       "    }\n",
       "</style>\n",
       "<table border=\"1\" class=\"dataframe\">\n",
       "  <thead>\n",
       "    <tr style=\"text-align: right;\">\n",
       "      <th></th>\n",
       "      <th>media</th>\n",
       "      <th>date</th>\n",
       "      <th>title</th>\n",
       "      <th>cop26</th>\n",
       "      <th>description</th>\n",
       "    </tr>\n",
       "  </thead>\n",
       "  <tbody>\n",
       "    <tr>\n",
       "      <th>2246</th>\n",
       "      <td>tf1</td>\n",
       "      <td>2021-10-30 00:00:00+00:00</td>\n",
       "      <td>Enquête sur l'inquiétante montée des eaux en Camargue</td>\n",
       "      <td>True</td>\n",
       "      <td>Les dirigeants de la planète se retrouvent ce dimanche à Glasgow en Écosse pour la COP26. Le temps presse ; les signes de dérèglement climatique ne cessent de s'accroître, y compris en France. La Camargue pourrait par exemple se retrouver sous les eau...</td>\n",
       "    </tr>\n",
       "    <tr>\n",
       "      <th>2358</th>\n",
       "      <td>tf1</td>\n",
       "      <td>2021-10-31 00:00:00+00:00</td>\n",
       "      <td>La fête d'Halloween en Angleterre</td>\n",
       "      <td>False</td>\n",
       "      <td>Vous vous préparez peut-être à célébrer Halloween. Figurez-vous qu'en Angleterre, on joue à se faire peur pour de vrai.  Ici, il n'y a pas de place aux faux pas. Nous sommes sur le chemin le plus dangereux d'Angleterre. La marée vient de descendre. Qu...</td>\n",
       "    </tr>\n",
       "    <tr>\n",
       "      <th>2496</th>\n",
       "      <td>tf1</td>\n",
       "      <td>2021-11-01 00:00:00+00:00</td>\n",
       "      <td>COP26 : un sommet crucial</td>\n",
       "      <td>True</td>\n",
       "      <td>La COP26 s’est ouverte à Glasgow ce lundi. Son ambition : prendre soin de notre Terre, garantir à nos enfants un monde vivable. Presque tous les dirigeants de la planète tentent de trouver un terrain d’entente en l’absence de la Chine, plus gros pollu...</td>\n",
       "    </tr>\n",
       "    <tr>\n",
       "      <th>2512</th>\n",
       "      <td>tf1</td>\n",
       "      <td>2021-11-04 00:00:00+00:00</td>\n",
       "      <td>À Madagascar : ils sauvent les lémuriens</td>\n",
       "      <td>False</td>\n",
       "      <td>Nos forêts tempérées ou celles plus lointaines sont précieuses car elles jouent un rôle essentiel dans la lutte contre le réchauffement climatique. À Madagascar, des initiatives du bon sens et l’amour de la nature peuvent changer beaucoup de choses.  ...</td>\n",
       "    </tr>\n",
       "    <tr>\n",
       "      <th>2685</th>\n",
       "      <td>tf1</td>\n",
       "      <td>2021-11-06 00:00:00+00:00</td>\n",
       "      <td>COP26 : Angers l'exemple à suivre ?</td>\n",
       "      <td>True</td>\n",
       "      <td>Angers est aujourd'hui la ville la plus verte de l'Hexagone. Les habitants plébiscitent les efforts financiers que cela implique.  Planter, encore et encore. À deux pas du centre-ville, celui dont certains surnomment le central parc d'Angers va encore...</td>\n",
       "    </tr>\n",
       "    <tr>\n",
       "      <th>2781</th>\n",
       "      <td>tf1</td>\n",
       "      <td>2021-11-08 00:00:00+00:00</td>\n",
       "      <td>Eclairage public : ces villes qui économisent</td>\n",
       "      <td>True</td>\n",
       "      <td>Les dirigeants de la planète sont toujours réunis à Glasgow en Écosse dans le cadre de la COP26 pour tenter de trouver des solutions au réchauffement climatique. En France, des villes ont déjà commencé à économiser l’éclairage public. Illustration.  C...</td>\n",
       "    </tr>\n",
       "    <tr>\n",
       "      <th>2792</th>\n",
       "      <td>tf1</td>\n",
       "      <td>2021-11-08 00:00:00+00:00</td>\n",
       "      <td>Mangues en Sicile, lavande au Cachemire... à la découverte de cultures surprenantes</td>\n",
       "      <td>False</td>\n",
       "      <td>Nous irons à la rencontre d'agriculteurs du monde entier qui s'adaptent au changement climatique. Ils cultivent de la lavande dans les montagnes du Cachemire et des mangues tropicales en Sicile.  Débutons par une devinette, où sommes-nous ? Dans un ch...</td>\n",
       "    </tr>\n",
       "    <tr>\n",
       "      <th>2793</th>\n",
       "      <td>tf1</td>\n",
       "      <td>2021-11-08 00:00:00+00:00</td>\n",
       "      <td>Méthane : comment réduire les émissions de ce gaz qui réchauffe la planète ?</td>\n",
       "      <td>True</td>\n",
       "      <td>DÉFI ÉCOLOGIQUE - Émis majoritairement par le bétail et les énergies fossiles, c’est l’un des gaz à effet de serre qui réchauffent le plus rapidement l’atmosphère. Plusieurs solutions existent pour suivre l'engagement de la COP26 de réduire de 30% ses...</td>\n",
       "    </tr>\n",
       "    <tr>\n",
       "      <th>2737</th>\n",
       "      <td>tf1</td>\n",
       "      <td>2021-11-09 00:00:00+00:00</td>\n",
       "      <td>Nucléaire : Emmanuel Macron annonce la relance de la construction de nouveaux réacteurs</td>\n",
       "      <td>True</td>\n",
       "      <td>On a aussi beaucoup appris ce mardi soir sur la politique énergétique de la France. Emmanuel Macron, dans son intervention, a annoncé la relance de la construction de réacteurs nucléaires. Combien vont être construits ? À quelle échéance et à quel pri...</td>\n",
       "    </tr>\n",
       "    <tr>\n",
       "      <th>2716</th>\n",
       "      <td>tf1</td>\n",
       "      <td>2021-11-12 00:00:00+00:00</td>\n",
       "      <td>VIDÉO - Ce couple de Français détient le record du monde de plongée sous la banquise</td>\n",
       "      <td>False</td>\n",
       "      <td>EN APNÉE - Emmanuelle et Ghislain Bardout explorent l'océan Arctique depuis 15 ans. Détenteurs de record, ils parcourent, le monde en famille afin, notamment, de sensibiliser au réchauffement climatique.  Comme une force magnétique, le Pôle Nord les a...</td>\n",
       "    </tr>\n",
       "  </tbody>\n",
       "</table>\n",
       "</div>"
      ],
      "text/plain": [
       "     media                      date  \\\n",
       "2246   tf1 2021-10-30 00:00:00+00:00   \n",
       "2358   tf1 2021-10-31 00:00:00+00:00   \n",
       "2496   tf1 2021-11-01 00:00:00+00:00   \n",
       "2512   tf1 2021-11-04 00:00:00+00:00   \n",
       "2685   tf1 2021-11-06 00:00:00+00:00   \n",
       "2781   tf1 2021-11-08 00:00:00+00:00   \n",
       "2792   tf1 2021-11-08 00:00:00+00:00   \n",
       "2793   tf1 2021-11-08 00:00:00+00:00   \n",
       "2737   tf1 2021-11-09 00:00:00+00:00   \n",
       "2716   tf1 2021-11-12 00:00:00+00:00   \n",
       "\n",
       "                                                                                        title  \\\n",
       "2246                                    Enquête sur l'inquiétante montée des eaux en Camargue   \n",
       "2358                                                        La fête d'Halloween en Angleterre   \n",
       "2496                                                                COP26 : un sommet crucial   \n",
       "2512                                                 À Madagascar : ils sauvent les lémuriens   \n",
       "2685                                                      COP26 : Angers l'exemple à suivre ?   \n",
       "2781                                            Eclairage public : ces villes qui économisent   \n",
       "2792      Mangues en Sicile, lavande au Cachemire... à la découverte de cultures surprenantes   \n",
       "2793             Méthane : comment réduire les émissions de ce gaz qui réchauffe la planète ?   \n",
       "2737  Nucléaire : Emmanuel Macron annonce la relance de la construction de nouveaux réacteurs   \n",
       "2716     VIDÉO - Ce couple de Français détient le record du monde de plongée sous la banquise   \n",
       "\n",
       "      cop26  \\\n",
       "2246   True   \n",
       "2358  False   \n",
       "2496   True   \n",
       "2512  False   \n",
       "2685   True   \n",
       "2781   True   \n",
       "2792  False   \n",
       "2793   True   \n",
       "2737   True   \n",
       "2716  False   \n",
       "\n",
       "                                                                                                                                                                                                                                                         description  \n",
       "2246  Les dirigeants de la planète se retrouvent ce dimanche à Glasgow en Écosse pour la COP26. Le temps presse ; les signes de dérèglement climatique ne cessent de s'accroître, y compris en France. La Camargue pourrait par exemple se retrouver sous les eau...  \n",
       "2358  Vous vous préparez peut-être à célébrer Halloween. Figurez-vous qu'en Angleterre, on joue à se faire peur pour de vrai.  Ici, il n'y a pas de place aux faux pas. Nous sommes sur le chemin le plus dangereux d'Angleterre. La marée vient de descendre. Qu...  \n",
       "2496  La COP26 s’est ouverte à Glasgow ce lundi. Son ambition : prendre soin de notre Terre, garantir à nos enfants un monde vivable. Presque tous les dirigeants de la planète tentent de trouver un terrain d’entente en l’absence de la Chine, plus gros pollu...  \n",
       "2512  Nos forêts tempérées ou celles plus lointaines sont précieuses car elles jouent un rôle essentiel dans la lutte contre le réchauffement climatique. À Madagascar, des initiatives du bon sens et l’amour de la nature peuvent changer beaucoup de choses.  ...  \n",
       "2685  Angers est aujourd'hui la ville la plus verte de l'Hexagone. Les habitants plébiscitent les efforts financiers que cela implique.  Planter, encore et encore. À deux pas du centre-ville, celui dont certains surnomment le central parc d'Angers va encore...  \n",
       "2781  Les dirigeants de la planète sont toujours réunis à Glasgow en Écosse dans le cadre de la COP26 pour tenter de trouver des solutions au réchauffement climatique. En France, des villes ont déjà commencé à économiser l’éclairage public. Illustration.  C...  \n",
       "2792  Nous irons à la rencontre d'agriculteurs du monde entier qui s'adaptent au changement climatique. Ils cultivent de la lavande dans les montagnes du Cachemire et des mangues tropicales en Sicile.  Débutons par une devinette, où sommes-nous ? Dans un ch...  \n",
       "2793  DÉFI ÉCOLOGIQUE - Émis majoritairement par le bétail et les énergies fossiles, c’est l’un des gaz à effet de serre qui réchauffent le plus rapidement l’atmosphère. Plusieurs solutions existent pour suivre l'engagement de la COP26 de réduire de 30% ses...  \n",
       "2737  On a aussi beaucoup appris ce mardi soir sur la politique énergétique de la France. Emmanuel Macron, dans son intervention, a annoncé la relance de la construction de réacteurs nucléaires. Combien vont être construits ? À quelle échéance et à quel pri...  \n",
       "2716  EN APNÉE - Emmanuelle et Ghislain Bardout explorent l'océan Arctique depuis 15 ans. Détenteurs de record, ils parcourent, le monde en famille afin, notamment, de sensibiliser au réchauffement climatique.  Comme une force magnétique, le Pôle Nord les a...  "
      ]
     },
     "execution_count": 28,
     "metadata": {},
     "output_type": "execute_result"
    }
   ],
   "source": [
    "cop26[cop26.climat & (cop26.media == 'tf1')][['media', 'date', 'title', 'cop26', 'description']].sort_values(['media', 'date'])"
   ]
  },
  {
   "cell_type": "code",
   "execution_count": 25,
   "id": "db66c5ef",
   "metadata": {},
   "outputs": [],
   "source": [
    "cop26['day'] = [x.strftime('%Y-%m-%d') for x in cop26.date]"
   ]
  },
  {
   "cell_type": "code",
   "execution_count": 26,
   "id": "505a58c9",
   "metadata": {},
   "outputs": [],
   "source": [
    "cop26[cop26.climat][['media', 'day', 'title']].sort_values(['media', 'day']).to_excel('data/cop26.xlsx')"
   ]
  },
  {
   "cell_type": "code",
   "execution_count": 27,
   "id": "8b76c40c",
   "metadata": {},
   "outputs": [
    {
     "data": {
      "text/plain": [
       "Text(0.5, 1.0, 'Part des sujets climat et COP26')"
      ]
     },
     "execution_count": 27,
     "metadata": {},
     "output_type": "execute_result"
    },
    {
     "data": {
      "image/png": "[encoded data removed]",
      "text/plain": [
       "<Figure size 640x480 with 1 Axes>"
      ]
     },
     "metadata": {},
     "output_type": "display_data"
    }
   ],
   "source": [
    "ax = sns.barplot(x='media', y='climat', \n",
    "                 data=(cop26.groupby('media').climat.mean() * 100).reset_index())\n",
    "ax.bar_label(ax.containers[0], fmt=\"%.1f%%\")\n",
    "ax.set_title('Part des sujets climat et COP26')\n"
   ]
  }
 ],
 "metadata": {
  "kernelspec": {
   "display_name": "data-env",
   "language": "python",
   "name": "data-env"
  },
  "language_info": {
   "codemirror_mode": {
    "name": "ipython",
    "version": 3
   },
   "file_extension": ".py",
   "mimetype": "text/x-python",
   "name": "python",
   "nbconvert_exporter": "python",
   "pygments_lexer": "ipython3",
   "version": "3.10.8"
  },
  "toc": {
   "base_numbering": 1,
   "nav_menu": {},
   "number_sections": true,
   "sideBar": true,
   "skip_h1_title": false,
   "title_cell": "Table of Contents",
   "title_sidebar": "Contents",
   "toc_cell": false,
   "toc_position": {},
   "toc_section_display": true,
   "toc_window_display": false
  }
 },
 "nbformat": 4,
 "nbformat_minor": 5
}
