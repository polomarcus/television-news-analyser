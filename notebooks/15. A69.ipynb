{
 "cells": [
  {
   "cell_type": "code",
   "execution_count": 1,
   "id": "688eb2ef-72e9-4ec2-9c11-d36e1af07f63",
   "metadata": {},
   "outputs": [],
   "source": [
    "import pandas as pd\n",
    "import json\n",
    "from glob import glob\n",
    "import os.path as osp\n",
    "import datetime\n",
    "import re\n",
    "import matplotlib.pyplot as plt\n",
    "%matplotlib inline"
   ]
  },
  {
   "cell_type": "code",
   "execution_count": 2,
   "id": "cc7a1b88-0f7e-40a6-be43-d1a138aa7a63",
   "metadata": {},
   "outputs": [],
   "source": [
    "pd.set_option('display.max_colwidth', 255)"
   ]
  },
  {
   "cell_type": "code",
   "execution_count": 3,
   "id": "3b6c65ad-e53a-4cc9-95b7-b26f4f76f901",
   "metadata": {},
   "outputs": [],
   "source": [
    "subjects = []\n",
    "for media in ['France 3', 'France 2', 'TF1']:\n",
    "    for year in ['2023']:\n",
    "        for month in ['4', '5', '6', '7', '8', '9', '10']:\n",
    "            month_path = f'../data-news-json/media={media}/year={year}/month={month}'\n",
    "            day_files = glob(f'{month_path}/day=*/*.json')\n",
    "            for day_file in day_files:\n",
    "                for line in open(day_file):\n",
    "                    subject = json.loads(line)\n",
    "                    subject['media'] = media.lower().replace(' ', '')\n",
    "                    subjects.append(subject)"
   ]
  },
  {
   "cell_type": "code",
   "execution_count": 4,
   "id": "074a7e8a-a344-43d6-9298-41d31c573dcc",
   "metadata": {},
   "outputs": [
    {
     "data": {
      "text/plain": [
       "11841"
      ]
     },
     "execution_count": 4,
     "metadata": {},
     "output_type": "execute_result"
    }
   ],
   "source": [
    "len(subjects)"
   ]
  },
  {
   "cell_type": "code",
   "execution_count": 5,
   "id": "2a36c95b-d784-44ba-b4b0-bb9916bea228",
   "metadata": {},
   "outputs": [],
   "source": [
    "data = pd.DataFrame(subjects)"
   ]
  },
  {
   "cell_type": "markdown",
   "id": "9b2bb87d-5329-41d3-b523-fa82da18467b",
   "metadata": {},
   "source": [
    "# Formatting"
   ]
  },
  {
   "cell_type": "code",
   "execution_count": 8,
   "id": "3493d1bf-d10e-4726-b38f-6ffe3e518a54",
   "metadata": {},
   "outputs": [],
   "source": [
    "def get_week_edition(data, focus_media, edition, week):\n",
    "    week_start = datetime.date(year=2023, month=4, day=3) + datetime.timedelta(weeks=week)\n",
    "    week_end = week_start + datetime.timedelta(days=8 if focus_media=='tf1' else 7)\n",
    "    week_data = data[(data.media == focus_media)\n",
    "                 & (data[\"date\"] >= week_start.strftime(\"%Y-%m-%d\")) \n",
    "                 & (data[\"date\"] < week_end.strftime(\"%Y-%m-%d\")) ].copy()\n",
    "\n",
    "    # extract edition\n",
    "    if focus_media == 'france2' and edition == \"20h\":\n",
    "        week_data = week_data[['20h' in x for x in week_data.urlTvNews]].copy()\n",
    "    if focus_media == 'france2' and edition == \"13h\":\n",
    "        week_data = week_data[['13h' in x for x in week_data.urlTvNews]].copy()\n",
    "    if focus_media == 'tf1' and edition == \"20h\":\n",
    "        week_data = week_data[[('20h' in x) or ('we' in x and (d[11:13] >= \"20\" or d[11:13] <= \"13\")) for x,d in zip(week_data.urlTvNews, week_data.date)]].copy()\n",
    "\n",
    "    \n",
    "    # get subject\n",
    "    if focus_media == 'tf1':\n",
    "        topic_pattern = re.compile(\"https://www.tf1info.fr/(\\S+)/(\\S+).html\")\n",
    "        week_data['topic'] = [topic_pattern.match(u).group(1) for u in week_data.url]\n",
    "        \n",
    "    if focus_media == 'france2':\n",
    "        topic_pattern = re.compile(\"https://www.francetvinfo.fr/(\\S+)/(\\S+).html\")\n",
    "        week_data['topic'] = [topic_pattern.match(u).group(1).split('/')[0] \n",
    "                                  for u in [x.replace('https://www.francetvinfo.frhttps://www.francetvinfo.fr', 'https://www.francetvinfo.fr') for x in week_data.url]]\n",
    "\n",
    "    if focus_media == 'france2':\n",
    "        week_data['formatted_date'] = [d.strftime('%d %B, %A') for d in pd.to_datetime(week_data.date)]  \n",
    "    if focus_media == 'tf1':\n",
    "        week_data['formatted_date'] = [(d - datetime.timedelta(hours=20)+datetime.timedelta(minutes=1)).strftime('%d %B, %A') for d in pd.to_datetime(week_data.date)]\n",
    "        week_data = week_data[(week_data['formatted_date'] >= week_start.strftime('%d %B, %A')) \n",
    "                                & (week_data['formatted_date'] < (week_end - datetime.timedelta(days=1)).strftime('%d %B, %A'))]\n",
    "        \n",
    "    return week_data"
   ]
  },
  {
   "cell_type": "markdown",
   "id": "63bc53de-4f05-4710-9538-2378f0fc660b",
   "metadata": {},
   "source": [
    "# Detection"
   ]
  },
  {
   "cell_type": "code",
   "execution_count": 13,
   "id": "075d5625-71e1-4233-a58c-25df5a928516",
   "metadata": {},
   "outputs": [],
   "source": [
    "tf1_all = []\n",
    "for w in range(30):\n",
    "    tf1_all.append(get_week_edition(data, 'tf1', '20h', w))"
   ]
  },
  {
   "cell_type": "code",
   "execution_count": 14,
   "id": "0d66db49-5efd-4a2c-9344-797ad514a148",
   "metadata": {},
   "outputs": [],
   "source": [
    "tf1_all = pd.concat(tf1_all)"
   ]
  },
  {
   "cell_type": "code",
   "execution_count": 15,
   "id": "a8ec72f1-502d-449c-bb46-02f60bf0ae0d",
   "metadata": {},
   "outputs": [
    {
     "data": {
      "text/plain": [
       "1528"
      ]
     },
     "execution_count": 15,
     "metadata": {},
     "output_type": "execute_result"
    }
   ],
   "source": [
    "len(tf1_all)"
   ]
  },
  {
   "cell_type": "code",
   "execution_count": 17,
   "id": "2f62021c-4010-4a47-a649-4341359710fb",
   "metadata": {},
   "outputs": [],
   "source": [
    "france2_all = []\n",
    "for w in range(30):\n",
    "    france2_all.append(get_week_edition(data, 'france2', '20h', w))"
   ]
  },
  {
   "cell_type": "code",
   "execution_count": 18,
   "id": "9035b9f5-2db9-43fc-941d-f5f547fc65e3",
   "metadata": {},
   "outputs": [],
   "source": [
    "france2_all = pd.concat(france2_all)"
   ]
  },
  {
   "cell_type": "code",
   "execution_count": 19,
   "id": "dd56d340-9b2a-4c08-ad04-3652bac9566a",
   "metadata": {},
   "outputs": [
    {
     "data": {
      "text/plain": [
       "2534"
      ]
     },
     "execution_count": 19,
     "metadata": {},
     "output_type": "execute_result"
    }
   ],
   "source": [
    "len(france2_all)"
   ]
  },
  {
   "cell_type": "code",
   "execution_count": 32,
   "id": "94d7de1c-4f8b-491a-ace2-b09c137025ae",
   "metadata": {},
   "outputs": [],
   "source": [
    "keywords = {\n",
    "    'A69' : ['a69', 'thomas brail']\n",
    "}"
   ]
  },
  {
   "cell_type": "code",
   "execution_count": 21,
   "id": "7723f482-3108-44c9-b273-3ce36cb6f835",
   "metadata": {},
   "outputs": [],
   "source": [
    "topic = 'A69'"
   ]
  },
  {
   "cell_type": "code",
   "execution_count": 51,
   "id": "cdba5dc0-cd0e-489e-9b58-b45f65d59abd",
   "metadata": {},
   "outputs": [
    {
     "data": {
      "text/html": [
       "<div>\n",
       "<style scoped>\n",
       "    .dataframe tbody tr th:only-of-type {\n",
       "        vertical-align: middle;\n",
       "    }\n",
       "\n",
       "    .dataframe tbody tr th {\n",
       "        vertical-align: top;\n",
       "    }\n",
       "\n",
       "    .dataframe thead th {\n",
       "        text-align: right;\n",
       "    }\n",
       "</style>\n",
       "<table border=\"1\" class=\"dataframe\">\n",
       "  <thead>\n",
       "    <tr style=\"text-align: right;\">\n",
       "      <th></th>\n",
       "      <th>formatted_date</th>\n",
       "      <th>title</th>\n",
       "    </tr>\n",
       "  </thead>\n",
       "  <tbody>\n",
       "    <tr>\n",
       "      <th>3352</th>\n",
       "      <td>21 April, Friday</td>\n",
       "      <td>Autoroute : l’A69 entre Castres et Toulouse suscite la colère des militants écologistes</td>\n",
       "    </tr>\n",
       "    <tr>\n",
       "      <th>7143</th>\n",
       "      <td>22 October, Sunday</td>\n",
       "      <td>Autoroute A69 : la tentative de ZAD avortée</td>\n",
       "    </tr>\n",
       "  </tbody>\n",
       "</table>\n",
       "</div>"
      ],
      "text/plain": [
       "          formatted_date  \\\n",
       "3352    21 April, Friday   \n",
       "7143  22 October, Sunday   \n",
       "\n",
       "                                                                                        title  \n",
       "3352  Autoroute : l’A69 entre Castres et Toulouse suscite la colère des militants écologistes  \n",
       "7143                                              Autoroute A69 : la tentative de ZAD avortée  "
      ]
     },
     "execution_count": 51,
     "metadata": {},
     "output_type": "execute_result"
    }
   ],
   "source": [
    "france2_all[['thomas brail' in (t+\" \"+d).lower() for t,d in zip(france2_all.title, france2_all.description)]][['formatted_date', 'title']]"
   ]
  },
  {
   "cell_type": "code",
   "execution_count": 42,
   "id": "c11ff2bb-4586-4ea9-9ef1-303ff4deb4ce",
   "metadata": {},
   "outputs": [
    {
     "data": {
      "text/html": [
       "<div>\n",
       "<style scoped>\n",
       "    .dataframe tbody tr th:only-of-type {\n",
       "        vertical-align: middle;\n",
       "    }\n",
       "\n",
       "    .dataframe tbody tr th {\n",
       "        vertical-align: top;\n",
       "    }\n",
       "\n",
       "    .dataframe thead th {\n",
       "        text-align: right;\n",
       "    }\n",
       "</style>\n",
       "<table border=\"1\" class=\"dataframe\">\n",
       "  <thead>\n",
       "    <tr style=\"text-align: right;\">\n",
       "      <th></th>\n",
       "      <th>formatted_date</th>\n",
       "      <th>title</th>\n",
       "    </tr>\n",
       "  </thead>\n",
       "  <tbody>\n",
       "    <tr>\n",
       "      <th>8027</th>\n",
       "      <td>05 April, Wednesday</td>\n",
       "      <td>VIDÉO - ZAD, campements illégaux... Ces sites à risques que les autorités surveillent de près</td>\n",
       "    </tr>\n",
       "    <tr>\n",
       "      <th>7770</th>\n",
       "      <td>22 April, Saturday</td>\n",
       "      <td>EN IMAGES - Projet d'autoroute A69 : une manifestation haute en couleurs mais sans heurts</td>\n",
       "    </tr>\n",
       "    <tr>\n",
       "      <th>11458</th>\n",
       "      <td>22 October, Sunday</td>\n",
       "      <td>VIDEO - ZAD contre l'A69 : aussitôt créée, aussitôt évacuée</td>\n",
       "    </tr>\n",
       "    <tr>\n",
       "      <th>11477</th>\n",
       "      <td>16 October, Monday</td>\n",
       "      <td>VIDÉO - Toulouse-Castres : le chantier de l'A69 ira \"jusqu'à son terme\", malgré l'opposition des écologistes</td>\n",
       "    </tr>\n",
       "  </tbody>\n",
       "</table>\n",
       "</div>"
      ],
      "text/plain": [
       "            formatted_date  \\\n",
       "8027   05 April, Wednesday   \n",
       "7770    22 April, Saturday   \n",
       "11458   22 October, Sunday   \n",
       "11477   16 October, Monday   \n",
       "\n",
       "                                                                                                              title  \n",
       "8027                  VIDÉO - ZAD, campements illégaux... Ces sites à risques que les autorités surveillent de près  \n",
       "7770                      EN IMAGES - Projet d'autoroute A69 : une manifestation haute en couleurs mais sans heurts  \n",
       "11458                                                   VIDEO - ZAD contre l'A69 : aussitôt créée, aussitôt évacuée  \n",
       "11477  VIDÉO - Toulouse-Castres : le chantier de l'A69 ira \"jusqu'à son terme\", malgré l'opposition des écologistes  "
      ]
     },
     "execution_count": 42,
     "metadata": {},
     "output_type": "execute_result"
    }
   ],
   "source": [
    "tf1_all[[any([w in (t+\" \"+d).lower() for w in keywords[topic]]) for t,d in zip(tf1_all.title, tf1_all.description)]][['formatted_date', 'title']]"
   ]
  },
  {
   "cell_type": "code",
   "execution_count": 43,
   "id": "9eb89e23-a697-4376-a25d-393d3d15b88a",
   "metadata": {},
   "outputs": [],
   "source": [
    "tf1_topic= {}"
   ]
  },
  {
   "cell_type": "code",
   "execution_count": 44,
   "id": "abf9023b-c5bc-426e-b4ec-f35399717cb5",
   "metadata": {},
   "outputs": [],
   "source": [
    "for topic in keywords.keys():\n",
    "    if len(keywords[topic]) == 0:\n",
    "        continue\n",
    "    tf1_topic[topic] = tf1_all[[any([w in (t+\" \"+d).lower() for w in keywords[topic]]) for t,d in zip(tf1_all.title, tf1_all.description)]][['formatted_date', 'title', 'description', 'url']]"
   ]
  },
  {
   "cell_type": "code",
   "execution_count": 45,
   "id": "5d47c400-c345-43bc-bc8f-1d87a5807856",
   "metadata": {},
   "outputs": [],
   "source": [
    "tf1_topic_counts = pd.Series({t:len(s) for t,s in tf1_topic.items()}).sort_values(ascending=False)"
   ]
  },
  {
   "cell_type": "code",
   "execution_count": 46,
   "id": "d1cd57f8-cc1e-47b2-bc41-192efe4be4e4",
   "metadata": {},
   "outputs": [
    {
     "data": {
      "image/png": "[encoded data removed]",
      "text/plain": [
       "<Figure size 640x480 with 1 Axes>"
      ]
     },
     "metadata": {},
     "output_type": "display_data"
    }
   ],
   "source": [
    "tf1_topic_counts.plot(kind='barh').invert_yaxis()"
   ]
  },
  {
   "cell_type": "code",
   "execution_count": 52,
   "id": "601373fd-66f9-4673-a7ef-c01030bab8e7",
   "metadata": {},
   "outputs": [],
   "source": [
    "france_2_topic = {}"
   ]
  },
  {
   "cell_type": "code",
   "execution_count": 54,
   "id": "d3d6860c-09ee-403e-9b28-fdfe7d707254",
   "metadata": {},
   "outputs": [],
   "source": [
    "for topic in keywords.keys():\n",
    "    if len(keywords[topic]) == 0:\n",
    "        continue\n",
    "    france_2_topic[topic] = france2_all[[any([w in (t+\" \"+d).lower() for w in keywords[topic]]) for t,d in zip(france2_all.title, france2_all.description)]][['formatted_date', 'title', 'description', 'url']]"
   ]
  },
  {
   "cell_type": "code",
   "execution_count": 55,
   "id": "8cf9073d-f721-4e64-a6a5-332b97835e76",
   "metadata": {},
   "outputs": [],
   "source": [
    "france_2_topic_counts = pd.Series({t:len(s) for t,s in france_2_topic.items()}).sort_values(ascending=False)"
   ]
  },
  {
   "cell_type": "code",
   "execution_count": 56,
   "id": "b897da2f-8506-430e-8098-174149a103c1",
   "metadata": {},
   "outputs": [
    {
     "data": {
      "image/png": "[encoded data removed]",
      "text/plain": [
       "<Figure size 1500x500 with 2 Axes>"
      ]
     },
     "metadata": {},
     "output_type": "display_data"
    }
   ],
   "source": [
    "fig, axes = plt.subplots(1,2, figsize=(15, 5))\n",
    "tf1_topic_counts.plot(kind='barh', ax=axes[0], title='tf1', ylabel='').invert_yaxis()\n",
    "france_2_topic_counts.plot(kind='barh', ax=axes[1], title='france2', ylabel='').invert_yaxis()"
   ]
  },
  {
   "cell_type": "markdown",
   "id": "b5cb2849-c317-40af-8d06-18b40848a9f2",
   "metadata": {},
   "source": [
    "# Export"
   ]
  },
  {
   "cell_type": "code",
   "execution_count": 57,
   "id": "988e1ee6-b500-479d-a909-ecf6da5a4b2f",
   "metadata": {},
   "outputs": [],
   "source": [
    "tf1_all.sort_values('date')[['formatted_date', 'title', 'description', 'url']].to_csv('data/a69_tf1_all.csv', index=False)"
   ]
  },
  {
   "cell_type": "code",
   "execution_count": 58,
   "id": "b937ab1a-cfe2-4634-b410-50c8344cf4ad",
   "metadata": {},
   "outputs": [],
   "source": [
    "france2_all.sort_values('date')[['formatted_date', 'title', 'description', 'url']].to_csv('data/a69_france2_all.csv', index=False)"
   ]
  },
  {
   "cell_type": "code",
   "execution_count": 59,
   "id": "eaa26419-1623-4acb-9ec7-42d04fae09c2",
   "metadata": {},
   "outputs": [],
   "source": [
    "pd.concat(tf1_topic).reset_index().rename({'level_0': 'topic'}, axis=1).drop('level_1', axis=1).to_csv('data/a69_tf1_topics.csv', index=False)"
   ]
  },
  {
   "cell_type": "code",
   "execution_count": 60,
   "id": "80647274-d492-4824-b620-c4d042da719f",
   "metadata": {},
   "outputs": [],
   "source": [
    "pd.concat(france_2_topic).reset_index().rename({'level_0': 'topic'}, axis=1).drop('level_1', axis=1).to_csv('data/a69_france2_topics.csv', index=False)"
   ]
  }
 ],
 "metadata": {
  "kernelspec": {
   "display_name": "data-env",
   "language": "python",
   "name": "data-env"
  },
  "language_info": {
   "codemirror_mode": {
    "name": "ipython",
    "version": 3
   },
   "file_extension": ".py",
   "mimetype": "text/x-python",
   "name": "python",
   "nbconvert_exporter": "python",
   "pygments_lexer": "ipython3",
   "version": "3.10.12"
  }
 },
 "nbformat": 4,
 "nbformat_minor": 5
}
