{
 "cells": [
  {
   "cell_type": "code",
   "execution_count": 40,
   "id": "6d7036ec",
   "metadata": {},
   "outputs": [],
   "source": [
    "import pandas as pd\n",
    "import json\n",
    "from glob import glob\n",
    "import seaborn as sns\n",
    "%matplotlib inline"
   ]
  },
  {
   "cell_type": "code",
   "execution_count": 2,
   "id": "3a4a5dac",
   "metadata": {},
   "outputs": [],
   "source": [
    "pd.set_option('display.max_colwidth', 255)"
   ]
  },
  {
   "cell_type": "code",
   "execution_count": 3,
   "id": "148b31b8",
   "metadata": {},
   "outputs": [],
   "source": [
    "subjects = []\n",
    "for media in ['France 3', 'France 2', 'TF1']:\n",
    "    for year in ['2022']:\n",
    "        for month in ['11']:\n",
    "            month_path = f'../data-news-json/media={media}/year={year}/month={month}'\n",
    "            day_files = glob(f'{month_path}/day=*/*.json')\n",
    "            for day_file in day_files:\n",
    "                for line in open(day_file):\n",
    "                    subject = json.loads(line)\n",
    "                    subject['media'] = media.lower().replace(' ', '')\n",
    "                    subjects.append(subject)"
   ]
  },
  {
   "cell_type": "code",
   "execution_count": 18,
   "id": "baad4d87",
   "metadata": {},
   "outputs": [],
   "source": [
    "data = pd.DataFrame(subjects)"
   ]
  },
  {
   "cell_type": "code",
   "execution_count": 19,
   "id": "2d2b6e26",
   "metadata": {},
   "outputs": [],
   "source": [
    "data['date'] = pd.to_datetime(data['date'])"
   ]
  },
  {
   "cell_type": "code",
   "execution_count": 20,
   "id": "17d0eae6",
   "metadata": {},
   "outputs": [
    {
     "data": {
      "text/html": [
       "<div>\n",
       "<style scoped>\n",
       "    .dataframe tbody tr th:only-of-type {\n",
       "        vertical-align: middle;\n",
       "    }\n",
       "\n",
       "    .dataframe tbody tr th {\n",
       "        vertical-align: top;\n",
       "    }\n",
       "\n",
       "    .dataframe thead th {\n",
       "        text-align: right;\n",
       "    }\n",
       "</style>\n",
       "<table border=\"1\" class=\"dataframe\">\n",
       "  <thead>\n",
       "    <tr style=\"text-align: right;\">\n",
       "      <th></th>\n",
       "      <th>title</th>\n",
       "      <th>description</th>\n",
       "      <th>date</th>\n",
       "      <th>order</th>\n",
       "      <th>presenter</th>\n",
       "      <th>authors</th>\n",
       "      <th>editor</th>\n",
       "      <th>editorDeputy</th>\n",
       "      <th>url</th>\n",
       "      <th>urlTvNews</th>\n",
       "      <th>containsWordGlobalWarming</th>\n",
       "      <th>media</th>\n",
       "    </tr>\n",
       "  </thead>\n",
       "  <tbody>\n",
       "    <tr>\n",
       "      <th>0</th>\n",
       "      <td>Santé : la bronchiolite touche aussi les adultes</td>\n",
       "      <td>Contrairement aux idées reçues, la bronchiolite ne concerne pas que les enfants. Explications, mardi 15 novembre, sur le plateau du 12/13 avec le journaliste et médecin Damien Mascret.La bronchiolite, une atteinte respiratoire, avec une inflammation, ...</td>\n",
       "      <td>2022-11-15 00:00:00+00:00</td>\n",
       "      <td>9</td>\n",
       "      <td>Emilie Tran NGuyen</td>\n",
       "      <td>[D.Mascret]</td>\n",
       "      <td></td>\n",
       "      <td>[]</td>\n",
       "      <td>https://www.francetvinfo.fr/sante/maladie/sante-la-bronchiolite-touche-aussi-les-adultes_5478747.html</td>\n",
       "      <td>https://www.francetvinfo.fr/replay-jt/france-3/12-13/jt-de-12-13-du-mardi-15-novembre-2022_5440393.html</td>\n",
       "      <td>False</td>\n",
       "      <td>france3</td>\n",
       "    </tr>\n",
       "    <tr>\n",
       "      <th>1</th>\n",
       "      <td>Crise énergétique : une marque de lingerie met en place la semaine de quatre jours</td>\n",
       "      <td>Pour faire face à l’augmentation des coûts de l’énergie, la marque de lingerie Indiscrète a décidé de passer à la semaine de quatre jours.La marque Indiscrète a fait le choix de basculer sur une semaine à quatre jours afin de répondre aux problématiqu...</td>\n",
       "      <td>2022-11-15 00:00:00+00:00</td>\n",
       "      <td>1</td>\n",
       "      <td>Emilie Tran NGuyen</td>\n",
       "      <td>[France 3 Poitou-Charentes, M. Jacob, S. Heriaud, A.Rouy]</td>\n",
       "      <td></td>\n",
       "      <td>[]</td>\n",
       "      <td>https://www.francetvinfo.fr/economie/energie/energie-la-semaine-de-quatre-jours-mise-en-place-par-la-marque-indiscrete_5478417.html</td>\n",
       "      <td>https://www.francetvinfo.fr/replay-jt/france-3/12-13/jt-de-12-13-du-mardi-15-novembre-2022_5440393.html</td>\n",
       "      <td>False</td>\n",
       "      <td>france3</td>\n",
       "    </tr>\n",
       "    <tr>\n",
       "      <th>2</th>\n",
       "      <td>Sécheresse : les restrictions d’eau prolongées jusqu’à la mi-décembre dans le Var</td>\n",
       "      <td>Les restrictions d’utilisation de l’eau continueront dans 10 communes du pays de Fayence au moins jusqu’à la mi-décembre. Ce rationnement oblige des professionnels, notamment les agriculteurs, à trouver d’autres solutions pour arroser.Il n’y plus le m...</td>\n",
       "      <td>2022-11-15 00:00:00+00:00</td>\n",
       "      <td>4</td>\n",
       "      <td>Carole Gaessler est disponible en direct et en replay ici. Le 19/20 Edition nationale suit l'édition de votre région, et propose après la présentation des titres, les reportages, les interviews et les témoignages en vidéos qui font le point sur toute ...</td>\n",
       "      <td>[C. Guyon, M. Meuneveaux, A. Dequidt, E. Jarlot]</td>\n",
       "      <td></td>\n",
       "      <td>[]</td>\n",
       "      <td>https://www.francetvinfo.fr/meteo/secheresse/secheresse-les-restrictions-d-eau-prolongees-jusqu-a-la-mi-decembre-dans-le-var_5479146.html</td>\n",
       "      <td>https://www.francetvinfo.fr/replay-jt/france-3/19-20/jt-de-19-20-du-mardi-15-novembre-2022_5440339.html</td>\n",
       "      <td>False</td>\n",
       "      <td>france3</td>\n",
       "    </tr>\n",
       "    <tr>\n",
       "      <th>3</th>\n",
       "      <td>Marseille : un restaurant ouvre ses portes dans la prison des Baumettes</td>\n",
       "      <td>Pour la première fois, un restaurant s'installe dans une prison. Les \"Beaux Mets\" a ouvert au public mardi 15 novembre, dans le centre pénitentiaire des Baumettes à Marseille. L'expérience doit permettre de préparer les détenus à leur sortie.À Marseil...</td>\n",
       "      <td>2022-11-15 00:00:00+00:00</td>\n",
       "      <td>6</td>\n",
       "      <td>Emilie Tran NGuyen</td>\n",
       "      <td>[E. Bonnasse, France 3 Provence-Alpes, M. Semerjian]</td>\n",
       "      <td></td>\n",
       "      <td>[]</td>\n",
       "      <td>https://www.francetvinfo.fr/societe/prisons/marseille-un-restaurant-ouvre-ses-portes-dans-la-prison-des-baumettes_5478735.html</td>\n",
       "      <td>https://www.francetvinfo.fr/replay-jt/france-3/12-13/jt-de-12-13-du-mardi-15-novembre-2022_5440393.html</td>\n",
       "      <td>False</td>\n",
       "      <td>france3</td>\n",
       "    </tr>\n",
       "    <tr>\n",
       "      <th>4</th>\n",
       "      <td>Emploi : Heineken va quitter le site de Schiltigheim</td>\n",
       "      <td>Mardi 15 novembre, la société spécialisée dans la bière Heineken a annoncé qu’elle allait quitter le site de Schiltigheim. 220 emplois sont menacés.Une bien mauvaise nouvelle est tombée mardi 15 novembre pour les 220 employés du site de Schiltigheim (...</td>\n",
       "      <td>2022-11-15 00:00:00+00:00</td>\n",
       "      <td>2</td>\n",
       "      <td>Emilie Tran NGuyen</td>\n",
       "      <td>[France 3 Alsace, M. Demazure, D. Meneu, M. Kelhetter, M. Ruch]</td>\n",
       "      <td></td>\n",
       "      <td>[]</td>\n",
       "      <td>https://www.francetvinfo.fr/economie/emploi/emploi-heineken-va-quitter-le-site-de-schiltigheim_5478420.html</td>\n",
       "      <td>https://www.francetvinfo.fr/replay-jt/france-3/12-13/jt-de-12-13-du-mardi-15-novembre-2022_5440393.html</td>\n",
       "      <td>False</td>\n",
       "      <td>france3</td>\n",
       "    </tr>\n",
       "  </tbody>\n",
       "</table>\n",
       "</div>"
      ],
      "text/plain": [
       "                                                                                title  \\\n",
       "0                                    Santé : la bronchiolite touche aussi les adultes   \n",
       "1  Crise énergétique : une marque de lingerie met en place la semaine de quatre jours   \n",
       "2   Sécheresse : les restrictions d’eau prolongées jusqu’à la mi-décembre dans le Var   \n",
       "3             Marseille : un restaurant ouvre ses portes dans la prison des Baumettes   \n",
       "4                                Emploi : Heineken va quitter le site de Schiltigheim   \n",
       "\n",
       "                                                                                                                                                                                                                                                      description  \\\n",
       "0  Contrairement aux idées reçues, la bronchiolite ne concerne pas que les enfants. Explications, mardi 15 novembre, sur le plateau du 12/13 avec le journaliste et médecin Damien Mascret.La bronchiolite, une atteinte respiratoire, avec une inflammation, ...   \n",
       "1  Pour faire face à l’augmentation des coûts de l’énergie, la marque de lingerie Indiscrète a décidé de passer à la semaine de quatre jours.La marque Indiscrète a fait le choix de basculer sur une semaine à quatre jours afin de répondre aux problématiqu...   \n",
       "2  Les restrictions d’utilisation de l’eau continueront dans 10 communes du pays de Fayence au moins jusqu’à la mi-décembre. Ce rationnement oblige des professionnels, notamment les agriculteurs, à trouver d’autres solutions pour arroser.Il n’y plus le m...   \n",
       "3  Pour la première fois, un restaurant s'installe dans une prison. Les \"Beaux Mets\" a ouvert au public mardi 15 novembre, dans le centre pénitentiaire des Baumettes à Marseille. L'expérience doit permettre de préparer les détenus à leur sortie.À Marseil...   \n",
       "4  Mardi 15 novembre, la société spécialisée dans la bière Heineken a annoncé qu’elle allait quitter le site de Schiltigheim. 220 emplois sont menacés.Une bien mauvaise nouvelle est tombée mardi 15 novembre pour les 220 employés du site de Schiltigheim (...   \n",
       "\n",
       "                       date  order  \\\n",
       "0 2022-11-15 00:00:00+00:00      9   \n",
       "1 2022-11-15 00:00:00+00:00      1   \n",
       "2 2022-11-15 00:00:00+00:00      4   \n",
       "3 2022-11-15 00:00:00+00:00      6   \n",
       "4 2022-11-15 00:00:00+00:00      2   \n",
       "\n",
       "                                                                                                                                                                                                                                                        presenter  \\\n",
       "0                                                                                                                                                                                                                                              Emilie Tran NGuyen   \n",
       "1                                                                                                                                                                                                                                              Emilie Tran NGuyen   \n",
       "2  Carole Gaessler est disponible en direct et en replay ici. Le 19/20 Edition nationale suit l'édition de votre région, et propose après la présentation des titres, les reportages, les interviews et les témoignages en vidéos qui font le point sur toute ...   \n",
       "3                                                                                                                                                                                                                                              Emilie Tran NGuyen   \n",
       "4                                                                                                                                                                                                                                              Emilie Tran NGuyen   \n",
       "\n",
       "                                                           authors editor  \\\n",
       "0                                                      [D.Mascret]          \n",
       "1        [France 3 Poitou-Charentes, M. Jacob, S. Heriaud, A.Rouy]          \n",
       "2                 [C. Guyon, M. Meuneveaux, A. Dequidt, E. Jarlot]          \n",
       "3             [E. Bonnasse, France 3 Provence-Alpes, M. Semerjian]          \n",
       "4  [France 3 Alsace, M. Demazure, D. Meneu, M. Kelhetter, M. Ruch]          \n",
       "\n",
       "  editorDeputy  \\\n",
       "0           []   \n",
       "1           []   \n",
       "2           []   \n",
       "3           []   \n",
       "4           []   \n",
       "\n",
       "                                                                                                                                         url  \\\n",
       "0                                      https://www.francetvinfo.fr/sante/maladie/sante-la-bronchiolite-touche-aussi-les-adultes_5478747.html   \n",
       "1        https://www.francetvinfo.fr/economie/energie/energie-la-semaine-de-quatre-jours-mise-en-place-par-la-marque-indiscrete_5478417.html   \n",
       "2  https://www.francetvinfo.fr/meteo/secheresse/secheresse-les-restrictions-d-eau-prolongees-jusqu-a-la-mi-decembre-dans-le-var_5479146.html   \n",
       "3             https://www.francetvinfo.fr/societe/prisons/marseille-un-restaurant-ouvre-ses-portes-dans-la-prison-des-baumettes_5478735.html   \n",
       "4                                https://www.francetvinfo.fr/economie/emploi/emploi-heineken-va-quitter-le-site-de-schiltigheim_5478420.html   \n",
       "\n",
       "                                                                                                 urlTvNews  \\\n",
       "0  https://www.francetvinfo.fr/replay-jt/france-3/12-13/jt-de-12-13-du-mardi-15-novembre-2022_5440393.html   \n",
       "1  https://www.francetvinfo.fr/replay-jt/france-3/12-13/jt-de-12-13-du-mardi-15-novembre-2022_5440393.html   \n",
       "2  https://www.francetvinfo.fr/replay-jt/france-3/19-20/jt-de-19-20-du-mardi-15-novembre-2022_5440339.html   \n",
       "3  https://www.francetvinfo.fr/replay-jt/france-3/12-13/jt-de-12-13-du-mardi-15-novembre-2022_5440393.html   \n",
       "4  https://www.francetvinfo.fr/replay-jt/france-3/12-13/jt-de-12-13-du-mardi-15-novembre-2022_5440393.html   \n",
       "\n",
       "   containsWordGlobalWarming    media  \n",
       "0                      False  france3  \n",
       "1                      False  france3  \n",
       "2                      False  france3  \n",
       "3                      False  france3  \n",
       "4                      False  france3  "
      ]
     },
     "execution_count": 20,
     "metadata": {},
     "output_type": "execute_result"
    }
   ],
   "source": [
    "data.head()"
   ]
  },
  {
   "cell_type": "code",
   "execution_count": 29,
   "id": "a4ef77ab",
   "metadata": {},
   "outputs": [],
   "source": [
    "cop27 = data[(data['date'] >= '2022-11-06') & (data['date'] < '2022-11-21')].copy()"
   ]
  },
  {
   "cell_type": "code",
   "execution_count": 30,
   "id": "f203deb3",
   "metadata": {},
   "outputs": [],
   "source": [
    "cop27['cop27'] = [('cop' in t.lower() and '27' in t) \n",
    "                  or ('cop' in d.lower() and '27' in d) for t,d in zip(cop27.title, cop27.description)]"
   ]
  },
  {
   "cell_type": "code",
   "execution_count": 34,
   "id": "9dc2da86",
   "metadata": {},
   "outputs": [
    {
     "name": "stderr",
     "output_type": "stream",
     "text": [
      "/home/david/projects/data-env/lib/python3.10/site-packages/pandas/core/computation/expressions.py:204: UserWarning: evaluating in Python space because the '+' operator is not supported by numexpr for the bool dtype, use '|' instead\n",
      "  warnings.warn(\n"
     ]
    }
   ],
   "source": [
    "cop27['climat'] = cop27['cop27'] + cop27['containsWordGlobalWarming']"
   ]
  },
  {
   "cell_type": "code",
   "execution_count": 36,
   "id": "17cbb160",
   "metadata": {},
   "outputs": [
    {
     "data": {
      "text/plain": [
       "media    climat\n",
       "france2  False     328\n",
       "         True       21\n",
       "france3  False     245\n",
       "         True       16\n",
       "tf1      False     314\n",
       "         True        8\n",
       "Name: climat, dtype: int64"
      ]
     },
     "execution_count": 36,
     "metadata": {},
     "output_type": "execute_result"
    }
   ],
   "source": [
    "cop27.groupby('media').climat.value_counts()"
   ]
  },
  {
   "cell_type": "code",
   "execution_count": 77,
   "id": "9cac03af",
   "metadata": {
    "scrolled": true
   },
   "outputs": [
    {
     "data": {
      "text/html": [
       "<div>\n",
       "<style scoped>\n",
       "    .dataframe tbody tr th:only-of-type {\n",
       "        vertical-align: middle;\n",
       "    }\n",
       "\n",
       "    .dataframe tbody tr th {\n",
       "        vertical-align: top;\n",
       "    }\n",
       "\n",
       "    .dataframe thead th {\n",
       "        text-align: right;\n",
       "    }\n",
       "</style>\n",
       "<table border=\"1\" class=\"dataframe\">\n",
       "  <thead>\n",
       "    <tr style=\"text-align: right;\">\n",
       "      <th></th>\n",
       "      <th>media</th>\n",
       "      <th>date</th>\n",
       "      <th>title</th>\n",
       "    </tr>\n",
       "  </thead>\n",
       "  <tbody>\n",
       "    <tr>\n",
       "      <th>1662</th>\n",
       "      <td>tf1</td>\n",
       "      <td>2022-11-06 20:35:00+00:00</td>\n",
       "      <td>Sauver le corail rouge de Méditerranée</td>\n",
       "    </tr>\n",
       "    <tr>\n",
       "      <th>1660</th>\n",
       "      <td>tf1</td>\n",
       "      <td>2022-11-06 23:12:00+00:00</td>\n",
       "      <td>COP27 : la France est-elle une bonne élève en matière d'émission de carbone ? Les explications de François Lenglet</td>\n",
       "    </tr>\n",
       "    <tr>\n",
       "      <th>1773</th>\n",
       "      <td>tf1</td>\n",
       "      <td>2022-11-07 12:30:00+00:00</td>\n",
       "      <td>COP 27 en Égypte : que peut-on en attendre ?</td>\n",
       "    </tr>\n",
       "    <tr>\n",
       "      <th>1768</th>\n",
       "      <td>tf1</td>\n",
       "      <td>2022-11-07 16:46:00+00:00</td>\n",
       "      <td>États-Unis : trop gourmandes en eau, les pelouses bientôt interdites ?</td>\n",
       "    </tr>\n",
       "    <tr>\n",
       "      <th>1738</th>\n",
       "      <td>tf1</td>\n",
       "      <td>2022-11-09 11:41:00+00:00</td>\n",
       "      <td>Les astuces pour lutter au quotidien contre le gaspillage</td>\n",
       "    </tr>\n",
       "    <tr>\n",
       "      <th>1748</th>\n",
       "      <td>tf1</td>\n",
       "      <td>2022-11-09 16:10:00+00:00</td>\n",
       "      <td>VIDÉO - Réchauffement climatique : comment l'industrie s'efforce de moins polluer</td>\n",
       "    </tr>\n",
       "    <tr>\n",
       "      <th>1448</th>\n",
       "      <td>tf1</td>\n",
       "      <td>2022-11-17 17:21:00+00:00</td>\n",
       "      <td>Réchauffement climatique : dans le Haut-Rhin, on prépare la forêt de demain</td>\n",
       "    </tr>\n",
       "    <tr>\n",
       "      <th>1758</th>\n",
       "      <td>tf1</td>\n",
       "      <td>2022-11-20 17:44:00+00:00</td>\n",
       "      <td>VIDÉO : à la découverte des chemins de l'Arabie</td>\n",
       "    </tr>\n",
       "  </tbody>\n",
       "</table>\n",
       "</div>"
      ],
      "text/plain": [
       "     media                      date  \\\n",
       "1662   tf1 2022-11-06 20:35:00+00:00   \n",
       "1660   tf1 2022-11-06 23:12:00+00:00   \n",
       "1773   tf1 2022-11-07 12:30:00+00:00   \n",
       "1768   tf1 2022-11-07 16:46:00+00:00   \n",
       "1738   tf1 2022-11-09 11:41:00+00:00   \n",
       "1748   tf1 2022-11-09 16:10:00+00:00   \n",
       "1448   tf1 2022-11-17 17:21:00+00:00   \n",
       "1758   tf1 2022-11-20 17:44:00+00:00   \n",
       "\n",
       "                                                                                                                   title  \n",
       "1662                                                                              Sauver le corail rouge de Méditerranée  \n",
       "1660  COP27 : la France est-elle une bonne élève en matière d'émission de carbone ? Les explications de François Lenglet  \n",
       "1773                                                                        COP 27 en Égypte : que peut-on en attendre ?  \n",
       "1768                                              États-Unis : trop gourmandes en eau, les pelouses bientôt interdites ?  \n",
       "1738                                                           Les astuces pour lutter au quotidien contre le gaspillage  \n",
       "1748                                   VIDÉO - Réchauffement climatique : comment l'industrie s'efforce de moins polluer  \n",
       "1448                                         Réchauffement climatique : dans le Haut-Rhin, on prépare la forêt de demain  \n",
       "1758                                                                     VIDÉO : à la découverte des chemins de l'Arabie  "
      ]
     },
     "execution_count": 77,
     "metadata": {},
     "output_type": "execute_result"
    }
   ],
   "source": [
    "cop27[cop27.climat & (cop27.media == 'tf1')][['media', 'date', 'title']].sort_values(['media', 'date'])"
   ]
  },
  {
   "cell_type": "code",
   "execution_count": 75,
   "id": "db66c5ef",
   "metadata": {},
   "outputs": [],
   "source": [
    "cop27['day'] = [x.strftime('%Y-%m-%d') for x in cop27.date]"
   ]
  },
  {
   "cell_type": "code",
   "execution_count": 76,
   "id": "505a58c9",
   "metadata": {},
   "outputs": [],
   "source": [
    "cop27[cop27.climat][['media', 'day', 'title']].sort_values(['media', 'day']).to_excel('data/cop27.xlsx')"
   ]
  },
  {
   "cell_type": "code",
   "execution_count": 59,
   "id": "8b76c40c",
   "metadata": {},
   "outputs": [
    {
     "data": {
      "text/plain": [
       "Text(0.5, 1.0, 'Part des sujets climat et COP27')"
      ]
     },
     "execution_count": 59,
     "metadata": {},
     "output_type": "execute_result"
    },
    {
     "data": {
      "image/png": "[encoded data removed]",
      "text/plain": [
       "<Figure size 640x480 with 1 Axes>"
      ]
     },
     "metadata": {},
     "output_type": "display_data"
    }
   ],
   "source": [
    "ax = sns.barplot(x='media', y='climat', \n",
    "                 data=(cop27.groupby('media').climat.mean() * 100).reset_index())\n",
    "ax.bar_label(ax.containers[0], fmt=\"%.1f%%\")\n",
    "ax.set_title('Part des sujets climat et COP27')\n"
   ]
  },
  {
   "cell_type": "code",
   "execution_count": 82,
   "id": "9c9c75a3",
   "metadata": {},
   "outputs": [
    {
     "data": {
      "text/plain": [
       "<AxesSubplot:xlabel='date'>"
      ]
     },
     "execution_count": 82,
     "metadata": {},
     "output_type": "execute_result"
    },
    {
     "data": {
      "image/png": "[encoded data removed]",
      "text/plain": [
       "<Figure size 640x480 with 1 Axes>"
      ]
     },
     "metadata": {},
     "output_type": "display_data"
    }
   ],
   "source": [
    "cop27[cop27['media'] == 'france3'].set_index('date').groupby(pd.Grouper(freq='1D')).climat.sum().plot()"
   ]
  }
 ],
 "metadata": {
  "kernelspec": {
   "display_name": "data-env",
   "language": "python",
   "name": "data-env"
  },
  "language_info": {
   "codemirror_mode": {
    "name": "ipython",
    "version": 3
   },
   "file_extension": ".py",
   "mimetype": "text/x-python",
   "name": "python",
   "nbconvert_exporter": "python",
   "pygments_lexer": "ipython3",
   "version": "3.10.8"
  },
  "toc": {
   "base_numbering": 1,
   "nav_menu": {},
   "number_sections": true,
   "sideBar": true,
   "skip_h1_title": false,
   "title_cell": "Table of Contents",
   "title_sidebar": "Contents",
   "toc_cell": false,
   "toc_position": {},
   "toc_section_display": true,
   "toc_window_display": false
  }
 },
 "nbformat": 4,
 "nbformat_minor": 5
}
