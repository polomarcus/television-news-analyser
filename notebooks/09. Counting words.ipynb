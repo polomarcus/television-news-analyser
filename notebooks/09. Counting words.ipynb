{
 "cells": [
  {
   "cell_type": "code",
   "execution_count": 83,
   "id": "3fe1d094",
   "metadata": {},
   "outputs": [],
   "source": [
    "import pandas as pd\n",
    "import psycopg2\n",
    "import json\n",
    "import datetime\n",
    "from make_utils.db_utils import init_db\n",
    "%matplotlib inline"
   ]
  },
  {
   "cell_type": "code",
   "execution_count": 84,
   "id": "cb30fb20",
   "metadata": {},
   "outputs": [],
   "source": [
    "pd.set_option(\"display.max_colwidth\", 500)"
   ]
  },
  {
   "cell_type": "code",
   "execution_count": 85,
   "id": "0c7bcca2",
   "metadata": {},
   "outputs": [],
   "source": [
    "# ssh -L 2222:localhost:5432 davidmas@lexicometer.maglo.org -N &"
   ]
  },
  {
   "cell_type": "code",
   "execution_count": 89,
   "id": "822c4600",
   "metadata": {},
   "outputs": [],
   "source": [
    "db_lexico = init_db('data/db_lexico.json')"
   ]
  },
  {
   "cell_type": "code",
   "execution_count": 90,
   "id": "e57471cd",
   "metadata": {},
   "outputs": [],
   "source": [
    "channels = pd.read_sql('select * from core_channel', db_lexico)"
   ]
  },
  {
   "cell_type": "code",
   "execution_count": 6,
   "id": "be4c799b",
   "metadata": {},
   "outputs": [
    {
     "data": {
      "text/html": [
       "<div>\n",
       "<style scoped>\n",
       "    .dataframe tbody tr th:only-of-type {\n",
       "        vertical-align: middle;\n",
       "    }\n",
       "\n",
       "    .dataframe tbody tr th {\n",
       "        vertical-align: top;\n",
       "    }\n",
       "\n",
       "    .dataframe thead th {\n",
       "        text-align: right;\n",
       "    }\n",
       "</style>\n",
       "<table border=\"1\" class=\"dataframe\">\n",
       "  <thead>\n",
       "    <tr style=\"text-align: right;\">\n",
       "      <th></th>\n",
       "      <th>id</th>\n",
       "      <th>name</th>\n",
       "      <th>publicName</th>\n",
       "      <th>programId</th>\n",
       "    </tr>\n",
       "  </thead>\n",
       "  <tbody>\n",
       "    <tr>\n",
       "      <th>0</th>\n",
       "      <td>1</td>\n",
       "      <td>cnews</td>\n",
       "      <td>CNEWS</td>\n",
       "      <td>516</td>\n",
       "    </tr>\n",
       "    <tr>\n",
       "      <th>1</th>\n",
       "      <td>2</td>\n",
       "      <td>bfmtv</td>\n",
       "      <td>BFMTV</td>\n",
       "      <td>515</td>\n",
       "    </tr>\n",
       "    <tr>\n",
       "      <th>2</th>\n",
       "      <td>3</td>\n",
       "      <td>franceinfo</td>\n",
       "      <td>franceinfo</td>\n",
       "      <td>262</td>\n",
       "    </tr>\n",
       "    <tr>\n",
       "      <th>3</th>\n",
       "      <td>4</td>\n",
       "      <td>lci</td>\n",
       "      <td>LCI</td>\n",
       "      <td>776</td>\n",
       "    </tr>\n",
       "    <tr>\n",
       "      <th>4</th>\n",
       "      <td>5</td>\n",
       "      <td>france2</td>\n",
       "      <td>France 2</td>\n",
       "      <td>257</td>\n",
       "    </tr>\n",
       "    <tr>\n",
       "      <th>5</th>\n",
       "      <td>6</td>\n",
       "      <td>france3parisidf</td>\n",
       "      <td>France 3 Paris Ile-de-France</td>\n",
       "      <td>273</td>\n",
       "    </tr>\n",
       "    <tr>\n",
       "      <th>6</th>\n",
       "      <td>7</td>\n",
       "      <td>c8</td>\n",
       "      <td>C8</td>\n",
       "      <td>513</td>\n",
       "    </tr>\n",
       "    <tr>\n",
       "      <th>7</th>\n",
       "      <td>8</td>\n",
       "      <td>tf1</td>\n",
       "      <td>TF1</td>\n",
       "      <td>1537</td>\n",
       "    </tr>\n",
       "    <tr>\n",
       "      <th>8</th>\n",
       "      <td>9</td>\n",
       "      <td>lcp</td>\n",
       "      <td>LCP</td>\n",
       "      <td>1545</td>\n",
       "    </tr>\n",
       "    <tr>\n",
       "      <th>9</th>\n",
       "      <td>10</td>\n",
       "      <td>france4</td>\n",
       "      <td>France 4</td>\n",
       "      <td>260</td>\n",
       "    </tr>\n",
       "  </tbody>\n",
       "</table>\n",
       "</div>"
      ],
      "text/plain": [
       "   id             name                    publicName  programId\n",
       "0   1            cnews                         CNEWS        516\n",
       "1   2            bfmtv                         BFMTV        515\n",
       "2   3       franceinfo                    franceinfo        262\n",
       "3   4              lci                           LCI        776\n",
       "4   5          france2                      France 2        257\n",
       "5   6  france3parisidf  France 3 Paris Ile-de-France        273\n",
       "6   7               c8                            C8        513\n",
       "7   8              tf1                           TF1       1537\n",
       "8   9              lcp                           LCP       1545\n",
       "9  10          france4                      France 4        260"
      ]
     },
     "execution_count": 6,
     "metadata": {},
     "output_type": "execute_result"
    }
   ],
   "source": [
    "channels"
   ]
  },
  {
   "cell_type": "code",
   "execution_count": 7,
   "id": "afaba201",
   "metadata": {},
   "outputs": [
    {
     "name": "stdout",
     "output_type": "stream",
     "text": [
      "CPU times: user 9.2 ms, sys: 7.29 ms, total: 16.5 ms\n",
      "Wall time: 39 s\n"
     ]
    }
   ],
   "source": [
    "%%time\n",
    "data = pd.read_sql(f'''select channel_id, lemma, count(*) from core_word \n",
    "                       where lemma='écologie' \n",
    "                       and \"dateTime\" >= '2022-04-01 00:00:00' \n",
    "                       and \"dateTime\" <= '2022-05-24 00:00:00'\n",
    "                       group by channel_id, lemma\n",
    "                       ''', db_lexico)"
   ]
  },
  {
   "cell_type": "code",
   "execution_count": 8,
   "id": "815b76d1",
   "metadata": {},
   "outputs": [],
   "source": [
    "data_channel = data.merge(channels, left_on='channel_id', right_on='id')"
   ]
  },
  {
   "cell_type": "code",
   "execution_count": 9,
   "id": "426db216",
   "metadata": {},
   "outputs": [
    {
     "data": {
      "text/html": [
       "<div>\n",
       "<style scoped>\n",
       "    .dataframe tbody tr th:only-of-type {\n",
       "        vertical-align: middle;\n",
       "    }\n",
       "\n",
       "    .dataframe tbody tr th {\n",
       "        vertical-align: top;\n",
       "    }\n",
       "\n",
       "    .dataframe thead th {\n",
       "        text-align: right;\n",
       "    }\n",
       "</style>\n",
       "<table border=\"1\" class=\"dataframe\">\n",
       "  <thead>\n",
       "    <tr style=\"text-align: right;\">\n",
       "      <th></th>\n",
       "      <th>channel_id</th>\n",
       "      <th>lemma</th>\n",
       "      <th>count</th>\n",
       "      <th>id</th>\n",
       "      <th>name</th>\n",
       "      <th>publicName</th>\n",
       "      <th>programId</th>\n",
       "    </tr>\n",
       "  </thead>\n",
       "  <tbody>\n",
       "    <tr>\n",
       "      <th>0</th>\n",
       "      <td>1</td>\n",
       "      <td>écologie</td>\n",
       "      <td>1166</td>\n",
       "      <td>1</td>\n",
       "      <td>cnews</td>\n",
       "      <td>CNEWS</td>\n",
       "      <td>516</td>\n",
       "    </tr>\n",
       "    <tr>\n",
       "      <th>1</th>\n",
       "      <td>2</td>\n",
       "      <td>écologie</td>\n",
       "      <td>826</td>\n",
       "      <td>2</td>\n",
       "      <td>bfmtv</td>\n",
       "      <td>BFMTV</td>\n",
       "      <td>515</td>\n",
       "    </tr>\n",
       "    <tr>\n",
       "      <th>2</th>\n",
       "      <td>3</td>\n",
       "      <td>écologie</td>\n",
       "      <td>2001</td>\n",
       "      <td>3</td>\n",
       "      <td>franceinfo</td>\n",
       "      <td>franceinfo</td>\n",
       "      <td>262</td>\n",
       "    </tr>\n",
       "    <tr>\n",
       "      <th>3</th>\n",
       "      <td>4</td>\n",
       "      <td>écologie</td>\n",
       "      <td>618</td>\n",
       "      <td>4</td>\n",
       "      <td>lci</td>\n",
       "      <td>LCI</td>\n",
       "      <td>776</td>\n",
       "    </tr>\n",
       "    <tr>\n",
       "      <th>4</th>\n",
       "      <td>5</td>\n",
       "      <td>écologie</td>\n",
       "      <td>383</td>\n",
       "      <td>5</td>\n",
       "      <td>france2</td>\n",
       "      <td>France 2</td>\n",
       "      <td>257</td>\n",
       "    </tr>\n",
       "    <tr>\n",
       "      <th>5</th>\n",
       "      <td>6</td>\n",
       "      <td>écologie</td>\n",
       "      <td>237</td>\n",
       "      <td>6</td>\n",
       "      <td>france3parisidf</td>\n",
       "      <td>France 3 Paris Ile-de-France</td>\n",
       "      <td>273</td>\n",
       "    </tr>\n",
       "    <tr>\n",
       "      <th>6</th>\n",
       "      <td>7</td>\n",
       "      <td>écologie</td>\n",
       "      <td>66</td>\n",
       "      <td>7</td>\n",
       "      <td>c8</td>\n",
       "      <td>C8</td>\n",
       "      <td>513</td>\n",
       "    </tr>\n",
       "    <tr>\n",
       "      <th>7</th>\n",
       "      <td>8</td>\n",
       "      <td>écologie</td>\n",
       "      <td>114</td>\n",
       "      <td>8</td>\n",
       "      <td>tf1</td>\n",
       "      <td>TF1</td>\n",
       "      <td>1537</td>\n",
       "    </tr>\n",
       "    <tr>\n",
       "      <th>8</th>\n",
       "      <td>9</td>\n",
       "      <td>écologie</td>\n",
       "      <td>1689</td>\n",
       "      <td>9</td>\n",
       "      <td>lcp</td>\n",
       "      <td>LCP</td>\n",
       "      <td>1545</td>\n",
       "    </tr>\n",
       "    <tr>\n",
       "      <th>9</th>\n",
       "      <td>10</td>\n",
       "      <td>écologie</td>\n",
       "      <td>60</td>\n",
       "      <td>10</td>\n",
       "      <td>france4</td>\n",
       "      <td>France 4</td>\n",
       "      <td>260</td>\n",
       "    </tr>\n",
       "  </tbody>\n",
       "</table>\n",
       "</div>"
      ],
      "text/plain": [
       "   channel_id     lemma  count  id             name  \\\n",
       "0           1  écologie   1166   1            cnews   \n",
       "1           2  écologie    826   2            bfmtv   \n",
       "2           3  écologie   2001   3       franceinfo   \n",
       "3           4  écologie    618   4              lci   \n",
       "4           5  écologie    383   5          france2   \n",
       "5           6  écologie    237   6  france3parisidf   \n",
       "6           7  écologie     66   7               c8   \n",
       "7           8  écologie    114   8              tf1   \n",
       "8           9  écologie   1689   9              lcp   \n",
       "9          10  écologie     60  10          france4   \n",
       "\n",
       "                     publicName  programId  \n",
       "0                         CNEWS        516  \n",
       "1                         BFMTV        515  \n",
       "2                    franceinfo        262  \n",
       "3                           LCI        776  \n",
       "4                      France 2        257  \n",
       "5  France 3 Paris Ile-de-France        273  \n",
       "6                            C8        513  \n",
       "7                           TF1       1537  \n",
       "8                           LCP       1545  \n",
       "9                      France 4        260  "
      ]
     },
     "execution_count": 9,
     "metadata": {},
     "output_type": "execute_result"
    }
   ],
   "source": [
    "data_channel"
   ]
  },
  {
   "cell_type": "markdown",
   "id": "45e6b3ad",
   "metadata": {},
   "source": [
    "# effet marc Hay on BFM"
   ]
  },
  {
   "cell_type": "code",
   "execution_count": 11,
   "id": "952d4c0a",
   "metadata": {},
   "outputs": [],
   "source": [
    "data = pd.read_sql(f'''select * from core_word \n",
    "                       where lemma='climatique' and channel_id=2 \n",
    "                       ''', db_lexico)"
   ]
  },
  {
   "cell_type": "code",
   "execution_count": 12,
   "id": "11aec8b3",
   "metadata": {},
   "outputs": [
    {
     "data": {
      "text/plain": [
       "2382"
      ]
     },
     "execution_count": 12,
     "metadata": {},
     "output_type": "execute_result"
    }
   ],
   "source": [
    "len(data)"
   ]
  },
  {
   "cell_type": "code",
   "execution_count": 13,
   "id": "cd6d11e0",
   "metadata": {},
   "outputs": [
    {
     "data": {
      "text/html": [
       "<div>\n",
       "<style scoped>\n",
       "    .dataframe tbody tr th:only-of-type {\n",
       "        vertical-align: middle;\n",
       "    }\n",
       "\n",
       "    .dataframe tbody tr th {\n",
       "        vertical-align: top;\n",
       "    }\n",
       "\n",
       "    .dataframe thead th {\n",
       "        text-align: right;\n",
       "    }\n",
       "</style>\n",
       "<table border=\"1\" class=\"dataframe\">\n",
       "  <thead>\n",
       "    <tr style=\"text-align: right;\">\n",
       "      <th></th>\n",
       "      <th>id</th>\n",
       "      <th>dateTime</th>\n",
       "      <th>word</th>\n",
       "      <th>lemma</th>\n",
       "      <th>channel_id</th>\n",
       "    </tr>\n",
       "  </thead>\n",
       "  <tbody>\n",
       "    <tr>\n",
       "      <th>0</th>\n",
       "      <td>163017216</td>\n",
       "      <td>2022-03-15 12:53:53.609870+00:00</td>\n",
       "      <td>climatique</td>\n",
       "      <td>climatique</td>\n",
       "      <td>2</td>\n",
       "    </tr>\n",
       "    <tr>\n",
       "      <th>1</th>\n",
       "      <td>163055901</td>\n",
       "      <td>2022-03-15 13:49:12.201623+00:00</td>\n",
       "      <td>climatique</td>\n",
       "      <td>climatique</td>\n",
       "      <td>2</td>\n",
       "    </tr>\n",
       "    <tr>\n",
       "      <th>2</th>\n",
       "      <td>163056860</td>\n",
       "      <td>2022-03-15 13:50:38.491382+00:00</td>\n",
       "      <td>climatique</td>\n",
       "      <td>climatique</td>\n",
       "      <td>2</td>\n",
       "    </tr>\n",
       "    <tr>\n",
       "      <th>3</th>\n",
       "      <td>163099285</td>\n",
       "      <td>2022-03-15 14:51:03.235437+00:00</td>\n",
       "      <td>climatique</td>\n",
       "      <td>climatique</td>\n",
       "      <td>2</td>\n",
       "    </tr>\n",
       "    <tr>\n",
       "      <th>4</th>\n",
       "      <td>163100202</td>\n",
       "      <td>2022-03-15 14:52:29.727479+00:00</td>\n",
       "      <td>climatique</td>\n",
       "      <td>climatique</td>\n",
       "      <td>2</td>\n",
       "    </tr>\n",
       "  </tbody>\n",
       "</table>\n",
       "</div>"
      ],
      "text/plain": [
       "          id                         dateTime        word       lemma  \\\n",
       "0  163017216 2022-03-15 12:53:53.609870+00:00  climatique  climatique   \n",
       "1  163055901 2022-03-15 13:49:12.201623+00:00  climatique  climatique   \n",
       "2  163056860 2022-03-15 13:50:38.491382+00:00  climatique  climatique   \n",
       "3  163099285 2022-03-15 14:51:03.235437+00:00  climatique  climatique   \n",
       "4  163100202 2022-03-15 14:52:29.727479+00:00  climatique  climatique   \n",
       "\n",
       "   channel_id  \n",
       "0           2  \n",
       "1           2  \n",
       "2           2  \n",
       "3           2  \n",
       "4           2  "
      ]
     },
     "execution_count": 13,
     "metadata": {},
     "output_type": "execute_result"
    }
   ],
   "source": [
    "data.head()"
   ]
  },
  {
   "cell_type": "code",
   "execution_count": 73,
   "id": "07e15352",
   "metadata": {},
   "outputs": [
    {
     "data": {
      "text/plain": [
       "'fr_FR.UTF8'"
      ]
     },
     "execution_count": 73,
     "metadata": {},
     "output_type": "execute_result"
    }
   ],
   "source": [
    "import locale\n",
    "locale.setlocale(locale.LC_ALL, 'fr_FR.UTF8')"
   ]
  },
  {
   "cell_type": "code",
   "execution_count": 74,
   "id": "90ff9345",
   "metadata": {},
   "outputs": [
    {
     "data": {
      "text/plain": [
       "<AxesSubplot:xlabel='dateTime'>"
      ]
     },
     "execution_count": 74,
     "metadata": {},
     "output_type": "execute_result"
    },
    {
     "data": {
      "image/png": "[encoded data removed]",
      "text/plain": [
       "<Figure size 432x288 with 1 Axes>"
      ]
     },
     "metadata": {
      "needs_background": "light"
     },
     "output_type": "display_data"
    }
   ],
   "source": [
    "data.set_index('dateTime').groupby(pd.Grouper(freq='1D')).word.count().plot()"
   ]
  },
  {
   "cell_type": "code",
   "execution_count": 75,
   "id": "401a4ac4",
   "metadata": {},
   "outputs": [
    {
     "data": {
      "text/plain": [
       "Text(0.5, 0, '')"
      ]
     },
     "execution_count": 75,
     "metadata": {},
     "output_type": "execute_result"
    },
    {
     "data": {
      "image/png": "[encoded data removed]",
      "text/plain": [
       "<Figure size 432x288 with 1 Axes>"
      ]
     },
     "metadata": {
      "needs_background": "light"
     },
     "output_type": "display_data"
    }
   ],
   "source": [
    "ax = data[data.dateTime < '2022-08-01'].set_index('dateTime').groupby(pd.Grouper(freq='1D')).word.count().rolling(7).mean().plot()\n",
    "ax.axvline(x='2022-06-15', color='grey', ls='--')\n",
    "ax.set_title('Occurences du mot climatique sur BFM TV')\n",
    "ax.set_xlabel('')"
   ]
  },
  {
   "cell_type": "code",
   "execution_count": 78,
   "id": "a374c9d4",
   "metadata": {},
   "outputs": [
    {
     "data": {
      "image/png": "[encoded data removed]",
      "text/plain": [
       "<Figure size 432x288 with 1 Axes>"
      ]
     },
     "metadata": {
      "needs_background": "light"
     },
     "output_type": "display_data"
    }
   ],
   "source": [
    "df = data[data.dateTime < '2022-08-01'].set_index('dateTime').groupby(pd.Grouper(freq='1D')).word.count()\n",
    "ax = df.plot(kind='bar')\n",
    "ax.set_title('Occurences du mot climatique sur BFM TV')\n",
    "ax.set_xlabel('')\n",
    "\n",
    "import matplotlib.ticker as mticker\n",
    "ticklabels = ['']*len(df)\n",
    "for k,date in enumerate(df.index):\n",
    "    if date.strftime('%d') == '01':\n",
    "        ticklabels[k] = date.strftime('%B')\n",
    "ax.xaxis.set_major_formatter(mticker.FixedFormatter(ticklabels))\n",
    "ax.figure.autofmt_xdate()"
   ]
  },
  {
   "cell_type": "code",
   "execution_count": 34,
   "id": "fa01231e",
   "metadata": {},
   "outputs": [],
   "source": [
    "data2 = pd.read_sql(f'''select * from core_word \n",
    "                       where lemma='giec' and channel_id=2 \n",
    "                       ''', db_lexico)"
   ]
  },
  {
   "cell_type": "code",
   "execution_count": 35,
   "id": "8763ab8c",
   "metadata": {},
   "outputs": [
    {
     "data": {
      "text/plain": [
       "225"
      ]
     },
     "execution_count": 35,
     "metadata": {},
     "output_type": "execute_result"
    }
   ],
   "source": [
    "len(data2)"
   ]
  },
  {
   "cell_type": "code",
   "execution_count": 36,
   "id": "7cb8bc49",
   "metadata": {},
   "outputs": [],
   "source": [
    "data2['dateTime'] = pd.to_datetime(data2['dateTime'])"
   ]
  },
  {
   "cell_type": "code",
   "execution_count": 80,
   "id": "ed4fa95b",
   "metadata": {},
   "outputs": [
    {
     "data": {
      "text/plain": [
       "Text(0.5, 0, '')"
      ]
     },
     "execution_count": 80,
     "metadata": {},
     "output_type": "execute_result"
    },
    {
     "data": {
      "image/png": "[encoded data removed]",
      "text/plain": [
       "<Figure size 432x288 with 1 Axes>"
      ]
     },
     "metadata": {
      "needs_background": "light"
     },
     "output_type": "display_data"
    }
   ],
   "source": [
    "ax = data2[data2.dateTime < '2022-08-01'].set_index('dateTime').groupby(pd.Grouper(freq='1D')).word.count().rolling(7).mean().plot()\n",
    "ax.axvline(x='2022-06-15', color='grey', ls='--')\n",
    "ax.set_title('Occurences du mot GIEC sur BFM TV')\n",
    "ax.set_xlabel('')"
   ]
  },
  {
   "cell_type": "code",
   "execution_count": 79,
   "id": "eaf59d6e",
   "metadata": {},
   "outputs": [
    {
     "data": {
      "image/png": "[encoded data removed]",
      "text/plain": [
       "<Figure size 432x288 with 1 Axes>"
      ]
     },
     "metadata": {
      "needs_background": "light"
     },
     "output_type": "display_data"
    }
   ],
   "source": [
    "df = data2[data2.dateTime < '2022-08-01'].set_index('dateTime').groupby(pd.Grouper(freq='1D')).word.count()\n",
    "ax = df.plot(kind='bar')\n",
    "ax.set_title('Occurences du mot GIEC sur BFM TV')\n",
    "ax.set_xlabel('')\n",
    "\n",
    "import matplotlib.ticker as mticker\n",
    "ticklabels = ['']*len(df)\n",
    "for k,date in enumerate(df.index):\n",
    "    if date.strftime('%d') == '01':\n",
    "        ticklabels[k] = date.strftime('%B')\n",
    "ax.xaxis.set_major_formatter(mticker.FixedFormatter(ticklabels))\n",
    "ax.figure.autofmt_xdate()"
   ]
  },
  {
   "cell_type": "markdown",
   "id": "7bf047ea",
   "metadata": {},
   "source": [
    "# data quality"
   ]
  },
  {
   "cell_type": "code",
   "execution_count": 120,
   "id": "222b3b57",
   "metadata": {},
   "outputs": [],
   "source": [
    "%% time\n",
    "data = pd.read_sql(f'''select * from core_word \n",
    "                       where lemma='bonjour' and channel_id in (1, 2, 3, 4) \n",
    "                       ''', db_lexico)"
   ]
  },
  {
   "cell_type": "code",
   "execution_count": 122,
   "id": "829af7fc",
   "metadata": {},
   "outputs": [
    {
     "data": {
      "text/plain": [
       "34075"
      ]
     },
     "execution_count": 122,
     "metadata": {},
     "output_type": "execute_result"
    }
   ],
   "source": [
    "len(data)"
   ]
  },
  {
   "cell_type": "code",
   "execution_count": 123,
   "id": "96ce2ff0",
   "metadata": {},
   "outputs": [],
   "source": [
    "data['channel'] = [channel[x] for x in data.channel_id]"
   ]
  },
  {
   "cell_type": "code",
   "execution_count": 124,
   "id": "1cfc510f",
   "metadata": {},
   "outputs": [
    {
     "data": {
      "text/plain": [
       "<matplotlib.legend.Legend at 0x7ff9018aac80>"
      ]
     },
     "execution_count": 124,
     "metadata": {},
     "output_type": "execute_result"
    },
    {
     "data": {
      "image/png": "[encoded data removed]",
      "text/plain": [
       "<Figure size 432x288 with 1 Axes>"
      ]
     },
     "metadata": {
      "needs_background": "light"
     },
     "output_type": "display_data"
    }
   ],
   "source": [
    "ax = data.groupby('channel').apply(lambda x: x.set_index('dateTime').groupby(pd.Grouper(freq='1D')).word.count().rolling(7).mean().plot(legend=True, label=x.channel.iloc[0]))\n",
    "ax[0].legend(bbox_to_anchor=(1.4, 1))"
   ]
  },
  {
   "cell_type": "markdown",
   "id": "82cd6e13",
   "metadata": {},
   "source": [
    "# biodiversité"
   ]
  },
  {
   "cell_type": "code",
   "execution_count": 126,
   "id": "ff322add",
   "metadata": {},
   "outputs": [],
   "source": [
    "data = pd.read_sql(f'''select * from core_word \n",
    "                       where lemma='biodiversité' and channel_id in (1, 2, 3, 4) \n",
    "                       ''', db_lexico)"
   ]
  },
  {
   "cell_type": "code",
   "execution_count": 127,
   "id": "9bf44764",
   "metadata": {},
   "outputs": [
    {
     "data": {
      "text/plain": [
       "1385"
      ]
     },
     "execution_count": 127,
     "metadata": {},
     "output_type": "execute_result"
    }
   ],
   "source": [
    "len(data)"
   ]
  },
  {
   "cell_type": "code",
   "execution_count": 128,
   "id": "a3b5003d",
   "metadata": {},
   "outputs": [],
   "source": [
    "channel = {\n",
    "    1: 'CNEWS',\n",
    "    2: 'BFMTV',\n",
    "    3: 'FRANCE INFO',\n",
    "    4: 'LCI'\n",
    "}"
   ]
  },
  {
   "cell_type": "code",
   "execution_count": 129,
   "id": "937bdae1",
   "metadata": {},
   "outputs": [],
   "source": [
    "data['channel'] = [channel[x] for x in data.channel_id]"
   ]
  },
  {
   "cell_type": "code",
   "execution_count": 130,
   "id": "11810670",
   "metadata": {},
   "outputs": [
    {
     "data": {
      "text/html": [
       "<div>\n",
       "<style scoped>\n",
       "    .dataframe tbody tr th:only-of-type {\n",
       "        vertical-align: middle;\n",
       "    }\n",
       "\n",
       "    .dataframe tbody tr th {\n",
       "        vertical-align: top;\n",
       "    }\n",
       "\n",
       "    .dataframe thead th {\n",
       "        text-align: right;\n",
       "    }\n",
       "</style>\n",
       "<table border=\"1\" class=\"dataframe\">\n",
       "  <thead>\n",
       "    <tr style=\"text-align: right;\">\n",
       "      <th></th>\n",
       "      <th>id</th>\n",
       "      <th>dateTime</th>\n",
       "      <th>word</th>\n",
       "      <th>lemma</th>\n",
       "      <th>channel_id</th>\n",
       "      <th>channel</th>\n",
       "    </tr>\n",
       "  </thead>\n",
       "  <tbody>\n",
       "    <tr>\n",
       "      <th>0</th>\n",
       "      <td>165054878</td>\n",
       "      <td>2022-03-17 14:08:14.934497+00:00</td>\n",
       "      <td>biodiversité</td>\n",
       "      <td>biodiversité</td>\n",
       "      <td>2</td>\n",
       "      <td>BFMTV</td>\n",
       "    </tr>\n",
       "    <tr>\n",
       "      <th>1</th>\n",
       "      <td>165055046</td>\n",
       "      <td>2022-03-17 14:08:15.365787+00:00</td>\n",
       "      <td>biodiversité</td>\n",
       "      <td>biodiversité</td>\n",
       "      <td>1</td>\n",
       "      <td>CNEWS</td>\n",
       "    </tr>\n",
       "    <tr>\n",
       "      <th>2</th>\n",
       "      <td>165054741</td>\n",
       "      <td>2022-03-17 14:08:20.510696+00:00</td>\n",
       "      <td>biodiversité</td>\n",
       "      <td>biodiversité</td>\n",
       "      <td>4</td>\n",
       "      <td>LCI</td>\n",
       "    </tr>\n",
       "    <tr>\n",
       "      <th>3</th>\n",
       "      <td>165054593</td>\n",
       "      <td>2022-03-17 14:08:20.926745+00:00</td>\n",
       "      <td>biodiversité</td>\n",
       "      <td>biodiversité</td>\n",
       "      <td>3</td>\n",
       "      <td>FRANCE INFO</td>\n",
       "    </tr>\n",
       "    <tr>\n",
       "      <th>4</th>\n",
       "      <td>166045849</td>\n",
       "      <td>2022-03-18 07:26:44.230494+00:00</td>\n",
       "      <td>biodiversité</td>\n",
       "      <td>biodiversité</td>\n",
       "      <td>1</td>\n",
       "      <td>CNEWS</td>\n",
       "    </tr>\n",
       "  </tbody>\n",
       "</table>\n",
       "</div>"
      ],
      "text/plain": [
       "          id                         dateTime          word         lemma  \\\n",
       "0  165054878 2022-03-17 14:08:14.934497+00:00  biodiversité  biodiversité   \n",
       "1  165055046 2022-03-17 14:08:15.365787+00:00  biodiversité  biodiversité   \n",
       "2  165054741 2022-03-17 14:08:20.510696+00:00  biodiversité  biodiversité   \n",
       "3  165054593 2022-03-17 14:08:20.926745+00:00  biodiversité  biodiversité   \n",
       "4  166045849 2022-03-18 07:26:44.230494+00:00  biodiversité  biodiversité   \n",
       "\n",
       "   channel_id      channel  \n",
       "0           2        BFMTV  \n",
       "1           1        CNEWS  \n",
       "2           4          LCI  \n",
       "3           3  FRANCE INFO  \n",
       "4           1        CNEWS  "
      ]
     },
     "execution_count": 130,
     "metadata": {},
     "output_type": "execute_result"
    }
   ],
   "source": [
    "data.head()"
   ]
  },
  {
   "cell_type": "code",
   "execution_count": 131,
   "id": "c7447bf2",
   "metadata": {},
   "outputs": [],
   "source": [
    "data_ok = data[(data.channel != 'LCI') & (data.dateTime < '2022-08-01')]"
   ]
  },
  {
   "cell_type": "code",
   "execution_count": 140,
   "id": "b941784e",
   "metadata": {},
   "outputs": [
    {
     "data": {
      "text/plain": [
       "Text(0.5, 1.0, \"Occurences du mot 'biodiversité'\")"
      ]
     },
     "execution_count": 140,
     "metadata": {},
     "output_type": "execute_result"
    },
    {
     "data": {
      "image/png": "[encoded data removed]",
      "text/plain": [
       "<Figure size 432x288 with 1 Axes>"
      ]
     },
     "metadata": {
      "needs_background": "light"
     },
     "output_type": "display_data"
    }
   ],
   "source": [
    "axs = data_ok.groupby('channel').apply(lambda x: x.set_index('dateTime').groupby(pd.Grouper(freq='1D')).word.count().rolling(7).mean().plot(legend=True, label=x.channel.iloc[0]))\n",
    "ax = axs[0]\n",
    "ax.legend(bbox_to_anchor=(1.4, 1))\n",
    "ax.set_title(\"Occurences du mot 'biodiversité'\")"
   ]
  }
 ],
 "metadata": {
  "kernelspec": {
   "display_name": "Python 3 (ipykernel)",
   "language": "python",
   "name": "python3"
  },
  "language_info": {
   "codemirror_mode": {
    "name": "ipython",
    "version": 3
   },
   "file_extension": ".py",
   "mimetype": "text/x-python",
   "name": "python",
   "nbconvert_exporter": "python",
   "pygments_lexer": "ipython3",
   "version": "3.10.4"
  },
  "toc": {
   "base_numbering": 1,
   "nav_menu": {},
   "number_sections": true,
   "sideBar": true,
   "skip_h1_title": false,
   "title_cell": "Table of Contents",
   "title_sidebar": "Contents",
   "toc_cell": false,
   "toc_position": {},
   "toc_section_display": true,
   "toc_window_display": true
  }
 },
 "nbformat": 4,
 "nbformat_minor": 5
}
